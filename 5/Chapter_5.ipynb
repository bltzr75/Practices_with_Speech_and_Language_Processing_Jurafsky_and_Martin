{
  "nbformat": 4,
  "nbformat_minor": 0,
  "metadata": {
    "colab": {
      "provenance": []
    },
    "kernelspec": {
      "name": "python3",
      "display_name": "Python 3"
    },
    "language_info": {
      "name": "python"
    }
  },
  "cells": [
    {
      "cell_type": "code",
      "source": [
        "import numpy as np\n",
        "import matplotlib.pyplot as plt"
      ],
      "metadata": {
        "id": "sOjyTySXQLPC"
      },
      "execution_count": 1,
      "outputs": []
    },
    {
      "cell_type": "markdown",
      "source": [
        "## Sigmoid Function"
      ],
      "metadata": {
        "id": "5mjUeOuVaQxb"
      }
    },
    {
      "cell_type": "code",
      "source": [
        "def sigmoid(z):\n",
        "  \"\"\"\n",
        "  Sigmoid Function: σ(z) = 1 / (1 + e^(-z))\n",
        "  Maps any real value to the (0,1) range\n",
        "  \"\"\"\n",
        "\n",
        "  return 1 / (1 + np.exp(-z))"
      ],
      "metadata": {
        "id": "lG3rtefyQLLK"
      },
      "execution_count": 2,
      "outputs": []
    },
    {
      "cell_type": "code",
      "source": [
        "# Visualization\n",
        "z = np.linspace(-10,10,100) # 100 evenly spaced points between -10 and 10\n",
        "plt.figure(figsize=(8,5))\n",
        "plt.plot(z,sigmoid(z))\n",
        "plt.grid(True, alpha=0.3) # alpha is the transparency\n",
        "plt.xlabel(\"z\")\n",
        "plt.ylabel(\"σ(z)\")\n",
        "plt.title(\"Sigmoid Function\")\n",
        "plt.axhline(y=0.5, color='r', linestyle='--', alpha=0.5) # Adding horizontal line\n",
        "plt.axvline(x=0, color='r', linestyle='--', alpha=0.5) # Adding vertical line\n",
        "plt.show()"
      ],
      "metadata": {
        "colab": {
          "base_uri": "https://localhost:8080/",
          "height": 487
        },
        "id": "kkKNAKHAQLJB",
        "outputId": "5efdeaa9-7675-4750-9c57-2dac35a44567"
      },
      "execution_count": 9,
      "outputs": [
        {
          "output_type": "display_data",
          "data": {
            "text/plain": [
              "<Figure size 800x500 with 1 Axes>"
            ],
            "image/png": "[encoded data removed]"
          },
          "metadata": {}
        }
      ]
    },
    {
      "cell_type": "markdown",
      "source": [
        "### Testing the property: 1 - σ(x) = σ(-x)"
      ],
      "metadata": {
        "id": "uTp3ahS7ZjPb"
      }
    },
    {
      "cell_type": "code",
      "source": [
        "x = 3.14168\n",
        "print(f\"1 - σ({x}) = {1 - sigmoid(x):.6f}\")\n",
        "print(f\"σ(-{x}) = {sigmoid(-x):.6f}\")\n",
        "print(f\"Property holds: {np.isclose(1 - sigmoid(x), sigmoid(-x))}\")  # Check if values are approximately equal"
      ],
      "metadata": {
        "colab": {
          "base_uri": "https://localhost:8080/"
        },
        "id": "7S7oEDj0QLDj",
        "outputId": "bb8c1c3d-968a-4e92-fb58-d5764554645e"
      },
      "execution_count": 19,
      "outputs": [
        {
          "output_type": "stream",
          "name": "stdout",
          "text": [
            "1 - σ(3.14168) = 0.041420\n",
            "σ(-3.14168) = 0.041420\n",
            "Property holds: True\n"
          ]
        }
      ]
    },
    {
      "cell_type": "markdown",
      "source": [
        "##Sentiment Classification Example"
      ],
      "metadata": {
        "id": "cApWNYZ4aWRp"
      }
    },
    {
      "cell_type": "code",
      "source": [
        "class LogisticRegression:\n",
        "  def __init__(self, n_features):\n",
        "    \"\"\" Initializing weights and bias to zero\"\"\" ### In LogReg we initialize to 0 usually, but in deep learning to randomly close to 0 values breaking simmetry (if all weights started at zero, neurons would learn the same features)\n",
        "    self.w = np.zeros(n_features)\n",
        "    self.b = 0\n",
        "\n",
        "  def predict_proba(self,x):\n",
        "    \"\"\"\n",
        "    Compute P(y=1|x) with logistic regression\n",
        "    x: feature vector\n",
        "    \"\"\"\n",
        "\n",
        "    z = np.dot(self.w, x) + self.b # Linear combination: wx + b\n",
        "    return(sigmoid(z))\n",
        "\n",
        "  def predict(self,x):\n",
        "    \"\"\"Make binary the prediction using a .5 threshold\"\"\"\n",
        "    return 1 if self.predict_proba(x) > 0.5 else 0\n",
        "\n",
        "  def __call__(self):\n",
        "    return(\"Logistic Regression Model with Weights: \", self.w, \"Intercept:\", self.b)"
      ],
      "metadata": {
        "id": "8YJHM_y1QLA7"
      },
      "execution_count": 50,
      "outputs": []
    },
    {
      "cell_type": "code",
      "source": [
        "# Example from the book (sentiment analysis features)\n",
        "features = {\n",
        "    'positive_words': 3,      # Count of positive sentiment words\n",
        "    'negative_words': 2,      # Count of negative sentiment words\n",
        "    'has_no': 1,             # Binary: contains word \"no\"\n",
        "    'pronouns': 3,           # Count of 1st/2nd person pronouns\n",
        "    'has_exclamation': 0,    # Binary: contains \"!\"\n",
        "    'log_word_count': 4.19   # Log of document length\n",
        "}\n",
        "\n",
        "# Converting dic to numpy array (order matters)\n",
        "x = np.array([features['positive_words'],\n",
        "              features['negative_words'],\n",
        "              features['has_no'],\n",
        "              features['pronouns'],\n",
        "              features['has_exclamation'],\n",
        "              features['log_word_count']\n",
        "])\n",
        "\n",
        "# Creating model with weights from the book\n",
        "model = LogisticRegression(n_features=6)\n",
        "model.w = np.array([2.5, -5.0, -1.2, 0.5, 2.0, 0.7])  # Learned weights from the book\n",
        "model.b = 0.1\n",
        "\n",
        "print(model())\n",
        "\n",
        "# Calculate probabilities\n",
        "prob_positive = model.predict_proba(x)\n",
        "prob_negative = 1 - prob_positive\n",
        "\n",
        "print(f\"Feature vector x: {x}\")\n",
        "print(f\"Weights w: {model.w}\")\n",
        "print(f\"Bias b: {model.b}\")\n",
        "print(f\"z = w·x + b = {np.dot(model.w, x) + model.b:.3f}\")\n",
        "print(f\"P(positive|x) = {prob_positive:.2f}\")\n",
        "print(f\"P(negative|x) = {prob_negative:.2f}\")\n",
        "print(f\"Prediction: {'positive' if model.predict(x) == 1 else 'negative'}\")\n"
      ],
      "metadata": {
        "colab": {
          "base_uri": "https://localhost:8080/"
        },
        "id": "5fiWgcW5QK7S",
        "outputId": "b481db1a-07a2-412d-fd57-c9592bb47a7d"
      },
      "execution_count": 51,
      "outputs": [
        {
          "output_type": "stream",
          "name": "stdout",
          "text": [
            "('Logistic Regression Model with Weights: ', array([ 2.5, -5. , -1.2,  0.5,  2. ,  0.7]), 'Intercept:', 0.1)\n",
            "Feature vector x: [3.   2.   1.   3.   0.   4.19]\n",
            "Weights w: [ 2.5 -5.  -1.2  0.5  2.   0.7]\n",
            "Bias b: 0.1\n",
            "z = w·x + b = 0.833\n",
            "P(positive|x) = 0.70\n",
            "P(negative|x) = 0.30\n",
            "Prediction: positive\n"
          ]
        }
      ]
    },
    {
      "cell_type": "code",
      "source": [],
      "metadata": {
        "id": "2OxXSATCQK4V"
      },
      "execution_count": 51,
      "outputs": []
    },
    {
      "cell_type": "code",
      "source": [],
      "metadata": {
        "id": "E2uoAOsLQK1y"
      },
      "execution_count": null,
      "outputs": []
    },
    {
      "cell_type": "code",
      "source": [],
      "metadata": {
        "id": "nAKipfIeQKy2"
      },
      "execution_count": null,
      "outputs": []
    },
    {
      "cell_type": "code",
      "source": [],
      "metadata": {
        "id": "utXUB98mQKvS"
      },
      "execution_count": null,
      "outputs": []
    },
    {
      "cell_type": "code",
      "source": [],
      "metadata": {
        "id": "-EIh0WjgQKsq"
      },
      "execution_count": null,
      "outputs": []
    },
    {
      "cell_type": "code",
      "source": [],
      "metadata": {
        "id": "ACVJyD1GQKm-"
      },
      "execution_count": null,
      "outputs": []
    },
    {
      "cell_type": "code",
      "source": [],
      "metadata": {
        "id": "RN1K-h0iQKk-"
      },
      "execution_count": null,
      "outputs": []
    },
    {
      "cell_type": "code",
      "source": [],
      "metadata": {
        "id": "WUx0TK4GQKjC"
      },
      "execution_count": null,
      "outputs": []
    },
    {
      "cell_type": "code",
      "source": [],
      "metadata": {
        "id": "Zya8oNTgQKfL"
      },
      "execution_count": null,
      "outputs": []
    },
    {
      "cell_type": "code",
      "source": [],
      "metadata": {
        "id": "v3EeR1SDQKcI"
      },
      "execution_count": null,
      "outputs": []
    },
    {
      "cell_type": "code",
      "source": [],
      "metadata": {
        "id": "ng87nhU8QKad"
      },
      "execution_count": null,
      "outputs": []
    },
    {
      "cell_type": "code",
      "source": [],
      "metadata": {
        "id": "YGlDDdlwQKWb"
      },
      "execution_count": null,
      "outputs": []
    },
    {
      "cell_type": "code",
      "source": [],
      "metadata": {
        "id": "zIHpCKhZQKUM"
      },
      "execution_count": null,
      "outputs": []
    },
    {
      "cell_type": "code",
      "source": [],
      "metadata": {
        "id": "m-VvBTrCQKSn"
      },
      "execution_count": null,
      "outputs": []
    },
    {
      "cell_type": "code",
      "source": [],
      "metadata": {
        "id": "lBgyeyfQQKPS"
      },
      "execution_count": null,
      "outputs": []
    },
    {
      "cell_type": "code",
      "source": [],
      "metadata": {
        "id": "JEH3jR6iQKM-"
      },
      "execution_count": null,
      "outputs": []
    },
    {
      "cell_type": "code",
      "source": [],
      "metadata": {
        "id": "ICSUD_WvQKK-"
      },
      "execution_count": null,
      "outputs": []
    }
  ]
}