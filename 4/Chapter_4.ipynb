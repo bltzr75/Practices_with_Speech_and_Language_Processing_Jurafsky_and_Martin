{
  "nbformat": 4,
  "nbformat_minor": 0,
  "metadata": {
    "colab": {
      "provenance": []
    },
    "kernelspec": {
      "name": "python3",
      "display_name": "Python 3"
    },
    "language_info": {
      "name": "python"
    }
  },
  "cells": [
    {
      "cell_type": "markdown",
      "source": [
        "## Import libs and downloads\n",
        "\n"
      ],
      "metadata": {
        "id": "nXDr8edrYPfL"
      }
    },
    {
      "cell_type": "code",
      "execution_count": 123,
      "metadata": {
        "id": "L_5Ye8_W9wfB"
      },
      "outputs": [],
      "source": [
        "import numpy as np\n",
        "import pandas as pd\n",
        "\n",
        "from sklearn.feature_extraction.text import CountVectorizer, TfidfVectorizer # Text to num feature conversion\n",
        "from sklearn.naive_bayes import MultinomialNB # Standard multinomial naive Bayes described in the chapter - uses word counts/frequencies as features\n",
        "from sklearn.naive_bayes import BernoulliNB #  \"Multivariate Bernoulli naive Bayes\" (different from binary multinomial NB) - estimates P(w|c) as the fraction of documents containing a term and includes probability for term absence\n",
        "from sklearn.model_selection import train_test_split, cross_val_score # Data splitting and validation\n",
        "from sklearn.metrics import precision_recall_fscore_support, confusion_matrix, classification_report\n",
        "from sklearn.model_selection import cross_val_score, StratifiedKFold\n",
        "\n",
        "\n",
        "\n",
        "import nltk # nat lang tool kit\n",
        "from nltk.corpus import stopwords\n",
        "\n",
        "import re\n",
        "\n",
        "import seaborn as sns\n",
        "import matplotlib.pyplot as plt\n",
        "\n",
        "import random\n",
        "from scipy import stats"
      ]
    },
    {
      "cell_type": "code",
      "source": [
        "# Download required NLTK data (one-time setup)\n",
        "nltk.download('stopwords')"
      ],
      "metadata": {
        "colab": {
          "base_uri": "https://localhost:8080/"
        },
        "id": "Fgot1or8VDHI",
        "outputId": "523ac10b-1d0e-4ad9-9420-f668ba223325"
      },
      "execution_count": 40,
      "outputs": [
        {
          "output_type": "stream",
          "name": "stderr",
          "text": [
            "[nltk_data] Downloading package stopwords to /root/nltk_data...\n",
            "[nltk_data]   Package stopwords is already up-to-date!\n"
          ]
        },
        {
          "output_type": "execute_result",
          "data": {
            "text/plain": [
              "True"
            ]
          },
          "metadata": {},
          "execution_count": 40
        }
      ]
    },
    {
      "cell_type": "markdown",
      "source": [
        "## Text sample with ground truth/gold labels"
      ],
      "metadata": {
        "id": "Qs3mFXy_YZx3"
      }
    },
    {
      "cell_type": "code",
      "source": [
        "# Each text represents a document to classify - EXPANDED DATASET\n",
        "texts = [\n",
        "    \"I love this movie! It's sweet, but with satirical humor.\",  # Positive sentiment\n",
        "    \"The dialogue is great and the adventure scenes are fun.\",   # Positive sentiment\n",
        "    \"It was pathetic. The worst part about it was the boxing scenes.\",  # Negative sentiment\n",
        "    \"No plot twists or great scenes. Entirely predictable.\",     # Negative sentiment\n",
        "    \"Awesome caramel sauce and sweet toasty almonds. I love this place!\",  # Positive sentiment\n",
        "    \"Awful pizza and ridiculously overpriced food.\",            # Negative sentiment\n",
        "    \"Very powerful and the most fun film of the summer.\",       # Positive sentiment\n",
        "    \"Just plain boring and lacks energy. No surprises.\",        # Negative sentiment\n",
        "\n",
        "    # Additional positive examples\n",
        "    \"Absolutely fantastic! Best movie I've seen this year.\",     # Positive sentiment\n",
        "    \"Brilliant acting and wonderful cinematography throughout.\",  # Positive sentiment\n",
        "    \"Perfect blend of comedy and drama. Highly recommend!\",      # Positive sentiment\n",
        "    \"Outstanding performance by the lead actor. Amazing!\",      # Positive sentiment\n",
        "    \"Incredible storyline that kept me engaged until the end.\",  # Positive sentiment\n",
        "    \"Beautiful soundtrack and excellent direction. Loved it!\",   # Positive sentiment\n",
        "\n",
        "    # Additional negative examples\n",
        "    \"Terrible acting and a completely boring plot.\",            # Negative sentiment\n",
        "    \"Worst restaurant experience ever. Food was disgusting.\",   # Negative sentiment\n",
        "    \"Completely disappointing. Waste of time and money.\",       # Negative sentiment\n",
        "    \"Poor service and the quality was absolutely horrible.\",    # Negative sentiment\n",
        "    \"Annoying characters and a ridiculous storyline.\",         # Negative sentiment\n",
        "    \"Frustrating experience. Nothing worked as expected.\",      # Negative sentiment\n",
        "\n",
        "    # Examples with negation for testing negation handling\n",
        "    \"Not bad, but could definitely be much better.\",            # Mixed/Negative sentiment\n",
        "    \"I don't hate it, but it's not great either.\",            # Mixed/Negative sentiment\n",
        "    \"Can't say I didn't enjoy parts of it.\",                   # Mixed/Positive sentiment\n",
        "    \"It's not terrible, actually quite entertaining.\",          # Positive sentiment\n",
        "]\n",
        "\n",
        "# Corresponding labels for each text (ground truth) - EXPANDED LABELS\n",
        "labels = ['positive', 'positive', 'negative', 'negative',\n",
        "          'positive', 'negative', 'positive', 'negative',\n",
        "          # Additional labels\n",
        "          'positive', 'positive', 'positive', 'positive',\n",
        "          'positive', 'positive', 'negative', 'negative',\n",
        "          'negative', 'negative', 'negative', 'negative',\n",
        "          # Negation examples - these are subjective, adjust as needed\n",
        "          'negative', 'negative', 'positive', 'positive']\n",
        "\n",
        "print(f\"Total documents: {len(texts)}\")\n",
        "print(f\"Total labels: {len(labels)}\")\n",
        "print(f\"Positive examples: {labels.count('positive')}\")\n",
        "print(f\"Negative examples: {labels.count('negative')}\")\n"
      ],
      "metadata": {
        "colab": {
          "base_uri": "https://localhost:8080/"
        },
        "id": "Ucf1CkPqURWz",
        "outputId": "ba96807e-f3e8-4ae5-9f13-c6f09d59dacf"
      },
      "execution_count": 41,
      "outputs": [
        {
          "output_type": "stream",
          "name": "stdout",
          "text": [
            "Total documents: 24\n",
            "Total labels: 24\n",
            "Positive examples: 12\n",
            "Negative examples: 12\n"
          ]
        }
      ]
    },
    {
      "cell_type": "markdown",
      "source": [
        "## Basic preprocessing"
      ],
      "metadata": {
        "id": "EmIkZl-xYfMS"
      }
    },
    {
      "cell_type": "code",
      "source": [
        "# Basic preprocessing like the one from the book\n",
        "def preprocess_text(text, remove_stopwords=False):\n",
        "  \"\"\"Clean and normalize text for processing\"\"\"\n",
        "\n",
        "  text = text.lower()\n",
        "  # Removing punctuation but keeping spaces and letters/numbers\n",
        "  text = re.sub(r'[^\\w\\s]','',text) ## caret = the opposite(in this case: non words, non spaces); \\w = words ; \\s = whitespaces\n",
        "\n",
        "  if remove_stopwords:\n",
        "    stop_words = set(stopwords.words('english'))\n",
        "    words = text.split()\n",
        "    text = ' '.join([word for word in words if word not in stop_words])\n",
        "\n",
        "\n",
        "  return text\n",
        "\n",
        "processed_texts = [preprocess_text(text) for text in texts]\n",
        "print(\"Processed texts: \" )\n",
        "print(processed_texts)"
      ],
      "metadata": {
        "colab": {
          "base_uri": "https://localhost:8080/"
        },
        "id": "OPXRPrpdVoll",
        "outputId": "41471f85-49c9-4709-859c-8c71209b7746"
      },
      "execution_count": 133,
      "outputs": [
        {
          "output_type": "stream",
          "name": "stdout",
          "text": [
            "Processed texts: \n",
            "['i love this movie its sweet but with satirical humor', 'the dialogue is great and the adventure scenes are fun', 'it was pathetic the worst part about it was the boxing scenes', 'no plot twists or great scenes entirely predictable', 'awesome caramel sauce and sweet toasty almonds i love this place', 'awful pizza and ridiculously overpriced food', 'very powerful and the most fun film of the summer', 'just plain boring and lacks energy no surprises', 'absolutely fantastic best movie ive seen this year', 'brilliant acting and wonderful cinematography throughout', 'perfect blend of comedy and drama highly recommend', 'outstanding performance by the lead actor amazing', 'incredible storyline that kept me engaged until the end', 'beautiful soundtrack and excellent direction loved it', 'terrible acting and a completely boring plot', 'worst restaurant experience ever food was disgusting', 'completely disappointing waste of time and money', 'poor service and the quality was absolutely horrible', 'annoying characters and a ridiculous storyline', 'frustrating experience nothing worked as expected', 'not bad but could definitely be much better', 'i dont hate it but its not great either', 'cant say i didnt enjoy parts of it', 'its not terrible actually quite entertaining']\n"
          ]
        }
      ]
    },
    {
      "cell_type": "markdown",
      "source": [
        "## Naive Bayes Algorithm"
      ],
      "metadata": {
        "id": "XgOEZG6JXRAY"
      }
    },
    {
      "cell_type": "code",
      "source": [
        "from collections import defaultdict, Counter\n",
        "import math # for log operations"
      ],
      "metadata": {
        "id": "PAChO576Wkkv"
      },
      "execution_count": 43,
      "outputs": []
    },
    {
      "cell_type": "code",
      "source": [
        "class NaiveBayesClassifier:\n",
        "  def __init__(self, smoothing=1):\n",
        "    self.smoothing = smoothing # default as laplace add-one\n",
        "    self.class_priors = {} # P(c) Prob of classes\n",
        "    self.word_likelihoods = defaultdict(dict) # P(w|c) Prob of the word given the class\n",
        "    self.vocabulary = set() # Cardinality/size of the vocabulary. Unique words\n",
        "\n",
        "  def train(self, texts, labels):\n",
        "    \"\"\" Train the Naive Bayes classifier\"\"\"\n",
        "\n",
        "    class_counts = Counter(labels) ## for the Prior probability. Would be: Counter({'positive': 4, 'negative': 4})\n",
        "    total_docs = len(labels)\n",
        "\n",
        "    # Calc Prior probability count(class)/total docs\n",
        "    for class_label, count in class_counts.items(): # dict_items([('positive', 4), ('negative', 4)])\n",
        "      self.class_priors[class_label] = count/total_docs # MLE for the probs of the classes or labels, using just the frequency\n",
        "      print(\"self.class_priors: \", str(self.class_priors))\n",
        "\n",
        "    class_word_counts = defaultdict(Counter) # Counts each word in each class\n",
        "    class_total_words = defaultdict(int) # Total words in each class\n",
        "\n",
        "    for text, label in zip(texts, labels):\n",
        "      words = text.split() # Tokenizing by split on whitespaces\n",
        "      for word in words:\n",
        "        self.vocabulary.add(word)\n",
        "        class_word_counts[label][word] +=1\n",
        "        class_total_words[label] += 1\n",
        "\n",
        "    # Calculate the word likelihoods P(w|c) using add-one (laplace) smoothing\n",
        "    vocab_size = len(self.vocabulary) # |V|\n",
        "    for class_label in class_counts:\n",
        "      for word in self.vocabulary:\n",
        "        count = class_word_counts[class_label][word] # Raw count of word in class\n",
        "        # (count + 1) / (total_words + |V|): it is the frequency of the word in the specific class, with an adding of smoothing to not have zeros\n",
        "        self.word_likelihoods[class_label][word] = (\n",
        "            (count + self.smoothing) /\n",
        "            (class_total_words[class_label] + vocab_size * self.smoothing)\n",
        "        )\n",
        "\n",
        "\n",
        "  def predict(self, text):\n",
        "    \"\"\"Predict the class for a given text using Naive Bayes\"\"\"\n",
        "\n",
        "    words = text.split()\n",
        "    class_scores = {} # For storing log probabilities per class, logs avoid underflow and other benefits\n",
        "\n",
        "    ## It will go summing up the logs of the probabilities instead of the raw probabilities\n",
        "    for class_label in self.class_priors:\n",
        "      score = math.log(self.class_priors[class_label]) # log P(c)\n",
        "\n",
        "      # Adding log likelihood for each word in the doc\n",
        "      for word in words:\n",
        "        if word in self.vocabulary: # Only known words, if not will be a problematic 0\n",
        "          score += math.log(self.word_likelihoods[class_label][word])\n",
        "\n",
        "      class_scores[class_label] = score # stores final score for the class\n",
        "\n",
        "    print(\"class_scores: \", str(class_scores))\n",
        "    print(\"class probs: \")\n",
        "    print({class_label: math.exp(log_prob) for class_label, log_prob in class_scores.items()} )\n",
        "\n",
        "    # Predicts/retrieves the class with the max probability scored from the class_scores. Argmax function\n",
        "    return max(class_scores, key=class_scores.get)\n",
        "\n"
      ],
      "metadata": {
        "id": "2q6uZ3aMXbiw"
      },
      "execution_count": 44,
      "outputs": []
    },
    {
      "cell_type": "code",
      "source": [
        "nb_classifier = NaiveBayesClassifier()\n",
        "nb_classifier.train(processed_texts, labels)\n"
      ],
      "metadata": {
        "colab": {
          "base_uri": "https://localhost:8080/"
        },
        "id": "JsN4oQp_kbI9",
        "outputId": "b21253da-045a-46c3-8731-504f9d2a28a7"
      },
      "execution_count": 45,
      "outputs": [
        {
          "output_type": "stream",
          "name": "stdout",
          "text": [
            "self.class_priors:  {'positive': 0.5}\n",
            "self.class_priors:  {'positive': 0.5, 'negative': 0.5}\n"
          ]
        }
      ]
    },
    {
      "cell_type": "code",
      "source": [
        "test_text = \"This movie... is... great and fun!\"\n",
        "prediction = nb_classifier.predict(preprocess_text(test_text))\n",
        "print(f\"\\nPrediction for '{test_text}': {prediction}\\n\")"
      ],
      "metadata": {
        "colab": {
          "base_uri": "https://localhost:8080/"
        },
        "id": "FSYgeLwrZh8t",
        "outputId": "19ccfa79-8374-4139-aa0b-0773b6cb6e18"
      },
      "execution_count": 46,
      "outputs": [
        {
          "output_type": "stream",
          "name": "stdout",
          "text": [
            "class_scores:  {'positive': -26.45784796192649, 'negative': -30.11850105396676}\n",
            "class probs: \n",
            "{'positive': 3.232232755505904e-12, 'negative': 8.311916831815432e-14}\n",
            "\n",
            "Prediction for 'This movie... is... great and fun!': positive\n",
            "\n"
          ]
        }
      ]
    },
    {
      "cell_type": "code",
      "source": [
        "test_text_2 = \"It was boring.\"\n",
        "prediction_2 = nb_classifier.predict(preprocess_text(test_text_2))\n",
        "print(f\"\\nPrediction for '{test_text_2}': {prediction_2}\\n\")\n"
      ],
      "metadata": {
        "colab": {
          "base_uri": "https://localhost:8080/"
        },
        "id": "hXaoEDG9kZ9r",
        "outputId": "5ffd71e3-5ea6-491e-add5-e285ffebe32e"
      },
      "execution_count": 47,
      "outputs": [
        {
          "output_type": "stream",
          "name": "stdout",
          "text": [
            "class_scores:  {'positive': -15.934747006890763, 'negative': -12.833740773902964}\n",
            "class probs: \n",
            "{'positive': 1.201233137890035e-07, 'negative': 2.669175929300293e-06}\n",
            "\n",
            "Prediction for 'It was boring.': negative\n",
            "\n"
          ]
        }
      ]
    },
    {
      "cell_type": "markdown",
      "source": [
        "## Handling Negation\n"
      ],
      "metadata": {
        "id": "BWLRTCWGeKEM"
      }
    },
    {
      "cell_type": "code",
      "source": [
        "def handle_negation(text):\n",
        "  \"\"\"\n",
        "  Implementation of negation handling as described in the book, section 4.4\n",
        "  Add NOT_ prefix to words after negation until punctuation\n",
        "  \"\"\"\n",
        "\n",
        "  # Words that indicate negation (from chapter examples)\n",
        "  negation_words = ['not', 'no', 'never', 'nothing', 'nowhere', 'nobody',\n",
        "                    'none', 'neither', 'nor', 'dont', \"don't\", 'didnt',\n",
        "                    \"didn't\", 'wont', \"won't\", 'cant', \"can't\"]\n",
        "\n",
        "  words = text.split() # Simple tonekizer for individual words\n",
        "  result = []\n",
        "  negated = False # Flag that sets scope of negation, starts with detected word and closes with punctuation\n",
        "\n",
        "\n",
        "  for word in words:\n",
        "    clean_word = re.sub('[^\\w]', '', word.lower()) # Cleaned to detect negation from the negation_words: lowercase and remove non-word chars\n",
        "\n",
        "    if clean_word in negation_words: ## Detected negation words\n",
        "      print(\"Detected negation: \", word)\n",
        "      negated = True # Changing flag\n",
        "      result.append(word) ## Adding the original negation word as it is\n",
        "\n",
        "    elif any(char in word for char in '.:,;!?'): ## Detected punctuation: Punctuation chars close the negated flag scope\n",
        "      print(\"Detected punctuation: \", word)\n",
        "      result.append(f\"NOT_{word}\" if negated else word)\n",
        "      negated = False # Changing flag\n",
        "\n",
        "\n",
        "    else: ## Detected common word: applying the _NOT prefic only if the negated flag is true\n",
        "      result.append(f\"NOT_{word}\" if negated else word)\n",
        "\n",
        "  return(' '.join(result))\n",
        "\n"
      ],
      "metadata": {
        "id": "cNxgbjmjg2on"
      },
      "execution_count": 48,
      "outputs": []
    },
    {
      "cell_type": "code",
      "source": [
        "# Example from the chapter\n",
        "text = \"didn't like this movie , but I\"\n",
        "negated_text = handle_negation(text)\n",
        "print(f\"Original: {text}\")\n",
        "print(f\"Negated:  {negated_text}\")  # Should show: didn't NOT_like NOT_this NOT_movie , but I"
      ],
      "metadata": {
        "colab": {
          "base_uri": "https://localhost:8080/"
        },
        "id": "7pxs6o_Pqk8C",
        "outputId": "1934e1f2-9b71-4373-ff21-b8bd5e63cc9b"
      },
      "execution_count": 49,
      "outputs": [
        {
          "output_type": "stream",
          "name": "stdout",
          "text": [
            "Detected negation:  didn't\n",
            "Detected punctuation:  ,\n",
            "Original: didn't like this movie , but I\n",
            "Negated:  didn't NOT_like NOT_this NOT_movie NOT_, but I\n"
          ]
        }
      ]
    },
    {
      "cell_type": "markdown",
      "source": [
        "## Binary vs. Multinomial Naive Bayes"
      ],
      "metadata": {
        "id": "GXkWDmYCvONp"
      }
    },
    {
      "cell_type": "code",
      "source": [
        "# Splitting data\n",
        "X_train, X_test, y_train, y_test = train_test_split(\n",
        "    processed_texts, labels, # Documents and their gold labels\n",
        "    test_size= 0.3,  # Splits by docs, not by words: 5 docs go to train, and 3 to test\n",
        "    random_state = 42\n",
        "    )\n"
      ],
      "metadata": {
        "id": "aHkJjz3-te9R"
      },
      "execution_count": 50,
      "outputs": []
    },
    {
      "cell_type": "markdown",
      "source": [
        "### Multinomial Naive Bayes (uses actual word counts)\n"
      ],
      "metadata": {
        "id": "SRTI_xj-1Fsa"
      }
    },
    {
      "cell_type": "code",
      "source": [
        "\n",
        "# Multinomial NB\n",
        "count_vectorizer = CountVectorizer() #  implements the bag of words by ignoring word order, counting frequencies, building a vocabulary, and converting texts to numerical vectors where each dimension represents word counts\n",
        "X_train_counts = count_vectorizer.fit_transform(X_train) # Creates sparse matrix for train data.  ## Example: \"(0, 13) 1 means Document 0, word at vocabulary index 13, appears 1 time\n",
        "X_test_counts  = count_vectorizer.transform(X_test) # Creates sparse matrix for test data\n",
        "\n"
      ],
      "metadata": {
        "id": "NLa9pumx1Ees"
      },
      "execution_count": 51,
      "outputs": []
    },
    {
      "cell_type": "code",
      "source": [
        "## sparse matrix\n",
        "print(\"X_train_counts:\", str(X_train_counts))  ## Example: \"(0, 13) 1 means Document 0, word at vocabulary index 13, appears 1 time\n",
        "print(\"X_test_counts:\", str(X_test_counts))"
      ],
      "metadata": {
        "colab": {
          "base_uri": "https://localhost:8080/"
        },
        "collapsed": true,
        "id": "zP3BLcfUvl1R",
        "outputId": "d485321c-5874-486c-e2cf-bae5a16a33ec"
      },
      "execution_count": 52,
      "outputs": [
        {
          "output_type": "stream",
          "name": "stdout",
          "text": [
            "X_train_counts: <Compressed Sparse Row sparse matrix of dtype 'int64'\n",
            "\twith 123 stored elements and shape (16, 95)>\n",
            "  Coords\tValues\n",
            "  (0, 24)\t1\n",
            "  (0, 41)\t1\n",
            "  (0, 45)\t1\n",
            "  (0, 15)\t1\n",
            "  (0, 46)\t1\n",
            "  (0, 55)\t1\n",
            "  (0, 40)\t1\n",
            "  (0, 26)\t1\n",
            "  (1, 8)\t1\n",
            "  (1, 64)\t1\n",
            "  (1, 5)\t1\n",
            "  (1, 75)\t1\n",
            "  (1, 59)\t1\n",
            "  (1, 37)\t1\n",
            "  (2, 45)\t2\n",
            "  (2, 92)\t2\n",
            "  (2, 62)\t1\n",
            "  (2, 86)\t2\n",
            "  (2, 94)\t1\n",
            "  (2, 60)\t1\n",
            "  (2, 0)\t1\n",
            "  (2, 14)\t1\n",
            "  (2, 78)\t1\n",
            "  (3, 86)\t1\n",
            "  (3, 44)\t1\n",
            "  :\t:\n",
            "  (12, 18)\t1\n",
            "  (12, 25)\t1\n",
            "  (12, 42)\t1\n",
            "  (12, 73)\t1\n",
            "  (13, 5)\t1\n",
            "  (13, 67)\t1\n",
            "  (13, 84)\t1\n",
            "  (13, 13)\t1\n",
            "  (13, 2)\t1\n",
            "  (13, 19)\t1\n",
            "  (14, 35)\t1\n",
            "  (14, 38)\t1\n",
            "  (14, 56)\t1\n",
            "  (14, 93)\t1\n",
            "  (14, 6)\t1\n",
            "  (14, 34)\t1\n",
            "  (15, 5)\t1\n",
            "  (15, 86)\t2\n",
            "  (15, 57)\t1\n",
            "  (15, 91)\t1\n",
            "  (15, 69)\t1\n",
            "  (15, 52)\t1\n",
            "  (15, 39)\t1\n",
            "  (15, 36)\t1\n",
            "  (15, 81)\t1\n",
            "X_test_counts: <Compressed Sparse Row sparse matrix of dtype 'int64'\n",
            "\twith 22 stored elements and shape (8, 95)>\n",
            "  Coords\tValues\n",
            "  (0, 1)\t1\n",
            "  (0, 87)\t1\n",
            "  (1, 5)\t1\n",
            "  (1, 19)\t1\n",
            "  (1, 57)\t1\n",
            "  (2, 15)\t1\n",
            "  (2, 46)\t1\n",
            "  (2, 50)\t1\n",
            "  (2, 83)\t1\n",
            "  (2, 87)\t1\n",
            "  (3, 5)\t1\n",
            "  (3, 80)\t1\n",
            "  (4, 86)\t1\n",
            "  (5, 2)\t1\n",
            "  (5, 5)\t1\n",
            "  (6, 5)\t1\n",
            "  (6, 45)\t1\n",
            "  (7, 5)\t1\n",
            "  (7, 39)\t1\n",
            "  (7, 40)\t1\n",
            "  (7, 78)\t1\n",
            "  (7, 86)\t2\n"
          ]
        }
      ]
    },
    {
      "cell_type": "code",
      "source": [
        "\n",
        "multinomial_nb = MultinomialNB(alpha=1.0) # Smoothing of 1.0\n",
        "multinomial_nb.fit(X_train_counts, y_train)\n",
        "\n",
        "print(\"multinomial_nb trained:\\n\")\n",
        "\n",
        "# Show the key attributes of the trained model\n",
        "print(\"Classes:\", multinomial_nb.classes_)  # Class labels ['negative', 'positive']\n",
        "\n",
        "print(\"\\nClass log priors:\", multinomial_nb.class_log_prior_)  # log P(c) for each class\n",
        "print(\"Class priors (actual):\", np.exp(multinomial_nb.class_log_prior_))  # P(c)\n",
        "\n",
        "print(\"\\nVocabulary size:\", len(count_vectorizer.vocabulary_))  # Number of unique words\n",
        "print(\"Feature names (first 10):\", count_vectorizer.get_feature_names_out()[:10])  # First 10 words\n",
        "\n",
        "print(\"\\nFeature log probabilities shape:\", multinomial_nb.feature_log_prob_.shape)  # (classes, features)\n",
        "# This is log P(word|class) for each word in each class\n",
        "\n",
        "# Example: probability of first few words given each class\n",
        "for i, class_name in enumerate(multinomial_nb.classes_):\n",
        "    print(f\"\\n{class_name} class - first word in probability:\")\n",
        "    for j in range(1):\n",
        "        word = count_vectorizer.get_feature_names_out()[j]\n",
        "        log_prob = multinomial_nb.feature_log_prob_[i][j]\n",
        "        actual_prob = np.exp(log_prob)\n",
        "        print(f\"  P('{word}'|{class_name}) = {actual_prob:.6f}\")"
      ],
      "metadata": {
        "colab": {
          "base_uri": "https://localhost:8080/"
        },
        "id": "A-MII7LRwsWe",
        "outputId": "d7583de8-024a-404b-f064-35a6b49d0307"
      },
      "execution_count": 53,
      "outputs": [
        {
          "output_type": "stream",
          "name": "stdout",
          "text": [
            "multinomial_nb trained:\n",
            "\n",
            "Classes: ['negative' 'positive']\n",
            "\n",
            "Class log priors: [-0.47000363 -0.98082925]\n",
            "Class priors (actual): [0.625 0.375]\n",
            "\n",
            "Vocabulary size: 95\n",
            "Feature names (first 10): ['about' 'absolutely' 'acting' 'actually' 'almonds' 'and' 'as' 'awesome'\n",
            " 'awful' 'bad']\n",
            "\n",
            "Feature log probabilities shape: (2, 95)\n",
            "\n",
            "negative class - first word in probability:\n",
            "  P('about'|negative) = 0.011628\n",
            "\n",
            "positive class - first word in probability:\n",
            "  P('about'|positive) = 0.006897\n"
          ]
        }
      ]
    },
    {
      "cell_type": "markdown",
      "source": [
        "#### Binary Naive Bayes (uses only presence/absence of words)\n"
      ],
      "metadata": {
        "id": "8vWn9eTt1KrS"
      }
    },
    {
      "cell_type": "code",
      "source": [
        "binary_vectorizer = CountVectorizer(binary=True) # binary=True converts counts to just 0 or 1\n",
        "X_train_binary = binary_vectorizer.fit_transform(X_train)\n",
        "X_test_binary = binary_vectorizer.transform(X_test)"
      ],
      "metadata": {
        "id": "PezBOL_NzXc4"
      },
      "execution_count": 54,
      "outputs": []
    },
    {
      "cell_type": "code",
      "source": [
        "print(\"X_train_binary:\", str(X_train_binary))\n",
        "print(\"X_test_binary:\", str(X_test_binary))"
      ],
      "metadata": {
        "colab": {
          "base_uri": "https://localhost:8080/"
        },
        "collapsed": true,
        "id": "FwAoD0vb1jBt",
        "outputId": "af05940f-e90d-4997-bc88-054299d5ca2a"
      },
      "execution_count": 55,
      "outputs": [
        {
          "output_type": "stream",
          "name": "stdout",
          "text": [
            "X_train_binary: <Compressed Sparse Row sparse matrix of dtype 'int64'\n",
            "\twith 123 stored elements and shape (16, 95)>\n",
            "  Coords\tValues\n",
            "  (0, 24)\t1\n",
            "  (0, 41)\t1\n",
            "  (0, 45)\t1\n",
            "  (0, 15)\t1\n",
            "  (0, 46)\t1\n",
            "  (0, 55)\t1\n",
            "  (0, 40)\t1\n",
            "  (0, 26)\t1\n",
            "  (1, 8)\t1\n",
            "  (1, 64)\t1\n",
            "  (1, 5)\t1\n",
            "  (1, 75)\t1\n",
            "  (1, 59)\t1\n",
            "  (1, 37)\t1\n",
            "  (2, 45)\t1\n",
            "  (2, 92)\t1\n",
            "  (2, 62)\t1\n",
            "  (2, 86)\t1\n",
            "  (2, 94)\t1\n",
            "  (2, 60)\t1\n",
            "  (2, 0)\t1\n",
            "  (2, 14)\t1\n",
            "  (2, 78)\t1\n",
            "  (3, 86)\t1\n",
            "  (3, 44)\t1\n",
            "  :\t:\n",
            "  (12, 18)\t1\n",
            "  (12, 25)\t1\n",
            "  (12, 42)\t1\n",
            "  (12, 73)\t1\n",
            "  (13, 5)\t1\n",
            "  (13, 67)\t1\n",
            "  (13, 84)\t1\n",
            "  (13, 13)\t1\n",
            "  (13, 2)\t1\n",
            "  (13, 19)\t1\n",
            "  (14, 35)\t1\n",
            "  (14, 38)\t1\n",
            "  (14, 56)\t1\n",
            "  (14, 93)\t1\n",
            "  (14, 6)\t1\n",
            "  (14, 34)\t1\n",
            "  (15, 5)\t1\n",
            "  (15, 86)\t1\n",
            "  (15, 57)\t1\n",
            "  (15, 91)\t1\n",
            "  (15, 69)\t1\n",
            "  (15, 52)\t1\n",
            "  (15, 39)\t1\n",
            "  (15, 36)\t1\n",
            "  (15, 81)\t1\n",
            "X_test_binary: <Compressed Sparse Row sparse matrix of dtype 'int64'\n",
            "\twith 22 stored elements and shape (8, 95)>\n",
            "  Coords\tValues\n",
            "  (0, 1)\t1\n",
            "  (0, 87)\t1\n",
            "  (1, 5)\t1\n",
            "  (1, 19)\t1\n",
            "  (1, 57)\t1\n",
            "  (2, 15)\t1\n",
            "  (2, 46)\t1\n",
            "  (2, 50)\t1\n",
            "  (2, 83)\t1\n",
            "  (2, 87)\t1\n",
            "  (3, 5)\t1\n",
            "  (3, 80)\t1\n",
            "  (4, 86)\t1\n",
            "  (5, 2)\t1\n",
            "  (5, 5)\t1\n",
            "  (6, 5)\t1\n",
            "  (6, 45)\t1\n",
            "  (7, 5)\t1\n",
            "  (7, 39)\t1\n",
            "  (7, 40)\t1\n",
            "  (7, 78)\t1\n",
            "  (7, 86)\t1\n"
          ]
        }
      ]
    },
    {
      "cell_type": "code",
      "source": [
        "binary_nb = BernoulliNB(alpha=1.0) # Binary variant of NB\n",
        "binary_nb.fit(X_train_binary, y_train)\n",
        "\n",
        "\n",
        "print(\"binary_nb trained:\\n\")\n",
        "\n",
        "# Show the key attributes of the trained BernoulliNB model\n",
        "print(\"Classes:\", binary_nb.classes_)  # Class labels ['negative', 'positive']\n",
        "\n",
        "print(\"\\nClass log priors:\", binary_nb.class_log_prior_)  # log P(c) for each class\n",
        "print(\"Class priors (actual):\", np.exp(binary_nb.class_log_prior_))  # P(c)\n",
        "\n",
        "print(\"\\nVocabulary size:\", len(binary_vectorizer.vocabulary_))  # Number of unique words\n",
        "print(\"Feature names (first word):\", binary_vectorizer.get_feature_names_out()[0])  # First word\n",
        "\n",
        "print(\"\\nFeature log probabilities shape:\", binary_nb.feature_log_prob_.shape)  # (classes, features)\n",
        "# This is log P(word_present|class) for binary features\n",
        "\n",
        "# Example: probability of first word being present given each class\n",
        "for i, class_name in enumerate(binary_nb.classes_):\n",
        "    print(f\"\\n{class_name} class - first word presence probability:\")\n",
        "    word = binary_vectorizer.get_feature_names_out()[0]\n",
        "    log_prob = binary_nb.feature_log_prob_[i][0]\n",
        "    actual_prob = np.exp(log_prob)\n",
        "    print(f\"  P('{word}' present|{class_name}) = {actual_prob:.6f}\")"
      ],
      "metadata": {
        "colab": {
          "base_uri": "https://localhost:8080/"
        },
        "id": "Y3-06MRt1lGC",
        "outputId": "ef05bae3-3b23-448a-d724-898e006aac9c"
      },
      "execution_count": 56,
      "outputs": [
        {
          "output_type": "stream",
          "name": "stdout",
          "text": [
            "binary_nb trained:\n",
            "\n",
            "Classes: ['negative' 'positive']\n",
            "\n",
            "Class log priors: [-0.47000363 -0.98082925]\n",
            "Class priors (actual): [0.625 0.375]\n",
            "\n",
            "Vocabulary size: 95\n",
            "Feature names (first word): about\n",
            "\n",
            "Feature log probabilities shape: (2, 95)\n",
            "\n",
            "negative class - first word presence probability:\n",
            "  P('about' present|negative) = 0.166667\n",
            "\n",
            "positive class - first word presence probability:\n",
            "  P('about' present|positive) = 0.125000\n"
          ]
        }
      ]
    },
    {
      "cell_type": "code",
      "source": [],
      "metadata": {
        "id": "TRNkn08c20vp"
      },
      "execution_count": 56,
      "outputs": []
    },
    {
      "cell_type": "markdown",
      "source": [
        "### Compare the predictions from both approaches\n"
      ],
      "metadata": {
        "id": "txbux4b8222D"
      }
    },
    {
      "cell_type": "code",
      "source": [
        "y_test"
      ],
      "metadata": {
        "colab": {
          "base_uri": "https://localhost:8080/"
        },
        "id": "3pPSTNJb2-hL",
        "outputId": "d40c8c91-b2a1-427f-f319-be6bab5d3e84"
      },
      "execution_count": 57,
      "outputs": [
        {
          "output_type": "execute_result",
          "data": {
            "text/plain": [
              "['positive',\n",
              " 'negative',\n",
              " 'positive',\n",
              " 'negative',\n",
              " 'positive',\n",
              " 'positive',\n",
              " 'positive',\n",
              " 'positive']"
            ]
          },
          "metadata": {},
          "execution_count": 57
        }
      ]
    },
    {
      "cell_type": "code",
      "source": [
        "print(\"Multinomial NB predictions:\", multinomial_nb.predict(X_test_counts))\n",
        "print(\"Binary NB predictions:\", binary_nb.predict(X_test_binary))"
      ],
      "metadata": {
        "colab": {
          "base_uri": "https://localhost:8080/"
        },
        "id": "CBuMnj4_2NZQ",
        "outputId": "41fb48dc-f379-4d37-ebbb-708e3805f6f3"
      },
      "execution_count": 58,
      "outputs": [
        {
          "output_type": "stream",
          "name": "stdout",
          "text": [
            "Multinomial NB predictions: ['negative' 'positive' 'positive' 'positive' 'negative' 'negative'\n",
            " 'negative' 'negative']\n",
            "Binary NB predictions: ['negative' 'negative' 'negative' 'negative' 'negative' 'negative'\n",
            " 'negative' 'negative']\n"
          ]
        }
      ]
    },
    {
      "cell_type": "markdown",
      "source": [
        "##Evaluation Metrics"
      ],
      "metadata": {
        "id": "4xIufncbmHC7"
      }
    },
    {
      "cell_type": "code",
      "source": [
        "def evaluate_classifier(classifier, X_test, y_test, class_names):\n",
        "  \"\"\"Comprehensive evaluation as described in the book\"\"\"\n",
        "\n",
        "  y_pred = classifier.predict(X_test)\n",
        "\n",
        "  print(\"\\nclassification_report:\")\n",
        "  print(classification_report(y_test, y_pred, target_names=class_names))\n",
        "  print(\"\\n\\n\")\n",
        "\n",
        "  # Precision, Recall and F1-score, support (Number of observations, helps seeing imbalance)\n",
        "  precision, recall, f1, support = precision_recall_fscore_support(\n",
        "    y_test, y_pred, average = None, labels = class_names)\n",
        "\n",
        "  # Macro and Micro Averages\n",
        "  macro_f1 = precision_recall_fscore_support(y_test, y_pred, average='macro')[2]\n",
        "  micro_f1 = precision_recall_fscore_support(y_test, y_pred, average='micro')[2]\n",
        "\n",
        "\n",
        "  print(\"\\nEvaluation Rsults:\\n\")\n",
        "  print(\"-\"*50)\n",
        "  for i, class_name in enumerate(class_names):\n",
        "    print(f\"{class_name:>10}: Precision={precision[i]:.3f}, \"\n",
        "          f\"Recall={recall[i]:.3f}, F1-Score={f1[i]:.3f}\")\n",
        "\n",
        "  print(f\"\\nMacro-Averaged F1: {macro_f1:.3f}\")  # Compute F1 for each class separately, then average. Better reflects performance on smaller classes.\n",
        "  print(f\"\\nMicro-Averaged F1: {micro_f1:.3f}\")  # Pool all predictions into one confusion matrix, then compute F1. Dominated by larger classes.\n",
        "\n",
        "  # Confusion Matrix\n",
        "  cm = confusion_matrix(y_test, y_pred, labels=class_names)\n",
        "  plt.figure(figsize=(8, 6))\n",
        "  sns.heatmap(cm, annot=True, fmt='d', cmap='Blues',\n",
        "              xticklabels=class_names, yticklabels=class_names)\n",
        "  plt.title('Confusion Matrix')\n",
        "  plt.ylabel('True Label')\n",
        "  plt.xlabel('Predicted Label')\n",
        "  plt.show()\n",
        "\n",
        "  return precision, recall, f1"
      ],
      "metadata": {
        "id": "PtFZLIhamUMX"
      },
      "execution_count": 131,
      "outputs": []
    },
    {
      "cell_type": "code",
      "source": [
        "### Just 24 documents gives a poor result but it is the correct one\n",
        "\n",
        "if len(X_test) > 0:\n",
        "  class_names = ['negative', 'positive']\n",
        "  print(\"=== MULTINOMIAL NB ===\")\n",
        "  evaluate_classifier(multinomial_nb, X_test_counts, y_test, class_names)\n",
        "\n",
        "  print(\"\\n=== BINARY NB ===\")\n",
        "  evaluate_classifier(binary_nb, X_test_binary, y_test, class_names)"
      ],
      "metadata": {
        "colab": {
          "base_uri": "https://localhost:8080/",
          "height": 1000
        },
        "id": "8_BcklShms5U",
        "outputId": "4d82323a-3ef7-4bf5-f4d1-4dc2ff701a0e"
      },
      "execution_count": 132,
      "outputs": [
        {
          "output_type": "stream",
          "name": "stdout",
          "text": [
            "=== MULTINOMIAL NB ===\n",
            "\n",
            "classification_report:\n",
            "              precision    recall  f1-score   support\n",
            "\n",
            "    negative       0.00      0.00      0.00         2\n",
            "    positive       0.33      0.17      0.22         6\n",
            "\n",
            "    accuracy                           0.12         8\n",
            "   macro avg       0.17      0.08      0.11         8\n",
            "weighted avg       0.25      0.12      0.17         8\n",
            "\n",
            "\n",
            "\n",
            "\n",
            "\n",
            "Evaluation Rsults:\n",
            "\n",
            "--------------------------------------------------\n",
            "  negative: Precision=0.000, Recall=0.000, F1-Score=0.000\n",
            "  positive: Precision=0.333, Recall=0.167, F1-Score=0.222\n",
            "\n",
            "Macro-Averaged F1: 0.111\n",
            "\n",
            "Micro-Averaged F1: 0.125\n"
          ]
        },
        {
          "output_type": "display_data",
          "data": {
            "text/plain": [
              "<Figure size 800x600 with 2 Axes>"
            ],
            "image/png": "[encoded data removed]"
          },
          "metadata": {}
        },
        {
          "output_type": "stream",
          "name": "stdout",
          "text": [
            "\n",
            "=== BINARY NB ===\n",
            "\n",
            "classification_report:\n",
            "              precision    recall  f1-score   support\n",
            "\n",
            "    negative       0.25      1.00      0.40         2\n",
            "    positive       0.00      0.00      0.00         6\n",
            "\n",
            "    accuracy                           0.25         8\n",
            "   macro avg       0.12      0.50      0.20         8\n",
            "weighted avg       0.06      0.25      0.10         8\n",
            "\n",
            "\n",
            "\n",
            "\n",
            "\n",
            "Evaluation Rsults:\n",
            "\n",
            "--------------------------------------------------\n",
            "  negative: Precision=0.250, Recall=1.000, F1-Score=0.400\n",
            "  positive: Precision=0.000, Recall=0.000, F1-Score=0.000\n",
            "\n",
            "Macro-Averaged F1: 0.200\n",
            "\n",
            "Micro-Averaged F1: 0.250\n"
          ]
        },
        {
          "output_type": "stream",
          "name": "stderr",
          "text": [
            "/usr/local/lib/python3.11/dist-packages/sklearn/metrics/_classification.py:1565: UndefinedMetricWarning: Precision is ill-defined and being set to 0.0 in labels with no predicted samples. Use `zero_division` parameter to control this behavior.\n",
            "  _warn_prf(average, modifier, f\"{metric.capitalize()} is\", len(result))\n",
            "/usr/local/lib/python3.11/dist-packages/sklearn/metrics/_classification.py:1565: UndefinedMetricWarning: Precision is ill-defined and being set to 0.0 in labels with no predicted samples. Use `zero_division` parameter to control this behavior.\n",
            "  _warn_prf(average, modifier, f\"{metric.capitalize()} is\", len(result))\n",
            "/usr/local/lib/python3.11/dist-packages/sklearn/metrics/_classification.py:1565: UndefinedMetricWarning: Precision is ill-defined and being set to 0.0 in labels with no predicted samples. Use `zero_division` parameter to control this behavior.\n",
            "  _warn_prf(average, modifier, f\"{metric.capitalize()} is\", len(result))\n",
            "/usr/local/lib/python3.11/dist-packages/sklearn/metrics/_classification.py:1565: UndefinedMetricWarning: Precision is ill-defined and being set to 0.0 in labels with no predicted samples. Use `zero_division` parameter to control this behavior.\n",
            "  _warn_prf(average, modifier, f\"{metric.capitalize()} is\", len(result))\n",
            "/usr/local/lib/python3.11/dist-packages/sklearn/metrics/_classification.py:1565: UndefinedMetricWarning: Precision is ill-defined and being set to 0.0 in labels with no predicted samples. Use `zero_division` parameter to control this behavior.\n",
            "  _warn_prf(average, modifier, f\"{metric.capitalize()} is\", len(result))\n"
          ]
        },
        {
          "output_type": "display_data",
          "data": {
            "text/plain": [
              "<Figure size 800x600 with 2 Axes>"
            ],
            "image/png": "[encoded data removed]"
          },
          "metadata": {}
        }
      ]
    },
    {
      "cell_type": "markdown",
      "source": [
        "## Cross Validation"
      ],
      "metadata": {
        "id": "-kd2WKizpngM"
      }
    },
    {
      "cell_type": "code",
      "source": [
        "def perform_cross_validation(texts, labels, k=5):\n",
        "  \"\"\"K-fold cross validation as described in the book\"\"\"\n",
        "\n",
        "  vectorizer = CountVectorizer()           # Create vectorizer\n",
        "  X = vectorizer.fit_transform(texts)      # Convert texts to feature matrix\n",
        "  print(\"X: \",str( X[:10]))\n",
        "\n",
        "  y = np.array(labels)                     # Convert labels to numpy array\n",
        "  print(\"Y: \", str(y))\n",
        "\n",
        "  # Creating stratified k-fold cross-validator\n",
        "  cv = StratifiedKFold(n_splits = k,\n",
        "                       shuffle = True,    # Shuffle before sampling\n",
        "                       random_state = 42)\n",
        "\n",
        "  print(\"\\n\\n\")\n",
        "  # Test different classifiers\n",
        "  classifiers = {\n",
        "      'Multinomial NB': MultinomialNB(alpha=1.0 ),\n",
        "      'Binary NB': BernoulliNB(alpha=1.0)\n",
        "  }\n",
        "\n",
        "  for name, classifier in classifiers.items():\n",
        "    scores = cross_val_score(classifier, X, y,\n",
        "                             cv = cv,\n",
        "                             scoring = 'f1_macro')\n",
        "\n",
        "    print(f\"{name}: {scores.mean():.3f} (+/- {scores.std()*2:.3f})\")  # Show mean and standard deviation (confidence interval)\n",
        "\n",
        "\n"
      ],
      "metadata": {
        "id": "3zcxgsB0pFnL"
      },
      "execution_count": 79,
      "outputs": []
    },
    {
      "cell_type": "code",
      "source": [
        "# Exaple\n",
        "perform_cross_validation(processed_texts, labels, k=3)  # Use k=3 for small dataset\n"
      ],
      "metadata": {
        "colab": {
          "base_uri": "https://localhost:8080/"
        },
        "id": "eIwaXxEUtDQc",
        "outputId": "cbc81e47-5630-493c-b444-b4b11d1cdfd5"
      },
      "execution_count": 80,
      "outputs": [
        {
          "output_type": "stream",
          "name": "stdout",
          "text": [
            "X:  <Compressed Sparse Row sparse matrix of dtype 'int64'\n",
            "\twith 82 stored elements and shape (10, 130)>\n",
            "  Coords\tValues\n",
            "  (0, 70)\t1\n",
            "  (0, 116)\t1\n",
            "  (0, 75)\t1\n",
            "  (0, 64)\t1\n",
            "  (0, 112)\t1\n",
            "  (0, 23)\t1\n",
            "  (0, 125)\t1\n",
            "  (0, 102)\t1\n",
            "  (0, 60)\t1\n",
            "  (1, 115)\t2\n",
            "  (1, 33)\t1\n",
            "  (1, 62)\t1\n",
            "  (1, 56)\t1\n",
            "  (1, 8)\t1\n",
            "  (1, 5)\t1\n",
            "  (1, 105)\t1\n",
            "  (1, 10)\t1\n",
            "  (1, 55)\t1\n",
            "  (2, 115)\t2\n",
            "  (2, 105)\t1\n",
            "  (2, 63)\t2\n",
            "  (2, 123)\t2\n",
            "  (2, 86)\t1\n",
            "  (2, 128)\t1\n",
            "  (2, 84)\t1\n",
            "  :\t:\n",
            "  (6, 52)\t1\n",
            "  (6, 80)\t1\n",
            "  (6, 110)\t1\n",
            "  (7, 8)\t1\n",
            "  (7, 77)\t1\n",
            "  (7, 66)\t1\n",
            "  (7, 91)\t1\n",
            "  (7, 20)\t1\n",
            "  (7, 68)\t1\n",
            "  (7, 42)\t1\n",
            "  (7, 111)\t1\n",
            "  (8, 116)\t1\n",
            "  (8, 75)\t1\n",
            "  (8, 1)\t1\n",
            "  (8, 51)\t1\n",
            "  (8, 17)\t1\n",
            "  (8, 65)\t1\n",
            "  (8, 106)\t1\n",
            "  (8, 129)\t1\n",
            "  (9, 8)\t1\n",
            "  (9, 22)\t1\n",
            "  (9, 2)\t1\n",
            "  (9, 126)\t1\n",
            "  (9, 28)\t1\n",
            "  (9, 117)\t1\n",
            "Y:  ['positive' 'positive' 'negative' 'negative' 'positive' 'negative'\n",
            " 'positive' 'negative' 'positive' 'positive' 'positive' 'positive'\n",
            " 'positive' 'positive' 'negative' 'negative' 'negative' 'negative'\n",
            " 'negative' 'negative' 'negative' 'negative' 'positive' 'positive']\n",
            "\n",
            "\n",
            "\n",
            "Multinomial NB: 0.639 (+/- 0.141)\n",
            "Binary NB: 0.620 (+/- 0.160)\n"
          ]
        }
      ]
    },
    {
      "cell_type": "markdown",
      "source": [
        "#####Multinomial NB slightly wins by 0.019 points\n",
        "#####Both perform similarly\n",
        "#####Difference is small and likely not statistically significant\n",
        "##### Adding more data is required"
      ],
      "metadata": {
        "id": "w2nA9JX_wvGd"
      }
    },
    {
      "cell_type": "markdown",
      "source": [
        "##Statistical Significance Testing"
      ],
      "metadata": {
        "id": "1XOlyf1pwbwH"
      }
    },
    {
      "cell_type": "code",
      "source": [
        "def bootstrap_test(scores_a, scores_b, n_bootstrap=1000):\n",
        "  \"\"\"\n",
        "  Simplified bootstrap test for comparing two classifiers\n",
        "  Paired bootstrap based on the book\n",
        "  \"\"\"\n",
        "\n",
        "  observed_diff = np.mean(scores_a) - np.mean(scores_b) # δ(x) The Effect Size\n",
        "\n",
        "  # Bootstrap resampling procedure\n",
        "  bootstrap_diffs = []\n",
        "  combined_scores = list(zip(scores_a, scores_b))\n",
        "\n",
        "  for _ in range(n_bootstrap):\n",
        "    # Resample with replacement\n",
        "    resampled = random.choices( combined_scores, k = len(combined_scores))\n",
        "    resampled_a, resampled_b = zip(*resampled)\n",
        "\n",
        "    diff = np.mean(resampled_a) - np.mean(resampled_b) ## Checking again the difference to verify if it is still the same δ(x)\n",
        "    bootstrap_diffs.append(diff)\n",
        "\n",
        "  # Counting how often bootstrap difference ≥ 2 * observed difference as appears in the book\n",
        "  extreme_count = sum(1 for diff in bootstrap_diffs if diff >= 2 * observed_diff)\n",
        "  print(\"extreme_count: \", str(extreme_count))\n",
        "\n",
        "  # Calculation of P-Value\n",
        "  p_value = extreme_count / n_bootstrap # proportion of extreme cases\n",
        "\n",
        "  return observed_diff, p_value\n",
        "\n",
        "\n"
      ],
      "metadata": {
        "id": "SY_SO9kSwbM3"
      },
      "execution_count": 84,
      "outputs": []
    },
    {
      "cell_type": "code",
      "source": [
        "# Example usage (would need actual score data from multiple test runs)\n",
        "scores_classifier_a = [0.85, 0.82, 0.88, 0.86, 0.84]  # Performance scores for classifier A\n",
        "scores_classifier_b = [0.2, 0.82, 0.7, 0.7, 0.34]  # Performance scores for classifier B\n",
        "diff, p_val = bootstrap_test(scores_classifier_a, scores_classifier_b)\n",
        "print(f\"Observed difference: {diff:.3f}, p-value: {p_val:.3f}\")\n",
        "if p_val <= 0.01: print(\"There is a statistically significant difference\") ## Although some authors recommend even a lower threshold for NLP"
      ],
      "metadata": {
        "colab": {
          "base_uri": "https://localhost:8080/"
        },
        "id": "Nile5zHwvqYA",
        "outputId": "f5b75662-2c88-439c-a22e-590a32352c86"
      },
      "execution_count": 115,
      "outputs": [
        {
          "output_type": "stream",
          "name": "stdout",
          "text": [
            "extreme_count:  4\n",
            "Observed difference: 0.298, p-value: 0.004\n",
            "There is a statistically significant difference\n"
          ]
        }
      ]
    },
    {
      "cell_type": "markdown",
      "source": [
        "## Sentiment Lexicons"
      ],
      "metadata": {
        "id": "v5lDxXAL2tDZ"
      }
    },
    {
      "cell_type": "code",
      "source": [
        "positive_words = {\n",
        "    'great', 'awesome', 'fantastic', 'excellent', 'wonderful',\n",
        "    'amazing', 'brilliant', 'outstanding', 'perfect', 'love',\n",
        "    'beautiful', 'incredible', 'superb', 'marvelous', 'fabulous'\n",
        "}\n",
        "\n",
        "negative_words = {\n",
        "    'terrible', 'awful', 'horrible', 'bad', 'worst',\n",
        "    'pathetic', 'disgusting', 'hate', 'ridiculous', 'boring',\n",
        "    'stupid', 'useless', 'disappointing', 'annoying', 'frustrating'\n",
        "}"
      ],
      "metadata": {
        "id": "5LSxvmym2xUp"
      },
      "execution_count": 87,
      "outputs": []
    },
    {
      "cell_type": "code",
      "source": [
        "def lexicon_features(text):\n",
        "  \"\"\"Extract lexicon-based features from text\"\"\"\n",
        "\n",
        "  words = text.lower().split()\n",
        "\n",
        "  # Count of positive and negative words\n",
        "  pos_count = sum(1 for word in words if word in positive_words)\n",
        "  neg_count = sum(1 for word in words if word in negative_words)\n",
        "\n",
        "  # Retrieves feature dictionary\n",
        "  return{\n",
        "      'positive_word_count': pos_count,\n",
        "      'negative_word_count': neg_count,\n",
        "      'sentiment_score': pos_count - neg_count\n",
        "  }\n",
        "\n"
      ],
      "metadata": {
        "id": "MNFtEH4d19rt"
      },
      "execution_count": 88,
      "outputs": []
    },
    {
      "cell_type": "code",
      "source": [
        "# Example usage\n",
        "text = \"This movie is awesome but the ending was terrible\"\n",
        "features = lexicon_features(text)\n",
        "print(\"Lexicon features:\", features)  # Should show: positive=1, negative=1, score=0"
      ],
      "metadata": {
        "colab": {
          "base_uri": "https://localhost:8080/"
        },
        "id": "v_pS8dPQ3fJE",
        "outputId": "6ba8130e-ca99-498e-bcd4-38924193b5af"
      },
      "execution_count": 89,
      "outputs": [
        {
          "output_type": "stream",
          "name": "stdout",
          "text": [
            "Lexicon features: {'positive_word_count': 1, 'negative_word_count': 1, 'sentiment_score': 0}\n"
          ]
        }
      ]
    },
    {
      "cell_type": "markdown",
      "source": [
        "## Complete Pipeline Example"
      ],
      "metadata": {
        "id": "pxqIj2Pl5l_3"
      }
    },
    {
      "cell_type": "code",
      "source": [
        "class SentimentClassifier:\n",
        "  \"\"\"Complete sentiment classification pipeline\"\"\"\n",
        "\n",
        "  def __init__(self, use_negation=True, use_binary=True, remove_stopwords=False):\n",
        "    self.use_negation = use_negation # Negation handling. Adding prefix NOT_\n",
        "    self.use_binary = use_binary # Binary NB\n",
        "    self.remove_stopwords = remove_stopwords\n",
        "\n",
        "    self.vectorizer = CountVectorizer(binary=use_binary) # Binary vectorizer\n",
        "\n",
        "    self.classifier = BernoulliNB() if use_binary else MultinomialNB()\n",
        "\n",
        "    if self.remove_stopwords:\n",
        "      self.stop_words = set(stopwords.words('english'))\n",
        "\n",
        "\n",
        "  def preprocess(self, texts):\n",
        "    \"\"\"Applying preprocessing with negation handling included\"\"\"\n",
        "\n",
        "    processed = []\n",
        "\n",
        "    for text in texts:\n",
        "\n",
        "      if self.use_negation:\n",
        "        text = handle_negation(text) # Handle negation while punctuation is still present\n",
        "\n",
        "\n",
        "      text = re.sub('[^\\w\\s]', '', text.lower()) # Removes the complement of chars and spaces, and lowercases the rest\n",
        "\n",
        "\n",
        "      if self.remove_stopwords:\n",
        "        words = text.split()\n",
        "        text = ' '.join([word for word in words if word not in self.stop_words])\n",
        "\n",
        "      processed.append(text)\n",
        "\n",
        "    print(\"\\nprocessed: \", str(processed),\"\\n\\n\")\n",
        "    return(processed)\n",
        "\n",
        "\n",
        "\n",
        "  def train(self, texts, labels):\n",
        "    \"\"\"Train classifier on provided data\"\"\"\n",
        "\n",
        "    processed_texts = self.preprocess(texts)\n",
        "    X = self.vectorizer.fit_transform(processed_texts)\n",
        "    self.classifier.fit(X, labels)\n",
        "\n",
        "  def predict(self, texts):\n",
        "    \"\"\"Make predictions on new data\"\"\"\n",
        "    processed_texts = self.preprocess(texts)\n",
        "    X = self.vectorizer.transform(processed_texts)\n",
        "    return self.classifier.predict(X)\n",
        "\n",
        "  def predict_probability(self, texts):\n",
        "    \"\"\"Get the prediction probabilities per each class\"\"\"\n",
        "    processed_texts = self.preprocess(texts)\n",
        "    X = self.vectorizer.transform(processed_texts)\n",
        "    return self.classifier.predict_proba(X)\n"
      ],
      "metadata": {
        "id": "uUqLfUiF3ghG"
      },
      "execution_count": 147,
      "outputs": []
    },
    {
      "cell_type": "markdown",
      "source": [
        "## Example"
      ],
      "metadata": {
        "id": "11ylbPGT80z_"
      }
    },
    {
      "cell_type": "code",
      "source": [
        "classifier = SentimentClassifier(use_negation=True, use_binary=True)  # Enable both optimizations\n",
        "classifier.train(texts, labels)"
      ],
      "metadata": {
        "colab": {
          "base_uri": "https://localhost:8080/"
        },
        "id": "pQ-hfbst8vHj",
        "outputId": "41d96430-53d6-4e66-b446-a37687927bb0"
      },
      "execution_count": 148,
      "outputs": [
        {
          "output_type": "stream",
          "name": "stdout",
          "text": [
            "Detected punctuation:  movie!\n",
            "Detected punctuation:  sweet,\n",
            "Detected punctuation:  humor.\n",
            "Detected punctuation:  fun.\n",
            "Detected punctuation:  pathetic.\n",
            "Detected punctuation:  scenes.\n",
            "Detected negation:  No\n",
            "Detected punctuation:  scenes.\n",
            "Detected punctuation:  predictable.\n",
            "Detected punctuation:  almonds.\n",
            "Detected punctuation:  place!\n",
            "Detected punctuation:  food.\n",
            "Detected punctuation:  summer.\n",
            "Detected punctuation:  energy.\n",
            "Detected negation:  No\n",
            "Detected punctuation:  surprises.\n",
            "Detected punctuation:  fantastic!\n",
            "Detected punctuation:  year.\n",
            "Detected punctuation:  throughout.\n",
            "Detected punctuation:  drama.\n",
            "Detected punctuation:  recommend!\n",
            "Detected punctuation:  actor.\n",
            "Detected punctuation:  Amazing!\n",
            "Detected punctuation:  end.\n",
            "Detected punctuation:  direction.\n",
            "Detected punctuation:  it!\n",
            "Detected punctuation:  plot.\n",
            "Detected punctuation:  ever.\n",
            "Detected punctuation:  disgusting.\n",
            "Detected punctuation:  disappointing.\n",
            "Detected punctuation:  money.\n",
            "Detected punctuation:  horrible.\n",
            "Detected punctuation:  storyline.\n",
            "Detected punctuation:  experience.\n",
            "Detected negation:  Nothing\n",
            "Detected punctuation:  expected.\n",
            "Detected negation:  Not\n",
            "Detected punctuation:  bad,\n",
            "Detected punctuation:  better.\n",
            "Detected negation:  don't\n",
            "Detected punctuation:  it,\n",
            "Detected negation:  not\n",
            "Detected punctuation:  either.\n",
            "Detected negation:  Can't\n",
            "Detected negation:  didn't\n",
            "Detected punctuation:  it.\n",
            "Detected negation:  not\n",
            "Detected punctuation:  terrible,\n",
            "Detected punctuation:  entertaining.\n",
            "\n",
            "processed:  ['i love this movie its sweet but with satirical humor', 'the dialogue is great and the adventure scenes are fun', 'it was pathetic the worst part about it was the boxing scenes', 'no not_plot not_twists not_or not_great not_scenes entirely predictable', 'awesome caramel sauce and sweet toasty almonds i love this place', 'awful pizza and ridiculously overpriced food', 'very powerful and the most fun film of the summer', 'just plain boring and lacks energy no not_surprises', 'absolutely fantastic best movie ive seen this year', 'brilliant acting and wonderful cinematography throughout', 'perfect blend of comedy and drama highly recommend', 'outstanding performance by the lead actor amazing', 'incredible storyline that kept me engaged until the end', 'beautiful soundtrack and excellent direction loved it', 'terrible acting and a completely boring plot', 'worst restaurant experience ever food was disgusting', 'completely disappointing waste of time and money', 'poor service and the quality was absolutely horrible', 'annoying characters and a ridiculous storyline', 'frustrating experience nothing not_worked not_as not_expected', 'not not_bad but could definitely be much better', 'i dont not_hate not_it but its not not_great not_either', 'cant not_say not_i didnt not_enjoy not_parts not_of not_it', 'its not not_terrible actually quite entertaining'] \n",
            "\n",
            "\n"
          ]
        }
      ]
    },
    {
      "cell_type": "code",
      "source": [
        "## Generated complex examples\n",
        "new_texts = [\n",
        "    # === NEGATION EXAMPLES ===\n",
        "    \"I don't like this movie\",                          # Simple negation - negative\n",
        "    \"This movie is not bad\",                            # Negated negative word - positive\n",
        "    \"I can't say I didn't enjoy it\",                    # Double negation - positive\n",
        "    \"It's not terrible, actually quite good\",           # Negation + positive - positive\n",
        "    \"Never seen anything so boring\",                    # Negation with boring - negative\n",
        "    \"Nothing about this film worked\",                   # Nothing negation - negative\n",
        "    \"Won't recommend this to anyone\",                   # Won't negation - negative\n",
        "\n",
        "    # === CLEAR POSITIVE EXAMPLES ===\n",
        "    \"This is a great film!\",                           # Clear positive\n",
        "    \"Absolutely fantastic movie experience\",            # Strong positive\n",
        "    \"Love the amazing cinematography and acting\",       # Positive with specific praise\n",
        "    \"Perfect blend of drama and comedy\",               # Positive description\n",
        "\n",
        "    # === CLEAR NEGATIVE EXAMPLES ===\n",
        "    \"Terrible acting and boring plot\",                 # Clear negative\n",
        "    \"Waste of time and money\",                         # Strong negative\n",
        "    \"Completely disappointing experience\",              # Negative experience\n",
        "    \"The worst movie I've ever seen\",                 # Superlative negative\n",
        "\n",
        "    # === MIXED/NEUTRAL EXAMPLES ===\n",
        "    \"Not bad, but could be better\",                    # Mixed with negation\n",
        "    \"It was okay, nothing special\",                    # Neutral/lukewarm\n",
        "    \"Good acting but terrible story\",                  # Mixed positive/negative\n",
        "    \"Started well but ended poorly\",                   # Mixed temporal sentiment\n",
        "\n",
        "    # === DOMAIN VARIETY ===\n",
        "    \"The restaurant food was not good\",                # Restaurant + negation\n",
        "    \"Amazing service and delicious food\",              # Restaurant positive\n",
        "    \"Hotel room was dirty and overpriced\",            # Hotel negative\n",
        "    \"Can't complain about the excellent service\",      # Service + double negative\n",
        "\n",
        "    # === EDGE CASES ===\n",
        "    \"Not not good\",                                    # Double negation edge case\n",
        "    \"It's not that I don't like it\",                  # Complex negation\n",
        "    \"I love that it's not predictable\",               # Positive about negated quality\n",
        "    \"This doesn't suck\",                              # Informal negated negative\n",
        "]"
      ],
      "metadata": {
        "id": "Ud72GlV29nP6"
      },
      "execution_count": 149,
      "outputs": []
    },
    {
      "cell_type": "code",
      "source": [
        "\n",
        "predictions = classifier.predict(new_texts)        # Get class predictions\n",
        "probabilities = classifier.predict_probability(new_texts)  # Get probability distributions\n",
        "\n",
        "# Display results with detailed formatting\n",
        "for text, pred, prob in zip(new_texts, predictions, probabilities):\n",
        "  print(f\"Text: '{text}'\")\n",
        "  print(f\"Prediction: {pred}\")\n",
        "  # Create probability dictionary mapping class names to probabilities\n",
        "  prob_dict = dict(zip(classifier.classifier.classes_, prob))\n",
        "  print(f\"Probabilities: {prob_dict}\")\n",
        "  print(\"-\" * 50)"
      ],
      "metadata": {
        "colab": {
          "base_uri": "https://localhost:8080/"
        },
        "id": "rxb6YJgY85hs",
        "outputId": "e255e314-d7fa-4501-9cf7-d9535017a7b4"
      },
      "execution_count": 150,
      "outputs": [
        {
          "output_type": "stream",
          "name": "stdout",
          "text": [
            "Detected negation:  don't\n",
            "Detected negation:  not\n",
            "Detected negation:  can't\n",
            "Detected negation:  didn't\n",
            "Detected negation:  not\n",
            "Detected punctuation:  terrible,\n",
            "Detected negation:  Never\n",
            "Detected negation:  Nothing\n",
            "Detected negation:  Won't\n",
            "Detected punctuation:  film!\n",
            "Detected negation:  Not\n",
            "Detected punctuation:  bad,\n",
            "Detected punctuation:  okay,\n",
            "Detected negation:  nothing\n",
            "Detected negation:  not\n",
            "Detected negation:  Can't\n",
            "Detected negation:  Not\n",
            "Detected negation:  not\n",
            "Detected negation:  not\n",
            "Detected negation:  don't\n",
            "Detected negation:  not\n",
            "\n",
            "processed:  ['i dont not_like not_this not_movie', 'this movie is not not_bad', 'i cant not_say not_i didnt not_enjoy not_it', 'its not not_terrible actually quite good', 'never not_seen not_anything not_so not_boring', 'nothing not_about not_this not_film not_worked', 'wont not_recommend not_this not_to not_anyone', 'this is a great film', 'absolutely fantastic movie experience', 'love the amazing cinematography and acting', 'perfect blend of drama and comedy', 'terrible acting and boring plot', 'waste of time and money', 'completely disappointing experience', 'the worst movie ive ever seen', 'not not_bad but could be better', 'it was okay nothing not_special', 'good acting but terrible story', 'started well but ended poorly', 'the restaurant food was not not_good', 'amazing service and delicious food', 'hotel room was dirty and overpriced', 'cant not_complain not_about not_the not_excellent not_service', 'not not not_good', 'its not not_that not_i dont not_like not_it', 'i love that its not not_predictable', 'this doesnt suck'] \n",
            "\n",
            "\n",
            "Detected negation:  don't\n",
            "Detected negation:  not\n",
            "Detected negation:  can't\n",
            "Detected negation:  didn't\n",
            "Detected negation:  not\n",
            "Detected punctuation:  terrible,\n",
            "Detected negation:  Never\n",
            "Detected negation:  Nothing\n",
            "Detected negation:  Won't\n",
            "Detected punctuation:  film!\n",
            "Detected negation:  Not\n",
            "Detected punctuation:  bad,\n",
            "Detected punctuation:  okay,\n",
            "Detected negation:  nothing\n",
            "Detected negation:  not\n",
            "Detected negation:  Can't\n",
            "Detected negation:  Not\n",
            "Detected negation:  not\n",
            "Detected negation:  not\n",
            "Detected negation:  don't\n",
            "Detected negation:  not\n",
            "\n",
            "processed:  ['i dont not_like not_this not_movie', 'this movie is not not_bad', 'i cant not_say not_i didnt not_enjoy not_it', 'its not not_terrible actually quite good', 'never not_seen not_anything not_so not_boring', 'nothing not_about not_this not_film not_worked', 'wont not_recommend not_this not_to not_anyone', 'this is a great film', 'absolutely fantastic movie experience', 'love the amazing cinematography and acting', 'perfect blend of drama and comedy', 'terrible acting and boring plot', 'waste of time and money', 'completely disappointing experience', 'the worst movie ive ever seen', 'not not_bad but could be better', 'it was okay nothing not_special', 'good acting but terrible story', 'started well but ended poorly', 'the restaurant food was not not_good', 'amazing service and delicious food', 'hotel room was dirty and overpriced', 'cant not_complain not_about not_the not_excellent not_service', 'not not not_good', 'its not not_that not_i dont not_like not_it', 'i love that its not not_predictable', 'this doesnt suck'] \n",
            "\n",
            "\n",
            "Text: 'I don't like this movie'\n",
            "Prediction: negative\n",
            "Probabilities: {np.str_('negative'): np.float64(0.8310793552656041), np.str_('positive'): np.float64(0.16892064473439608)}\n",
            "--------------------------------------------------\n",
            "Text: 'This movie is not bad'\n",
            "Prediction: positive\n",
            "Probabilities: {np.str_('negative'): np.float64(0.16773826411398138), np.str_('positive'): np.float64(0.8322617358860179)}\n",
            "--------------------------------------------------\n",
            "Text: 'I can't say I didn't enjoy it'\n",
            "Prediction: positive\n",
            "Probabilities: {np.str_('negative'): np.float64(0.04539727871313707), np.str_('positive'): np.float64(0.9546027212868627)}\n",
            "--------------------------------------------------\n",
            "Text: 'It's not terrible, actually quite good'\n",
            "Prediction: positive\n",
            "Probabilities: {np.str_('negative'): np.float64(0.18250558199389694), np.str_('positive'): np.float64(0.8174944180061022)}\n",
            "--------------------------------------------------\n",
            "Text: 'Never seen anything so boring'\n",
            "Prediction: negative\n",
            "Probabilities: {np.str_('negative'): np.float64(0.6942589145618228), np.str_('positive'): np.float64(0.30574108543817896)}\n",
            "--------------------------------------------------\n",
            "Text: 'Nothing about this film worked'\n",
            "Prediction: negative\n",
            "Probabilities: {np.str_('negative'): np.float64(0.9142357427867887), np.str_('positive'): np.float64(0.08576425721320992)}\n",
            "--------------------------------------------------\n",
            "Text: 'Won't recommend this to anyone'\n",
            "Prediction: negative\n",
            "Probabilities: {np.str_('negative'): np.float64(0.6942589145618228), np.str_('positive'): np.float64(0.30574108543817896)}\n",
            "--------------------------------------------------\n",
            "Text: 'This is a great film!'\n",
            "Prediction: positive\n",
            "Probabilities: {np.str_('negative'): np.float64(0.04116534275168689), np.str_('positive'): np.float64(0.9588346572483134)}\n",
            "--------------------------------------------------\n",
            "Text: 'Absolutely fantastic movie experience'\n",
            "Prediction: negative\n",
            "Probabilities: {np.str_('negative'): np.float64(0.511726964174631), np.str_('positive'): np.float64(0.48827303582537035)}\n",
            "--------------------------------------------------\n",
            "Text: 'Love the amazing cinematography and acting'\n",
            "Prediction: positive\n",
            "Probabilities: {np.str_('negative'): np.float64(0.06277090268721833), np.str_('positive'): np.float64(0.9372290973127827)}\n",
            "--------------------------------------------------\n",
            "Text: 'Perfect blend of drama and comedy'\n",
            "Prediction: positive\n",
            "Probabilities: {np.str_('negative'): np.float64(0.05923784775926228), np.str_('positive'): np.float64(0.9407621522407367)}\n",
            "--------------------------------------------------\n",
            "Text: 'Terrible acting and boring plot'\n",
            "Prediction: negative\n",
            "Probabilities: {np.str_('negative'): np.float64(0.9742228716733856), np.str_('positive'): np.float64(0.02577712832661319)}\n",
            "--------------------------------------------------\n",
            "Text: 'Waste of time and money'\n",
            "Prediction: negative\n",
            "Probabilities: {np.str_('negative'): np.float64(0.9338381750269905), np.str_('positive'): np.float64(0.06616182497301053)}\n",
            "--------------------------------------------------\n",
            "Text: 'Completely disappointing experience'\n",
            "Prediction: negative\n",
            "Probabilities: {np.str_('negative'): np.float64(0.9840877995879664), np.str_('positive'): np.float64(0.01591220041203357)}\n",
            "--------------------------------------------------\n",
            "Text: 'The worst movie I've ever seen'\n",
            "Prediction: positive\n",
            "Probabilities: {np.str_('negative'): np.float64(0.3397115614983943), np.str_('positive'): np.float64(0.6602884385016039)}\n",
            "--------------------------------------------------\n",
            "Text: 'Not bad, but could be better'\n",
            "Prediction: negative\n",
            "Probabilities: {np.str_('negative'): np.float64(0.9925924387176892), np.str_('positive'): np.float64(0.007407561282309303)}\n",
            "--------------------------------------------------\n",
            "Text: 'It was okay, nothing special'\n",
            "Prediction: negative\n",
            "Probabilities: {np.str_('negative'): np.float64(0.9623829434621968), np.str_('positive'): np.float64(0.03761705653780288)}\n",
            "--------------------------------------------------\n",
            "Text: 'Good acting but terrible story'\n",
            "Prediction: negative\n",
            "Probabilities: {np.str_('negative'): np.float64(0.889512652803182), np.str_('positive'): np.float64(0.11048734719681744)}\n",
            "--------------------------------------------------\n",
            "Text: 'Started well but ended poorly'\n",
            "Prediction: negative\n",
            "Probabilities: {np.str_('negative'): np.float64(0.7879450365119008), np.str_('positive'): np.float64(0.2120549634881003)}\n",
            "--------------------------------------------------\n",
            "Text: 'The restaurant food was not good'\n",
            "Prediction: negative\n",
            "Probabilities: {np.str_('negative'): np.float64(0.98646169475185), np.str_('positive'): np.float64(0.013538305248148969)}\n",
            "--------------------------------------------------\n",
            "Text: 'Amazing service and delicious food'\n",
            "Prediction: negative\n",
            "Probabilities: {np.str_('negative'): np.float64(0.889512652803182), np.str_('positive'): np.float64(0.11048734719681744)}\n",
            "--------------------------------------------------\n",
            "Text: 'Hotel room was dirty and overpriced'\n",
            "Prediction: negative\n",
            "Probabilities: {np.str_('negative'): np.float64(0.9623829434621968), np.str_('positive'): np.float64(0.03761705653780288)}\n",
            "--------------------------------------------------\n",
            "Text: 'Can't complain about the excellent service'\n",
            "Prediction: negative\n",
            "Probabilities: {np.str_('negative'): np.float64(0.511726964174631), np.str_('positive'): np.float64(0.48827303582537035)}\n",
            "--------------------------------------------------\n",
            "Text: 'Not not good'\n",
            "Prediction: negative\n",
            "Probabilities: {np.str_('negative'): np.float64(0.7879450365119008), np.str_('positive'): np.float64(0.2120549634881003)}\n",
            "--------------------------------------------------\n",
            "Text: 'It's not that I don't like it'\n",
            "Prediction: negative\n",
            "Probabilities: {np.str_('negative'): np.float64(0.6942589145618203), np.str_('positive'): np.float64(0.3057410854381779)}\n",
            "--------------------------------------------------\n",
            "Text: 'I love that it's not predictable'\n",
            "Prediction: positive\n",
            "Probabilities: {np.str_('negative'): np.float64(0.22815651754114086), np.str_('positive'): np.float64(0.7718434824588607)}\n",
            "--------------------------------------------------\n",
            "Text: 'This doesn't suck'\n",
            "Prediction: positive\n",
            "Probabilities: {np.str_('negative'): np.float64(0.30395127064766864), np.str_('positive'): np.float64(0.6960487293523311)}\n",
            "--------------------------------------------------\n"
          ]
        }
      ]
    },
    {
      "cell_type": "code",
      "source": [],
      "metadata": {
        "id": "Bh8UknPd9yGC"
      },
      "execution_count": 150,
      "outputs": []
    }
  ]
}