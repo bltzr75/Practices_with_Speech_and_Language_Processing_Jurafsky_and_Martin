{
  "nbformat": 4,
  "nbformat_minor": 0,
  "metadata": {
    "colab": {
      "provenance": [],
      "gpuType": "T4"
    },
    "kernelspec": {
      "name": "python3",
      "display_name": "Python 3"
    },
    "language_info": {
      "name": "python"
    },
    "accelerator": "GPU"
  },
  "cells": [
    {
      "cell_type": "code",
      "source": [
        "!pip install -q transformers accelerate bitsandbytes peft torchinfo torchmetrics\n",
        "!pip install -q pytorch-lightning wandb\n"
      ],
      "metadata": {
        "id": "v7QAVcTCY1SB",
        "colab": {
          "base_uri": "https://localhost:8080/",
          "height": 0
        },
        "outputId": "6e74745c-ca8c-4349-ba1b-b03348535eea"
      },
      "execution_count": 1,
      "outputs": [
        {
          "output_type": "stream",
          "name": "stdout",
          "text": [
            "\u001b[2K   \u001b[90m━━━━━━━━━━━━━━━━━━━━━━━━━━━━━━━━━━━━━━━━\u001b[0m \u001b[32m61.3/61.3 MB\u001b[0m \u001b[31m11.6 MB/s\u001b[0m eta \u001b[36m0:00:00\u001b[0m\n",
            "\u001b[2K   \u001b[90m━━━━━━━━━━━━━━━━━━━━━━━━━━━━━━━━━━━━━━━━\u001b[0m \u001b[32m983.0/983.0 kB\u001b[0m \u001b[31m41.5 MB/s\u001b[0m eta \u001b[36m0:00:00\u001b[0m\n",
            "\u001b[2K   \u001b[90m━━━━━━━━━━━━━━━━━━━━━━━━━━━━━━━━━━━━━━━━\u001b[0m \u001b[32m828.2/828.2 kB\u001b[0m \u001b[31m29.0 MB/s\u001b[0m eta \u001b[36m0:00:00\u001b[0m\n",
            "\u001b[?25h"
          ]
        }
      ]
    },
    {
      "cell_type": "code",
      "execution_count": 2,
      "metadata": {
        "colab": {
          "base_uri": "https://localhost:8080/",
          "height": 0
        },
        "id": "Mi4yoo52jlLB",
        "outputId": "e4f959fb-f011-45ec-955b-422369bad0be"
      },
      "outputs": [
        {
          "output_type": "stream",
          "name": "stdout",
          "text": [
            "GPU: Tesla T4\n",
            "Memory: 14.7 GB\n"
          ]
        }
      ],
      "source": [
        "import numpy as np\n",
        "import torch\n",
        "import torch.nn as nn\n",
        "import torch.nn.functional as F\n",
        "import matplotlib.pyplot as plt\n",
        "from typing import List, Tuple, Optional, Dict\n",
        "import math\n",
        "from collections import defaultdict\n",
        "import time\n",
        "\n",
        "# PyTorch ecosystem imports\n",
        "from torch.cuda.amp import GradScaler  # Mixed precision training\n",
        "from torch import amp\n",
        "from transformers import AutoTokenizer, GPT2Tokenizer  # HuggingFace tokenizers\n",
        "import torch._dynamo as dynamo  # For torch.compile\n",
        "\n",
        "# Set seeds\n",
        "np.random.seed(42)\n",
        "torch.manual_seed(42)\n",
        "\n",
        "# Colab GPU detection and setup\n",
        "if torch.cuda.is_available():\n",
        "  device = torch.device('cuda')\n",
        "  print(f\"GPU: {torch.cuda.get_device_name(0)}\")\n",
        "  print(f\"Memory: {torch.cuda.get_device_properties(0).total_memory / 1024**3:.1f} GB\")\n",
        "else:\n",
        "  device = torch.device('cpu')\n",
        "  print(\"No GPU available, using CPU\")"
      ]
    },
    {
      "cell_type": "markdown",
      "source": [
        "# Autoregressive Generation"
      ],
      "metadata": {
        "id": "v-ml4BiRPMuB"
      }
    },
    {
      "cell_type": "code",
      "source": [
        "class SimpleLanguageModel:\n",
        "  \"\"\"Vanilla Autoregressive text generation\"\"\"\n",
        "\n",
        "  def __init__(self, vocab_size: int, context_length:int ):\n",
        "    self.vocab_size = vocab_size\n",
        "    self.context_length = context_length\n",
        "\n",
        "    # Simple bigram probs as transition matrix. A “transition matrix” originates from Markov chain theory: A Markov chain is a stochastic process where the probability of the next state depends only on the current state (the Markov property). In a Markov chain with 𝑛 n states, the transition matrix encodes all the probabilities of moving from one state to another. Entry 𝑃 𝑖 𝑗 P ij ​ = probability of transitioning from state 𝑖 i to state 𝑗 j\n",
        "    self.transition_matrix = np.random.dirichlet(np.ones(vocab_size), size=vocab_size) # [V, V] stochastic matrix\n",
        "    print(f\"Transition matrix shape: {self.transition_matrix.shape}\")\n",
        "    print(f\"Sample row (sums to 1): {self.transition_matrix[0,:]}  sum={self.transition_matrix[0].sum():.3f}\")\n",
        "\n",
        "  def get_next_token_probs(self, context: List[int]) -> np.ndarray:\n",
        "    \"\"\"Get prob distrib for next token given the context\"\"\"\n",
        "\n",
        "    if len(context) == 0:\n",
        "      ## If no context apply Uniform distrib\n",
        "      return(np.ones(self.vocab_size)/self.vocab_size)\n",
        "\n",
        "    last_token = context[-1] # Bigram uses just the latest token to predict the next\n",
        "    print(f\"Last token: {last_token}, vocab_size: {self.vocab_size}\")\n",
        "\n",
        "    probs = self.transition_matrix[last_token] # prob P(next|last)\n",
        "    print(f\"\\nContext: {context} -> Last token: {last_token}\")\n",
        "    print(f\"Next token probs: {probs[:5]} ... (showing first 5)\")\n",
        "    return probs\n",
        "\n",
        "  def generate(self, prompt: List[int], max_new_tokens: int, strategy: str = 'greedy') -> List[int]:\n",
        "    \"\"\"Generate tokens autoregressively\"\"\"\n",
        "\n",
        "    context = prompt.copy()\n",
        "\n",
        "    for i in range(max_new_tokens):\n",
        "      # get prob distrib for nxt token\n",
        "      probs = self.get_next_token_probs(context[-self.context_length:]) # slicing and using the last context_length tokens in the prompt(=context)\n",
        "\n",
        "\n",
        "      if   strategy == 'greedy':\n",
        "        next_token = np.argmax(probs) # Choose most likely, deterministic\n",
        "        print(f\"Step {i}: Greedy selected token {next_token} with p={probs[next_token]:.3f}\")\n",
        "\n",
        "      elif strategy == 'sample':\n",
        "        next_token = np.random.choice(self.vocab_size, p=probs) # Sample from ditrib\n",
        "        print(f\"Step {i}: Sampled token {next_token} with p={probs[next_token]:.3f}\")\n",
        "\n",
        "\n",
        "      context.append(next_token) # Starts from the prompt/context and keeps generating increasing it\n",
        "\n",
        "    return(context)"
      ],
      "metadata": {
        "id": "4h-qDiZ9PJTu"
      },
      "execution_count": 3,
      "outputs": []
    },
    {
      "cell_type": "markdown",
      "source": [
        "##Simple Test"
      ],
      "metadata": {
        "id": "t49e3oa7RSXy"
      }
    },
    {
      "cell_type": "code",
      "source": [
        "# Test vanilla implementation\n",
        "vocab_size = 10  # Small vocab for visualization\n",
        "model = SimpleLanguageModel(vocab_size=vocab_size, context_length=5)\n",
        "\n",
        "prompt = [1, 2, 3]\n",
        "print(f\"\\nGenerating from prompt: {prompt}\\n\")\n",
        "\n",
        "# Compare greedy vs sampling\n",
        "greedy_output = model.generate(prompt, max_new_tokens=5, strategy='greedy')\n",
        "print(f\"\\nGreedy output: {greedy_output}\")\n",
        "\n",
        "sampled_output = model.generate(prompt, max_new_tokens=5, strategy='sample')\n",
        "print(f\"\\nSampled output: {sampled_output}\")"
      ],
      "metadata": {
        "colab": {
          "base_uri": "https://localhost:8080/",
          "height": 0
        },
        "id": "FTmII5v7PeY_",
        "outputId": "5fca7f74-1183-4d0a-ca54-2ca6d846cc0e"
      },
      "execution_count": 4,
      "outputs": [
        {
          "output_type": "stream",
          "name": "stdout",
          "text": [
            "Transition matrix shape: (10, 10)\n",
            "Sample row (sums to 1): [0.04569443 0.29310702 0.12821656 0.0888967  0.01651702 0.01651424\n",
            " 0.00582673 0.19584123 0.08949454 0.11989152]  sum=1.000\n",
            "\n",
            "Generating from prompt: [1, 2, 3]\n",
            "\n",
            "Last token: 3, vocab_size: 10\n",
            "\n",
            "Context: [1, 2, 3] -> Last token: 3\n",
            "Next token probs: [0.08215403 0.01642155 0.00590806 0.26119085 0.2960559 ] ... (showing first 5)\n",
            "Step 0: Greedy selected token 4 with p=0.296\n",
            "\n",
            "Greedy output: [1, 2, 3, np.int64(4)]\n",
            "Last token: 3, vocab_size: 10\n",
            "\n",
            "Context: [1, 2, 3] -> Last token: 3\n",
            "Next token probs: [0.08215403 0.01642155 0.00590806 0.26119085 0.2960559 ] ... (showing first 5)\n",
            "Step 0: Sampled token 0 with p=0.082\n",
            "\n",
            "Sampled output: [1, 2, 3, 0]\n"
          ]
        }
      ]
    },
    {
      "cell_type": "markdown",
      "source": [
        "# Autoregressive Generation with torch.compile and HuggingFace tokenizers"
      ],
      "metadata": {
        "id": "rUY7ORr2azrO"
      }
    },
    {
      "cell_type": "code",
      "source": [
        "from torch.cuda.amp import GradScaler # mix precision\n",
        "from torch import amp\n",
        "from transformers import AutoTokenizer, GPT2Tokenizer\n",
        "\n",
        "class OptimizedLanguageModel(nn.Module):\n",
        "\n",
        "  def __init__(self, vocab_size:int, d_model:int, context_length:int):\n",
        "    super(OptimizedLanguageModel, self).__init__()\n",
        "\n",
        "    self.vocab_size = vocab_size\n",
        "    self.d_model = d_model\n",
        "    self.context_length = context_length\n",
        "\n",
        "    # Model components\n",
        "    self.token_embedding = nn.Embedding(vocab_size, d_model)\n",
        "    self.positional_embedding = nn.Embedding(context_length, d_model)\n",
        "    self.attention = nn.MultiheadAttention(d_model, num_heads=4, batch_first=True)\n",
        "    self.ln = nn.LayerNorm(d_model)\n",
        "    self.lm_head = nn.Linear(d_model, vocab_size)\n",
        "\n",
        "    print(f\"Model params: {sum(p.numel() for p in self.parameters()):,}\")\n",
        "\n",
        "  def forward(self, idx:torch.Tensor) -> torch.Tensor:\n",
        "    B, T = idx.shape\n",
        "\n",
        "    tok_emb = self.token_embedding(idx) # [B,T,d_model]\n",
        "\n",
        "    pos = torch.arange(T, device=idx.device)\n",
        "    pos_emb = self.positional_embedding(pos)\n",
        "\n",
        "    x = tok_emb + pos_emb\n",
        "\n",
        "    # Causal mask\n",
        "    mask = torch.triu(torch.ones(T,T,device=idx.device),diagonal=1).bool()\n",
        "    x, _ = self.attention(x,x,x, attn_mask=mask) # scaled dot-product attention mechanism: [Q, K,V]\n",
        "\n",
        "    # Layer Norm\n",
        "    x = self.ln(x)\n",
        "\n",
        "    # Unembedding\n",
        "    logits = self.lm_head(x) # [B, T, vocab_size]\n",
        "\n",
        "    return(logits)\n",
        "\n"
      ],
      "metadata": {
        "id": "j_hSDlQuRP-1"
      },
      "execution_count": 60,
      "outputs": []
    },
    {
      "cell_type": "markdown",
      "source": [
        "## Using HF pretrained tokenizers\n",
        "- Rust backend = Fast\n",
        "- Manages special tokens, padding and truncation automatically.\n",
        "- Good for edge cases, multilingual, fast."
      ],
      "metadata": {
        "id": "8PxAPXKbrcUd"
      }
    },
    {
      "cell_type": "code",
      "source": [
        "tokenizer = GPT2Tokenizer.from_pretrained('gpt2')\n",
        "tokenizer.pad_token = tokenizer.eos_token\n",
        "\n",
        "print(f\"\\nTokenizer details:\")\n",
        "print(f\"  Vocab size: {tokenizer.vocab_size}\")\n",
        "print(f\"  Model max length: {tokenizer.model_max_length}\")\n",
        "print(f\"  Special tokens: {tokenizer.special_tokens_map}\")\n",
        "print(f\"  Example encoding: 'Hello world!' -> {tokenizer.encode('Hello world!')}\")\n",
        "print(f\"  Decoded back: {tokenizer.decode(tokenizer.encode('Hello world!'))}\")\n",
        "\n",
        "\n",
        "# create and compile model\n",
        "model = OptimizedLanguageModel(\n",
        "    vocab_size=tokenizer.vocab_size,\n",
        "    d_model=256,\n",
        "    context_length=128\n",
        ").to(device)\n",
        "\n",
        "\n",
        "# torch.compile options:\n",
        "# - default: balanced optim\n",
        "# - reduce-overhead: best for small models, minimizes kernel launch overhead\n",
        "# - max_autotune: best for large models, spends more time finding optimial kernels\n",
        "# - max-autotune-no-cudagraphs: flexible, max optimization without cuda graphs\n",
        "\n",
        "if hasattr(torch, 'compile') and device.type == 'cuda':\n",
        "  # Compile only makes sense on GPU (uses Triton compiler for CUDA)\n",
        "  model_compiled = torch.compile(model, mode=\"reduce-overhead\")\n",
        "  print(\"\\n Model compiled with torch.compile (reduce-overhead mode)\")\n",
        "  print(\"  First call will be slow (compilation), subsequent calls fast\")\n",
        "else:\n",
        "  model_compiled = model\n",
        "  print(\"\\ntorch.compile not available or on CPU, using eager mode\")\n",
        "\n",
        "\n",
        "# Autom Mixed Precision (amp)\n",
        "# master weights in FLP32\n",
        "# forward in FLP16\n",
        "# Automatic casting based on operation\n",
        "# loss scaling prevents grad underflow\n",
        "# good for Tensor Cores, with too large models not fitting in mem and in Training\n",
        "\n",
        "def generate_with_amp(\n",
        "    model: nn.Module,\n",
        "    prompt: str,\n",
        "    tokenizer,\n",
        "    max_new_tokens: int=50,\n",
        "    temperature: float = 1.0) -> str:\n",
        "\n",
        "  \"\"\"Generate text with automatic mixed precision (AMP) \"\"\"\n",
        "\n",
        "  input_ids = tokenizer.encode(prompt, return_tensors='pt').to(device) # pt for PyTorch, there is also for np and tf\n",
        "\n",
        "  with torch.no_grad():\n",
        "    # autocast\n",
        "    with amp.autocast(device_type=device.type, enabled=(device.type=='cuda')):\n",
        "      for i in range(max_new_tokens):\n",
        "        # runs in float16 but some ops like softmax stay in float32\n",
        "        logits = model_compiled(input_ids)\n",
        "        logits = logits[:, -1, :] / temperature # Scaling with temp\n",
        "\n",
        "        probs = F.softmax(logits, dim=-1) # softmax in float32  for stability\n",
        "        next_token = torch.multinomial(probs, num_samples = 1)\n",
        "\n",
        "        input_ids = torch.cat([input_ids, next_token], dim=1)\n",
        "\n",
        "        if next_token.item() == tokenizer.eos_token_id:\n",
        "          break\n",
        "\n",
        "  return tokenizer.decode(input_ids[0], skip_special_tokens=True)\n"
      ],
      "metadata": {
        "colab": {
          "base_uri": "https://localhost:8080/"
        },
        "id": "BekIVtYpbUlC",
        "outputId": "b816f0eb-022a-43cf-e39a-dd0e20a8405d"
      },
      "execution_count": 61,
      "outputs": [
        {
          "output_type": "stream",
          "name": "stdout",
          "text": [
            "\n",
            "Tokenizer details:\n",
            "  Vocab size: 50257\n",
            "  Model max length: 1024\n",
            "  Special tokens: {'bos_token': '<|endoftext|>', 'eos_token': '<|endoftext|>', 'unk_token': '<|endoftext|>', 'pad_token': '<|endoftext|>'}\n",
            "  Example encoding: 'Hello world!' -> [15496, 995, 0]\n",
            "  Decoded back: Hello world!\n",
            "Model params: 26,078,289\n",
            "\n",
            " Model compiled with torch.compile (reduce-overhead mode)\n",
            "  First call will be slow (compilation), subsequent calls fast\n"
          ]
        }
      ]
    },
    {
      "cell_type": "markdown",
      "source": [
        "## Comparing compiled vs eager mode"
      ],
      "metadata": {
        "id": "x4tB8s3avtLF"
      }
    },
    {
      "cell_type": "code",
      "source": [
        "def benchmark_inference(model, compiled_model, input_ids, n_runs=10):\n",
        "\n",
        "  # Warmup - triggers compilation\n",
        "  print(\"Warming up (triggering compilation)...\")\n",
        "  for _ in range(2): # When benchmarking models, the first few runs are usually slower due to: Lazy initialization (loading kernels, allocating memory). JIT compilation overhead (torch.compile, TensorRT, XLA, etc). Running a couple of warmup iterations ensures those costs are paid upfront, so later timings reflect steady-state performance\n",
        "    _ = model(input_ids)\n",
        "    _ = compiled_model(input_ids)\n",
        "\n",
        "\n",
        "  # Eager mode timing\n",
        "  if device.type == 'cuda':\n",
        "    torch.cuda.synchronize() # waiting for gpu to finish, cuda runs async\n",
        "\n",
        "  start = time.time()\n",
        "  for _ in range(n_runs): # Runs the model n_runs times on the same input_ids. Used to measure average runtime or variance across runs\n",
        "    with torch.no_grad(): # not training\n",
        "      _ = model(input_ids)\n",
        "\n",
        "  if device.type == 'cuda':\n",
        "    torch.cuda.synchronize() # waiting for gpu to finish, cuda runs async\n",
        "\n",
        "  eager_time = time.time() -start\n",
        "\n",
        "\n",
        "  # Compiled mode timing\n",
        "  if device.type == 'cuda':\n",
        "    torch.cuda.synchronize() # waiting for gpu to finish, cuda runs async\n",
        "\n",
        "  start = time.time()\n",
        "  for _ in range(n_runs): # Runs the model n_runs times on the same input_ids. Used to measure average runtime or variance across runs\n",
        "    with torch.no_grad(): # not training\n",
        "      _ = compiled_model(input_ids)\n",
        "\n",
        "  if device.type == 'cuda':\n",
        "    torch.cuda.synchronize()\n",
        "  compiled_time = time.time() - start\n",
        "\n",
        "  print(f\"\\nInference benchmark ({n_runs} runs):\")\n",
        "  print(f\"  Eager mode: {eager_time:.3f}s ({1000*eager_time/n_runs:.1f}ms per call)\")\n",
        "  print(f\"  Compiled: {compiled_time:.3f}s ({1000*compiled_time/n_runs:.1f}ms per call)\")\n",
        "  if compiled_time > 0:\n",
        "    print(f\"  Speedup: {eager_time/compiled_time:.2f}x\")\n",
        "\n",
        "\n"
      ],
      "metadata": {
        "id": "H9umyfSMrkui"
      },
      "execution_count": 62,
      "outputs": []
    },
    {
      "cell_type": "markdown",
      "source": [
        "### Test on realistic input"
      ],
      "metadata": {
        "id": "T-zidyygyee4"
      }
    },
    {
      "cell_type": "code",
      "source": [
        "test_input = torch.randint(0, tokenizer.vocab_size, (1, 32)).to(device)\n",
        "benchmark_inference(model, model_compiled, test_input)\n",
        "\n",
        "# generate\n",
        "prompt = \"The future of AI is\"\n",
        "generated = generate_with_amp(model_compiled, prompt, tokenizer, max_new_tokens=20)\n",
        "print(f\"\\nGenerated: {generated}\")\n",
        "\n",
        "print(\"\\nNote: Have to do the benchmark with longer sequences or multiple prompts to see real gains.\")"
      ],
      "metadata": {
        "colab": {
          "base_uri": "https://localhost:8080/"
        },
        "id": "Dzl4OUXIydj9",
        "outputId": "17b4658b-3a0e-4b97-ce7a-d4ad6b31bd7f"
      },
      "execution_count": 63,
      "outputs": [
        {
          "output_type": "stream",
          "name": "stdout",
          "text": [
            "Warming up (triggering compilation)...\n",
            "\n",
            "Inference benchmark (10 runs):\n",
            "  Eager mode: 0.011s (1.1ms per call)\n",
            "  Compiled: 1.391s (139.1ms per call)\n",
            "  Speedup: 0.01x\n"
          ]
        },
        {
          "output_type": "stream",
          "name": "stderr",
          "text": [
            "/usr/local/lib/python3.12/dist-packages/torch/_inductor/lowering.py:7095: UserWarning: \n",
            "Online softmax is disabled on the fly since Inductor decides to\n",
            "split the reduction. Cut an issue to PyTorch if this is an\n",
            "important use case and you want to speed it up with online\n",
            "softmax.\n",
            "\n",
            "  warnings.warn(\n"
          ]
        },
        {
          "output_type": "stream",
          "name": "stdout",
          "text": [
            "\n",
            "Generated: The future of AI isurated Kash accomplishArsenalzin Bean Powers Turner DorStatic WILLPalestinian mereFebruaryvernuild manners inequariansiamond\n",
            "\n",
            "Note: Have to do the benchmark with longer sequences or multiple prompts to see real gains.\n"
          ]
        }
      ]
    },
    {
      "cell_type": "markdown",
      "source": [
        "# Sampling Methods"
      ],
      "metadata": {
        "id": "8vMzZuezs_Tv"
      }
    },
    {
      "cell_type": "code",
      "source": [
        "def apply_temperature(logits:np.ndarray, temperature:float) -> np.ndarray:\n",
        "  \"\"\"\n",
        "  Applying temperature for scaling logits: y= softmax (u/τ)\n",
        "  τ (tau) is the temperature: the closer to 0 more deterministic (more peak/lower entropy in the distrib) while higher than one flattens (higher entropy) all the distribution\n",
        "  The name comes from thermodynamics were hotter systems are more likely to explore new states and colder are the opposite\n",
        "  \"\"\"\n",
        "\n",
        "  if temperature == 0: # argmax, deterministic\n",
        "    probs = np.zeros_like(logits)\n",
        "    probs[np.argmax(logits)] = 1.0\n",
        "    return(probs)\n",
        "\n",
        "  # Scaling by temp\n",
        "  scaled_logits = logits/temperature # u/τ\n",
        "  print(f\"Temperature {temperature}: logits range [{logits.min():.2f}, {logits.max():.2f}] -> [{scaled_logits.min():.2f}, {scaled_logits.max():.2f}]\")\n",
        "\n",
        "  # Apply softmax: exp(ui/τ) / Σ exp(uj/τ)\n",
        "  exp_logits = np.exp(scaled_logits - np.max(scaled_logits)) # a diff scaling but for numerical stability  before softmax, preventing overflow of large values without chaning the softmax probs, benefits numerical predcision also\n",
        "  probs = exp_logits / np.sum(exp_logits) # normalize to sum up to 1\n",
        "  return(probs)\n",
        "\n",
        "def top_k_sampling(logits: np.ndarray, k:int) -> np.ndarray:\n",
        "  \"\"\"\n",
        "  Take the k top most probable, cut-off the rest and normalize only for those k tokens and then sample with the new probs\n",
        "  Cons: k is a constant so inside those inside those k there could be very unlikely words, that's where top-p works better\n",
        "  \"\"\"\n",
        "\n",
        "  probs = np.exp(logits - np.max(logits)) # numerical stability and prevent overflow. # np.max(array) → returns the largest value; np.argmax(array) → returns the index of the largest value.\n",
        "  probs = probs / np.sum(probs) # softmax\n",
        "\n",
        "  # top-k indices\n",
        "  top_k_indices = np.argpartition(probs, -k)[-k:] # Indices of top k values. argpartition perform an indirect partition along the given axis using the algorithm specified by the kind keyword. It returns an array of indices of the same shape as a that index data along the given axis in partitioned order\n",
        "  print(f\"Top-{k} indices: {sorted(top_k_indices)}\")\n",
        "\n",
        "  # Create truncated distrib\n",
        "  truncated_probs = np.zeros_like(probs)\n",
        "  truncated_probs[top_k_indices] = probs[top_k_indices] # there rest are 0 but those specific indices\n",
        "  truncated_probs = truncated_probs / np.sum(truncated_probs) # renormalizing\n",
        "\n",
        "  print(f\"Original entropy: {-np.sum(probs * np.log(probs + 1e-10)):.3f}\")\n",
        "  print(f\"Top-{k} entropy: {-np.sum(truncated_probs * np.log(truncated_probs + 1e-10)):.3f}\")\n",
        "  return truncated_probs\n",
        "\n",
        "def top_p_sampling(logits: np.ndarray, p:float) -> np.ndarray:\n",
        "  \"\"\"\n",
        "  Nucleus sampling: keep smallest set with the cumulative prob >= p\n",
        "  Does nt depend on a constant k like top-k\n",
        "  \"\"\"\n",
        "\n",
        "  probs = np.exp(logits - np.max(logits))  # np.max(array) → returns the largest value; np.argmax(array) → returns the index of the largest value.\n",
        "  probs = probs / np.sum(probs)\n",
        "\n",
        "  # Sort probs desc\n",
        "  sorted_indices = np.argsort(probs)[::-1] # get indices that would sort the array in a descending order\n",
        "  sorted_probs = probs[sorted_indices]\n",
        "\n",
        "  # find cutoff\n",
        "  cumsum = np.cumsum(sorted_probs) # Cumulative sum. returns a new array holding the result is returned unless out is specified\n",
        "  cutoff_idx = np.searchsorted(cumsum, p) + 1  # +1 ensures that the token where the cumulative probability first exceeds p is included. Searchsorted finds indices where elements should be inserted to maintain order\n",
        "  print(f\"Top-p={p}: keeping {cutoff_idx} tokens (out of {len(probs)})\")\n",
        "\n",
        "  # Keep only tokens in the nucleus\n",
        "  nucleus_indices = sorted_indices[:cutoff_idx]\n",
        "  truncated_probs = np.zeros_like(probs)\n",
        "  truncated_probs[nucleus_indices] = probs[nucleus_indices] # the rest are zero\n",
        "  truncated_probs = truncated_probs / np.sum(truncated_probs) # normalize over the sum of top-p probs, which is not just p because the last can exceed the p threshold (+1 above)\n",
        "\n",
        "  print(f\"Nucleus covers {np.sum(probs[nucleus_indices]):.3f} of probability mass\")\n",
        "\n",
        "  return(truncated_probs)\n"
      ],
      "metadata": {
        "id": "4AQ6FefEs-yn"
      },
      "execution_count": 9,
      "outputs": []
    },
    {
      "cell_type": "markdown",
      "source": [
        "## Demonstrate all sampling methods\n"
      ],
      "metadata": {
        "id": "FIhKX7aN3jkW"
      }
    },
    {
      "cell_type": "code",
      "source": [
        "vocab_size = 50\n",
        "logits = np.random.randn(vocab_size) * 2  # Random logits\n",
        "\n",
        "print(\"Original logits statistics:\")\n",
        "print(f\"Shape: {logits.shape}, Mean: {logits.mean():.3f}, Std: {logits.std():.3f}\\n\")\n",
        "\n",
        "# Visualize different sampling strategies\n",
        "fig, axes = plt.subplots(3, 3, figsize=(15, 12))  # 3 rows now: temp, top-k, top-p\n",
        "\n",
        "# Temperature sampling\n",
        "for i, temp in enumerate([0.5, 1.0, 2.0]):\n",
        "    probs = apply_temperature(logits, temp)\n",
        "    axes[0, i].bar(range(vocab_size), probs)\n",
        "    axes[0, i].set_title(f'Temperature τ={temp}')\n",
        "    axes[0, i].set_ylabel('Probability')\n",
        "    axes[0, i].axhline(y=1/vocab_size, color='r', linestyle='--', alpha=0.5, label='uniform')\n",
        "    axes[0, i].text(0.5, 0.95, f'Max p={np.max(probs):.3f}', transform=axes[0, i].transAxes)\n",
        "\n",
        "# Top-k sampling\n",
        "for i, k in enumerate([5, 10, 20]):\n",
        "    probs = top_k_sampling(logits, k)\n",
        "    axes[1, i].bar(range(vocab_size), probs)\n",
        "    axes[1, i].set_title(f'Top-{k} Sampling')\n",
        "    axes[1, i].set_ylabel('Probability')\n",
        "    axes[1, i].set_xlabel('Token ID')\n",
        "    axes[1, i].text(0.5, 0.95, f'{np.sum(probs>0)} active tokens', transform=axes[1, i].transAxes)\n",
        "\n",
        "# Top-p (nucleus) sampling\n",
        "for i, p in enumerate([0.6, 0.8, 0.95]):\n",
        "    probs = top_p_sampling(logits, p)\n",
        "    axes[2, i].bar(range(vocab_size), probs)\n",
        "    axes[2, i].set_title(f'Top-p={p} Sampling')\n",
        "    axes[2, i].set_ylabel('Probability')\n",
        "    axes[2, i].set_xlabel('Token ID')\n",
        "    axes[2, i].text(0.5, 0.95, f'{np.sum(probs>0)} active tokens', transform=axes[2, i].transAxes)\n",
        "\n",
        "plt.tight_layout()\n",
        "plt.show()\n"
      ],
      "metadata": {
        "colab": {
          "base_uri": "https://localhost:8080/",
          "height": 994
        },
        "id": "lvoR1nNYx8vj",
        "outputId": "e9e55624-b01e-4a8c-9edb-014d36b43ea9"
      },
      "execution_count": 10,
      "outputs": [
        {
          "output_type": "stream",
          "name": "stdout",
          "text": [
            "Original logits statistics:\n",
            "Shape: (50,), Mean: -0.292, Std: 1.724\n",
            "\n",
            "Temperature 0.5: logits range [-5.31, 2.81] -> [-10.62, 5.62]\n",
            "Temperature 1.0: logits range [-5.31, 2.81] -> [-5.31, 2.81]\n",
            "Temperature 2.0: logits range [-5.31, 2.81] -> [-2.66, 1.40]\n",
            "Top-5 indices: [np.int64(1), np.int64(11), np.int64(14), np.int64(20), np.int64(31)]\n",
            "Original entropy: 3.046\n",
            "Top-5 entropy: 1.576\n",
            "Top-10 indices: [np.int64(1), np.int64(2), np.int64(7), np.int64(11), np.int64(14), np.int64(17), np.int64(20), np.int64(31), np.int64(46), np.int64(49)]\n",
            "Original entropy: 3.046\n",
            "Top-10 entropy: 2.168\n",
            "Top-20 indices: [np.int64(1), np.int64(2), np.int64(7), np.int64(10), np.int64(11), np.int64(12), np.int64(13), np.int64(14), np.int64(15), np.int64(17), np.int64(20), np.int64(23), np.int64(26), np.int64(28), np.int64(31), np.int64(36), np.int64(40), np.int64(44), np.int64(46), np.int64(49)]\n",
            "Original entropy: 3.046\n",
            "Top-20 entropy: 2.664\n",
            "Top-p=0.6: keeping 7 tokens (out of 50)\n",
            "Nucleus covers 0.622 of probability mass\n",
            "Top-p=0.8: keeping 14 tokens (out of 50)\n",
            "Nucleus covers 0.813 of probability mass\n",
            "Top-p=0.95: keeping 28 tokens (out of 50)\n",
            "Nucleus covers 0.950 of probability mass\n"
          ]
        },
        {
          "output_type": "display_data",
          "data": {
            "text/plain": [
              "<Figure size 1500x1200 with 9 Axes>"
            ],
            "image/png": "[encoded data removed]"
          },
          "metadata": {}
        }
      ]
    },
    {
      "cell_type": "markdown",
      "source": [
        "# Training with Self-Supervision & Teacher Forcing"
      ],
      "metadata": {
        "id": "01tgpmKLaxBE"
      }
    },
    {
      "cell_type": "code",
      "source": [
        "class AutoregressiveLM(nn.Module):\n",
        "  \"\"\"Basic autoregressive lang model for training\"\"\"\n",
        "\n",
        "  def __init__(self, vocab_size: int, d_model:int, context_length:int):\n",
        "    super().__init__()\n",
        "\n",
        "    self.vocab_size = vocab_size\n",
        "    self.d_model = d_model\n",
        "    self.context_length = context_length\n",
        "\n",
        "    # Embeddings [vocab_size, d_model]\n",
        "    self.token_embedding = nn.Embedding(vocab_size, d_model)\n",
        "    self.position_embedding = nn.Embedding(context_length, d_model)\n",
        "\n",
        "    # Simple transformer block\n",
        "    self.attention = nn.MultiheadAttention(\n",
        "        d_model,\n",
        "        num_heads=4,\n",
        "        batch_first=True) # Changes the order of input output arguments expected.  batch_first: If True, then the input and output tensors are provided as (batch, seq, feature). Default: False (seq, batch, feature).\n",
        "\n",
        "    # Standard practice for the feedforward hidden size d_ffn ≈ 4 × d_model\n",
        "    self.ffn = nn.Sequential(\n",
        "        nn.Linear(d_model, d_model * 4), # args: in_features: int, out_features: int,\n",
        "        nn.ReLU(),\n",
        "        nn.Linear(d_model * 4, d_model)\n",
        "    )\n",
        "\n",
        "    self.ln1 = nn.LayerNorm(d_model)\n",
        "    self.ln2 = nn.LayerNorm(d_model)\n",
        "\n",
        "    # Lang model head  (unembedding matrix)\n",
        "    self.lm_head = nn.Linear(d_model,vocab_size, bias=False)\n",
        "    print(f\"Model initialized: vocab={vocab_size}, d_model={d_model}, context={context_length}\")\n",
        "    print(f\"Parameters: {sum(p.numel() for p in self.parameters()):,}\")\n",
        "\n",
        "\n",
        "  def forward(self,\n",
        "              idx: torch.Tensor,\n",
        "              targets: Optional[torch.Tensor]=None):\n",
        "    \"\"\"\n",
        "    Forward pass with Teacher Forcing\n",
        "    idx: [batch, seq_len] token indices\n",
        "    targets: [batch,seq_len] next token targets for training\n",
        "    \"\"\"\n",
        "\n",
        "    B, T = idx.shape # batch size and sequence length\n",
        "\n",
        "    # Token + position embedding\n",
        "    tok_emb = self.token_embedding(idx) # [B, T, d_model] used Batch = True when defining\n",
        "    pos = torch.arange(T, device = idx.device) # position indices [0,1..., T-1]\n",
        "    pos_emb = self.position_embedding(pos) # [T, d_model]\n",
        "    x = tok_emb + pos_emb # [B, T, d_model] Broadcasting position embeddings\n",
        "\n",
        "    print(f\"Embeddings: tok_emb {tok_emb.shape} + pos_emb {pos_emb.shape} = {x.shape}\")\n",
        "\n",
        "\n",
        "    # Mask for attn\n",
        "    mask = torch.triu(torch.ones(T,T), diagonal=1).bool() # Upper triangular\n",
        "\n",
        "    # Self-Attention block\n",
        "    attn_out, _ = self.attention(x, x, x , attn_mask = mask) # applies attn to Q, K, V, with upper mask\n",
        "\n",
        "    x = x + attn_out # Resid conneciotn\n",
        "    x = self.ln1(x) # postnorm\n",
        "\n",
        "    # Feedforward block\n",
        "    ffn_out = self.ffn(x) # [B, T, d_model]\n",
        "    x = x + ffn_out # Residual conn\n",
        "    x = self.ln2(x) # post norm, prenorm would be bfr the resid connection\n",
        "\n",
        "    logits = self.lm_head(x) # Unembedding matrix [B,T, vocab_size]\n",
        "    print(f\"Logits: {logits.shape}, range: [{logits.min():.2f}, {logits.max():.2f}]\")\n",
        "\n",
        "    loss = None\n",
        "    if targets is not None:\n",
        "      # Compute CE Loss for the Lang Modeling\n",
        "      logits_flat = logits.view(-1, self.vocab_size) # [B,T, vocab_size] -> [B*T, vocab_size]  flatten the batch and sequence dimensions into a single dimension while keeping the vocabulary dimension intact. -1 is a placeholder that tells PyTorch to automatically infer that dimension so that the total number of elements stays the same\n",
        "      targets_flat = targets.contiguous().view(-1)  # [B,T] ->[B*T] - flatten to 1D . view(-1) requires the tensor to be contiguous in memory, other options is reshape(-1) which does not require that\n",
        "\n",
        "      # Cross-entropy: -Σ y_true * log(y_pred)\n",
        "      loss = F.cross_entropy(logits_flat, targets_flat)\n",
        "      print(f\"Loss computation: logits {logits_flat.shape} vs targets {targets_flat.shape} = {loss:.4f}\")\n",
        "\n",
        "    return logits, loss\n",
        "\n",
        "def train_step(model: nn.Module, data: torch.Tensor, optimizer: torch.optim.Optimizer):\n",
        "  \"\"\"Single training step with teacher forcing\"\"\"\n",
        "\n",
        "  # Prepare input and targets\n",
        "  inputs = data[:, :-1] # All but last token\n",
        "  targets = data[:, 1:] # All but first token\n",
        "\n",
        "  print(f\"\\nTeacher forcing setup:\")\n",
        "  print(f\"Input sequence:  {inputs[0].tolist()}\")\n",
        "  print(f\"Target sequence: {targets[0].tolist()}\")\n",
        "  print(f\"Teaching model: predict token[i+1] from tokens[0:i+1]\")\n",
        "\n",
        "  # Forward pass\n",
        "  logits, loss = model(inputs, targets)\n",
        "\n",
        "  # Backward pass\n",
        "  optimizer.zero_grad() # resetting before computing grads to not accum prev\n",
        "  loss.backward()\n",
        "\n",
        "  # Gradient stats\n",
        "  total_norm = 0\n",
        "  for p in model.parameters():\n",
        "    if p.grad is not None:\n",
        "      param_norm = p.grad.norm(2).item() # L2 / Ridge Norm of the gradient\n",
        "      total_norm += param_norm ** 2\n",
        "\n",
        "  total_norm = total_norm ** 0.5\n",
        "  print(f\"Gradient norm: {total_norm:.4f}\")\n",
        "\n",
        "  optimizer.step()\n",
        "  return loss.item()\n"
      ],
      "metadata": {
        "id": "4ZPFzMDIal7m"
      },
      "execution_count": 11,
      "outputs": []
    },
    {
      "cell_type": "markdown",
      "source": [
        "### Simple Test\n"
      ],
      "metadata": {
        "id": "6tmdJtWBjIY2"
      }
    },
    {
      "cell_type": "code",
      "source": [
        "# Small model and training\n",
        "vocab_size = 100\n",
        "d_model = 64\n",
        "context_length =16\n",
        "batch_size = 4\n",
        "seq_len = context_length\n",
        "\n",
        "model = AutoregressiveLM(vocab_size, d_model, context_length)\n",
        "optimizer = torch.optim.Adam(model.parameters(), lr=1e-3)\n",
        "\n",
        "\n",
        "# Generate random data\n",
        "data = torch.randint(0, vocab_size, (batch_size, seq_len + 1))  # +1 for targets\n",
        "print(\"Generated Random Data:\")\n",
        "print(data)\n",
        "print(f\"\\nTraining data shape: {data.shape}\")\n",
        "# Training loop\n",
        "losses = []\n",
        "for step in range(5):\n",
        "  loss = train_step(model, data, optimizer)\n",
        "  losses.append(loss)\n",
        "  print(f\"\\nStep {step}: Loss = {loss:.4f}\")\n",
        "\n",
        "print(f\"\\nLoss trajectory: {losses}\")\n"
      ],
      "metadata": {
        "colab": {
          "base_uri": "https://localhost:8080/",
          "height": 0
        },
        "id": "Ws9eT4Rzvnj7",
        "outputId": "6a666836-c69f-4716-e7d3-8ce2dbae6a1d"
      },
      "execution_count": 12,
      "outputs": [
        {
          "output_type": "stream",
          "name": "stdout",
          "text": [
            "Model initialized: vocab=100, d_model=64, context=16\n",
            "Parameters: 63,808\n",
            "Generated Random Data:\n",
            "tensor([[36, 58,  7, 99, 90, 12, 74, 89, 17, 54, 79, 50, 56, 54, 89, 36, 49],\n",
            "        [ 8,  3, 53, 55, 62,  8, 93, 36, 41, 37, 11,  9, 53, 78, 42,  8, 62],\n",
            "        [68, 12, 11, 76, 98, 58, 54, 55, 73, 47,  9, 17, 24, 51,  1, 19, 30],\n",
            "        [ 6, 54, 10, 47, 23, 18, 22, 81, 95, 66, 62, 46, 12, 87, 62, 24, 59]])\n",
            "\n",
            "Training data shape: torch.Size([4, 17])\n",
            "\n",
            "Teacher forcing setup:\n",
            "Input sequence:  [36, 58, 7, 99, 90, 12, 74, 89, 17, 54, 79, 50, 56, 54, 89, 36]\n",
            "Target sequence: [58, 7, 99, 90, 12, 74, 89, 17, 54, 79, 50, 56, 54, 89, 36, 49]\n",
            "Teaching model: predict token[i+1] from tokens[0:i+1]\n",
            "Embeddings: tok_emb torch.Size([4, 16, 64]) + pos_emb torch.Size([16, 64]) = torch.Size([4, 16, 64])\n",
            "Logits: torch.Size([4, 16, 100]), range: [-2.48, 2.13]\n",
            "Loss computation: logits torch.Size([64, 100]) vs targets torch.Size([64]) = 4.8205\n",
            "Gradient norm: 1.2066\n",
            "\n",
            "Step 0: Loss = 4.8205\n",
            "\n",
            "Teacher forcing setup:\n",
            "Input sequence:  [36, 58, 7, 99, 90, 12, 74, 89, 17, 54, 79, 50, 56, 54, 89, 36]\n",
            "Target sequence: [58, 7, 99, 90, 12, 74, 89, 17, 54, 79, 50, 56, 54, 89, 36, 49]\n",
            "Teaching model: predict token[i+1] from tokens[0:i+1]\n",
            "Embeddings: tok_emb torch.Size([4, 16, 64]) + pos_emb torch.Size([16, 64]) = torch.Size([4, 16, 64])\n",
            "Logits: torch.Size([4, 16, 100]), range: [-2.44, 2.09]\n",
            "Loss computation: logits torch.Size([64, 100]) vs targets torch.Size([64]) = 4.6634\n",
            "Gradient norm: 1.1962\n",
            "\n",
            "Step 1: Loss = 4.6634\n",
            "\n",
            "Teacher forcing setup:\n",
            "Input sequence:  [36, 58, 7, 99, 90, 12, 74, 89, 17, 54, 79, 50, 56, 54, 89, 36]\n",
            "Target sequence: [58, 7, 99, 90, 12, 74, 89, 17, 54, 79, 50, 56, 54, 89, 36, 49]\n",
            "Teaching model: predict token[i+1] from tokens[0:i+1]\n",
            "Embeddings: tok_emb torch.Size([4, 16, 64]) + pos_emb torch.Size([16, 64]) = torch.Size([4, 16, 64])\n",
            "Logits: torch.Size([4, 16, 100]), range: [-2.40, 2.05]\n",
            "Loss computation: logits torch.Size([64, 100]) vs targets torch.Size([64]) = 4.5091\n",
            "Gradient norm: 1.1846\n",
            "\n",
            "Step 2: Loss = 4.5091\n",
            "\n",
            "Teacher forcing setup:\n",
            "Input sequence:  [36, 58, 7, 99, 90, 12, 74, 89, 17, 54, 79, 50, 56, 54, 89, 36]\n",
            "Target sequence: [58, 7, 99, 90, 12, 74, 89, 17, 54, 79, 50, 56, 54, 89, 36, 49]\n",
            "Teaching model: predict token[i+1] from tokens[0:i+1]\n",
            "Embeddings: tok_emb torch.Size([4, 16, 64]) + pos_emb torch.Size([16, 64]) = torch.Size([4, 16, 64])\n",
            "Logits: torch.Size([4, 16, 100]), range: [-2.35, 2.00]\n",
            "Loss computation: logits torch.Size([64, 100]) vs targets torch.Size([64]) = 4.3578\n",
            "Gradient norm: 1.1728\n",
            "\n",
            "Step 3: Loss = 4.3578\n",
            "\n",
            "Teacher forcing setup:\n",
            "Input sequence:  [36, 58, 7, 99, 90, 12, 74, 89, 17, 54, 79, 50, 56, 54, 89, 36]\n",
            "Target sequence: [58, 7, 99, 90, 12, 74, 89, 17, 54, 79, 50, 56, 54, 89, 36, 49]\n",
            "Teaching model: predict token[i+1] from tokens[0:i+1]\n",
            "Embeddings: tok_emb torch.Size([4, 16, 64]) + pos_emb torch.Size([16, 64]) = torch.Size([4, 16, 64])\n",
            "Logits: torch.Size([4, 16, 100]), range: [-2.30, 2.01]\n",
            "Loss computation: logits torch.Size([64, 100]) vs targets torch.Size([64]) = 4.2096\n",
            "Gradient norm: 1.1607\n",
            "\n",
            "Step 4: Loss = 4.2096\n",
            "\n",
            "Loss trajectory: [4.820522785186768, 4.66342306137085, 4.5090718269348145, 4.357784271240234, 4.209606647491455]\n"
          ]
        }
      ]
    },
    {
      "cell_type": "markdown",
      "source": [
        "#Fine-tuning: LoRA"
      ],
      "metadata": {
        "id": "SkVVxabZZeXV"
      }
    },
    {
      "cell_type": "code",
      "source": [
        "class LoRALinear(nn.Module):\n",
        "  \"\"\"Linear layer with LoRA\"\"\"\n",
        "\n",
        "  def __init__(self, in_features:int, out_features:int, rank: int=4, alpha:float=1.0):\n",
        "    super().__init__()\n",
        "\n",
        "    self.in_features = in_features\n",
        "    self.out_features = out_features\n",
        "    self.rank = rank\n",
        "    self.alpha = alpha\n",
        "\n",
        "    # Frozen pretrained weights\n",
        "    self.weight = nn.Parameter(torch.randn(out_features, in_features)*0.02)\n",
        "    self.weight.requires_grad = False # Freeze pretrained weights\n",
        "\n",
        "    # LoRA parameters (trainable)\n",
        "    self.lora_A = nn.Parameter(torch.randn(rank, in_features) * 0.02) # [r,in]\n",
        "    self.lora_B = nn.Parameter(torch.zeros(out_features, rank)) # [out, r]  init to zero\n",
        "\n",
        "    # Scaling factor\n",
        "    self.scaling = alpha / rank\n",
        "\n",
        "    print(f\"LoRA Linear layer: [{in_features}] -> [{out_features}]\")\n",
        "    print(f\"  Pretrained W: {self.weight.shape} = {self.weight.numel():,} params (frozen)\")\n",
        "    print(f\"  LoRA A: {self.lora_A.shape} = {self.lora_A.numel():,} params\")\n",
        "    print(f\"  LoRA B: {self.lora_B.shape} = {self.lora_B.numel():,} params\")\n",
        "    print(f\"  Total trainable: {self.lora_A.numel() + self.lora_B.numel():,}\")\n",
        "    print(f\"  Compression: {self.weight.numel() / (self.lora_A.numel() + self.lora_B.numel()):.1f}x\")\n",
        "\n",
        "\n",
        "  def forward(self, x:torch.Tensor) -> torch.Tensor:\n",
        "    \"\"\"Forward pass: h = x(W + BA * scaling)\"\"\"\n",
        "\n",
        "    # Original computation: x @ W^T\n",
        "    out_frozen = F.linear(x, self.weight)\n",
        "\n",
        "\n",
        "    # LoRA computation:     x @ A^T @ B^T * scaling\n",
        "    out_lora = x @ self.lora_A.T @ self.lora_B.T * self.scaling\n",
        "    # x @ lora_A.T → [batch, seq, in] @ [in, rank] = [batch, seq, rank]\n",
        "    # (x @ lora_A.T) @ lora_B.T → [batch, seq, rank] @ [rank, out] = [batch, seq, out]\n",
        "\n",
        "    print(f\"\\nLoRA forward pass:\")\n",
        "    print(f\"  Input: x {x.shape}\")\n",
        "    print(f\"  Frozen path: x {x.shape} @ weight.T {self.weight.T.shape} = out_frozen {out_frozen.shape}\")\n",
        "    print(f\"  LoRA path: x {x.shape} @ lora_A.T {self.lora_A.T.shape} @ self.lora_B.T {self.lora_B.T.shape} = out_lora {out_lora.shape}\")\n",
        "    print(f\"  LoRA contribution norm: out_lora.norm {out_lora.norm():.4f}\")\n",
        "\n",
        "    return out_frozen + out_lora  # During inference, the output becomes h = xW + xAB (instead of the forward pass h = xW)\n",
        "\n"
      ],
      "metadata": {
        "id": "-Yug426hZdj4"
      },
      "execution_count": 45,
      "outputs": []
    },
    {
      "cell_type": "markdown",
      "source": [
        "## Compare standard vs LoRA fine-tuning\n"
      ],
      "metadata": {
        "id": "BkrOHjNBcXiq"
      }
    },
    {
      "cell_type": "code",
      "source": [
        "def count_parameters(model: nn.Module) -> Tuple[int, int]:\n",
        "  \"\"\"Count total and trainable parameters\"\"\"\n",
        "  total = sum(p.numel() for p in model.parameters())\n",
        "  trainable = sum(p.numel() for p in model.parameters() if p.requires_grad)\n",
        "  return total, trainable\n",
        "\n",
        "# Standard linear layer\n",
        "standard_linear = nn.Linear(512, 512)\n",
        "total_std, trainable_std = count_parameters(standard_linear)\n",
        "print(f\"Standard Linear: {total_std:,} total, {trainable_std:,} trainable\\n\")\n",
        "\n",
        "# LoRA linear layer\n",
        "lora_linear = LoRALinear(512, 512, rank=8)\n",
        "total_lora, trainable_lora = count_parameters(lora_linear)\n",
        "print(f\"\\nLoRA Linear: {total_lora:,} total, {trainable_lora:,} trainable\")\n",
        "print(f\"Parameter reduction: {(1 - trainable_lora/trainable_std)*100:.1f}%\\n\")\n",
        "\n",
        "# Test forward pass\n",
        "x = torch.randn(4, 16, 512)  # [batch, seq_len, features]\n",
        "out_standard = standard_linear(x)\n",
        "out_lora = lora_linear(x)\n",
        "\n",
        "print(f\"\\nOutput shapes match: {out_standard.shape} == {out_lora.shape}\\n\")"
      ],
      "metadata": {
        "id": "piRKtnBIylrh",
        "colab": {
          "base_uri": "https://localhost:8080/",
          "height": 0
        },
        "outputId": "38176730-7486-47ad-f2e5-c5dd8393b62a"
      },
      "execution_count": 46,
      "outputs": [
        {
          "output_type": "stream",
          "name": "stdout",
          "text": [
            "Standard Linear: 262,656 total, 262,656 trainable\n",
            "\n",
            "LoRA Linear layer: [512] -> [512]\n",
            "  Pretrained W: torch.Size([512, 512]) = 262,144 params (frozen)\n",
            "  LoRA A: torch.Size([8, 512]) = 4,096 params\n",
            "  LoRA B: torch.Size([512, 8]) = 4,096 params\n",
            "  Total trainable: 8,192\n",
            "  Compression: 32.0x\n",
            "\n",
            "LoRA Linear: 270,336 total, 8,192 trainable\n",
            "Parameter reduction: 96.9%\n",
            "\n",
            "\n",
            "LoRA forward pass:\n",
            "  Input: x torch.Size([4, 16, 512])\n",
            "  Frozen path: x torch.Size([4, 16, 512]) @ weight.T torch.Size([512, 512]) = out_frozen torch.Size([4, 16, 512])\n",
            "  LoRA path: x torch.Size([4, 16, 512]) @ lora_A.T torch.Size([512, 8]) @ self.lora_B.T torch.Size([8, 512]) = out_lora torch.Size([4, 16, 512])\n",
            "  LoRA contribution norm: out_lora.norm 0.0000\n",
            "\n",
            "Output shapes match: torch.Size([4, 16, 512]) == torch.Size([4, 16, 512])\n",
            "\n"
          ]
        }
      ]
    },
    {
      "cell_type": "markdown",
      "source": [
        "#Transformer with LoRA"
      ],
      "metadata": {
        "id": "6XjJ4v9TeXR5"
      }
    },
    {
      "cell_type": "code",
      "source": [
        "class LoRATransformer(nn.Module):\n",
        "  \"\"\"Transformar with LoRA on attention layers\"\"\"\n",
        "\n",
        "  def __init__(self, d_model: int, n_heads: int, lora_rank:int=4):\n",
        "    super().__init__()\n",
        "    self.d_model = d_model\n",
        "    self.n_heads = n_heads\n",
        "    self.d_head = d_model // n_heads\n",
        "\n",
        "    # Replace standard projections with LoRA versions\n",
        "    self.q_proj = LoRALinear(d_model, d_model, rank=lora_rank)\n",
        "    self.k_proj = LoRALinear(d_model, d_model, rank=lora_rank)\n",
        "    self.v_proj = LoRALinear(d_model, d_model, rank=lora_rank)\n",
        "    self.o_proj = LoRALinear(d_model, d_model, rank=lora_rank)\n",
        "\n",
        "    total, trainable = count_parameters(self)\n",
        "    print(f\"\\nLoRA Transformer initialized:\")\n",
        "    print(f\"  Total parameters: {total:,}\")\n",
        "    print(f\"  Trainable parameters: {trainable:,} ({trainable/total*100:.1f}%)\")\n",
        "\n",
        "\n",
        "  def forward(self, x:torch.Tensor) -> torch.Tensor:\n",
        "    B,L,D = x.shape\n",
        "    print(\"\\ninput x shape: \", x.shape, \"\\n\")\n",
        "\n",
        "    # Project to Q,K,V with LoRA\n",
        "    Q = self.q_proj(x).view(B,L,self.n_heads, self.d_head).transpose(1,2)\n",
        "    K = self.k_proj(x).view(B,L,self.n_heads, self.d_head).transpose(1,2)\n",
        "    V = self.v_proj(x).view(B,L,self.n_heads, self.d_head).transpose(1,2)\n",
        "\n",
        "\n",
        "    # Standard attention computation\n",
        "    scores = torch.matmul(Q,K.transpose(-2,-1)) / math.sqrt(self.d_head)\n",
        "    attn = F.softmax(scores,dim=-1)\n",
        "    out = torch.matmul(attn,V)\n",
        "\n",
        "\n",
        "    # Reshape and output projection\n",
        "    out = out.transpose(1,2).contiguous().view(B,L,D) # Reshaped to input shape back. Using contiguous for memory layout\n",
        "    out = self.o_proj(out)\n",
        "\n",
        "    return out"
      ],
      "metadata": {
        "id": "nUswkwv4ch-Q"
      },
      "execution_count": 47,
      "outputs": []
    },
    {
      "cell_type": "markdown",
      "source": [
        "## Testing LoRA transformer\n"
      ],
      "metadata": {
        "id": "lxv02RDFf9xw"
      }
    },
    {
      "cell_type": "code",
      "source": [
        "lora_transformer = LoRATransformer(d_model=256, n_heads=8, lora_rank=4)\n",
        "x = torch.randn(2, 32, 256)\n",
        "output = lora_transformer(x)\n",
        "print(f\"\\nLoRA Transformer output: {output.shape}\")"
      ],
      "metadata": {
        "colab": {
          "base_uri": "https://localhost:8080/",
          "height": 0
        },
        "id": "vnOEkcm3f8vT",
        "outputId": "2f908fcb-7bd6-4e52-fdaf-34ae38045c91"
      },
      "execution_count": 48,
      "outputs": [
        {
          "output_type": "stream",
          "name": "stdout",
          "text": [
            "LoRA Linear layer: [256] -> [256]\n",
            "  Pretrained W: torch.Size([256, 256]) = 65,536 params (frozen)\n",
            "  LoRA A: torch.Size([4, 256]) = 1,024 params\n",
            "  LoRA B: torch.Size([256, 4]) = 1,024 params\n",
            "  Total trainable: 2,048\n",
            "  Compression: 32.0x\n",
            "LoRA Linear layer: [256] -> [256]\n",
            "  Pretrained W: torch.Size([256, 256]) = 65,536 params (frozen)\n",
            "  LoRA A: torch.Size([4, 256]) = 1,024 params\n",
            "  LoRA B: torch.Size([256, 4]) = 1,024 params\n",
            "  Total trainable: 2,048\n",
            "  Compression: 32.0x\n",
            "LoRA Linear layer: [256] -> [256]\n",
            "  Pretrained W: torch.Size([256, 256]) = 65,536 params (frozen)\n",
            "  LoRA A: torch.Size([4, 256]) = 1,024 params\n",
            "  LoRA B: torch.Size([256, 4]) = 1,024 params\n",
            "  Total trainable: 2,048\n",
            "  Compression: 32.0x\n",
            "LoRA Linear layer: [256] -> [256]\n",
            "  Pretrained W: torch.Size([256, 256]) = 65,536 params (frozen)\n",
            "  LoRA A: torch.Size([4, 256]) = 1,024 params\n",
            "  LoRA B: torch.Size([256, 4]) = 1,024 params\n",
            "  Total trainable: 2,048\n",
            "  Compression: 32.0x\n",
            "\n",
            "LoRA Transformer initialized:\n",
            "  Total parameters: 270,336\n",
            "  Trainable parameters: 8,192 (3.0%)\n",
            "\n",
            "input x shape:  torch.Size([2, 32, 256]) \n",
            "\n",
            "\n",
            "LoRA forward pass:\n",
            "  Input: x torch.Size([2, 32, 256])\n",
            "  Frozen path: x torch.Size([2, 32, 256]) @ weight.T torch.Size([256, 256]) = out_frozen torch.Size([2, 32, 256])\n",
            "  LoRA path: x torch.Size([2, 32, 256]) @ lora_A.T torch.Size([256, 4]) @ self.lora_B.T torch.Size([4, 256]) = out_lora torch.Size([2, 32, 256])\n",
            "  LoRA contribution norm: out_lora.norm 0.0000\n",
            "\n",
            "LoRA forward pass:\n",
            "  Input: x torch.Size([2, 32, 256])\n",
            "  Frozen path: x torch.Size([2, 32, 256]) @ weight.T torch.Size([256, 256]) = out_frozen torch.Size([2, 32, 256])\n",
            "  LoRA path: x torch.Size([2, 32, 256]) @ lora_A.T torch.Size([256, 4]) @ self.lora_B.T torch.Size([4, 256]) = out_lora torch.Size([2, 32, 256])\n",
            "  LoRA contribution norm: out_lora.norm 0.0000\n",
            "\n",
            "LoRA forward pass:\n",
            "  Input: x torch.Size([2, 32, 256])\n",
            "  Frozen path: x torch.Size([2, 32, 256]) @ weight.T torch.Size([256, 256]) = out_frozen torch.Size([2, 32, 256])\n",
            "  LoRA path: x torch.Size([2, 32, 256]) @ lora_A.T torch.Size([256, 4]) @ self.lora_B.T torch.Size([4, 256]) = out_lora torch.Size([2, 32, 256])\n",
            "  LoRA contribution norm: out_lora.norm 0.0000\n",
            "\n",
            "LoRA forward pass:\n",
            "  Input: x torch.Size([2, 32, 256])\n",
            "  Frozen path: x torch.Size([2, 32, 256]) @ weight.T torch.Size([256, 256]) = out_frozen torch.Size([2, 32, 256])\n",
            "  LoRA path: x torch.Size([2, 32, 256]) @ lora_A.T torch.Size([256, 4]) @ self.lora_B.T torch.Size([4, 256]) = out_lora torch.Size([2, 32, 256])\n",
            "  LoRA contribution norm: out_lora.norm 0.0000\n",
            "\n",
            "LoRA Transformer output: torch.Size([2, 32, 256])\n"
          ]
        }
      ]
    },
    {
      "cell_type": "markdown",
      "source": [
        "#Fine-tuning: PEFT with HuggingFace & bitsandbytes"
      ],
      "metadata": {
        "id": "I4jtUIBOhYq8"
      }
    },
    {
      "cell_type": "code",
      "source": [
        "from peft import LoraConfig, get_peft_model, TaskType # Hugging Face Parameter Efficient Fine-Tuning utilities\n",
        "import bitsandbytes as bnb # 8-bit iptimization lib\n",
        "\n",
        "class LoRA8bit(nn.Module):\n",
        "  \"\"\"\n",
        "  Low Rank Adaptation:  W + BA where d (dim emb) approaches r (rank)\n",
        "    Allows for 175B models on a single GPU\n",
        "    100-1000x fewer params\n",
        "\n",
        "  bitsandbytes: 8bit quantization for memory efficiency\n",
        "  \"\"\"\n",
        "\n",
        "  def __init__(self, in_features: int, out_features:int, r:int =8,\n",
        "               alpha:float = 32, use_8bit:bool = False):\n",
        "    super().__init__()\n",
        "\n",
        "    self.r = r\n",
        "    self.alpha = alpha\n",
        "    self.scaling = alpha / r\n",
        "\n",
        "    # Frozen base weight\n",
        "    self.weight = nn.Parameter(torch.randn(out_features, in_features) * 0.02)\n",
        "    self.weight.requires_grad = False  # Freeze pretrained weights\n",
        "\n",
        "    # LoRA matrices\n",
        "    self.lora_A = nn.Parameter(torch.randn(r, in_features) * 0.02)\n",
        "    self.lora_B = nn.Parameter(torch.zeros(out_features, r))\n",
        "\n",
        "    self.use_8bit = use_8bit and torch.cuda.is_available()\n",
        "\n",
        "    print(f\"LoRA: {in_features}->{out_features} (rank={r})\")\n",
        "    print(f\"  Compression: {self.weight.numel() / (self.lora_A.numel() + self.lora_B.numel()):.1f}x\")\n",
        "\n",
        "  def forward(self, x: torch.Tensor) -> torch.Tensor:\n",
        "    base_out = F.linear(x, self.weight) # Standar computation\n",
        "\n",
        "    # LoRA computation:     x @ A^T @ B^T * scaling\n",
        "    lora_out = (x @ self.lora_A.T @ self.lora_B.T) * self.scaling  # Lora computation\n",
        "    # x @ lora_A.T → [batch, seq, in] @ [in, rank] = [batch, seq, rank]\n",
        "    # (x @ lora_A.T) @ lora_B.T → [batch, seq, rank] @ [rank, out] = [batch, seq, out]\n",
        "\n",
        "    return base_out + lora_out # During inference, the output becomes h = xW + xAB (instead of the forward pass h = xW)\n"
      ],
      "metadata": {
        "id": "FDSrxLGNf-h1"
      },
      "execution_count": 49,
      "outputs": []
    },
    {
      "cell_type": "code",
      "source": [
        "def create_peft_config(r:int = 8, alpha:int=32, target_modules:List[str] = None ) -> LoraConfig:\n",
        "  \"\"\"PEFT Config for Hugging Face models\"\"\"\n",
        "\n",
        "  if target_modules is None:\n",
        "    target_modules = [\"q_proj\", \"v_proj\", \"k_proj\", \"o_proj\"]\n",
        "\n",
        "  config = LoraConfig(\n",
        "      r = r, # lora rank\n",
        "      lora_alpha = alpha, # lora scaling\n",
        "      target_modules = target_modules, # on which layers apply lora\n",
        "      lora_dropout= 0.1, # dropuout for the lora layers\n",
        "      bias = \"none\", # not training biases\n",
        "      task_type=TaskType.CAUSAL_LM ## Define the adaptor task as Language Modelling\n",
        "  )\n",
        "  print(f\"PEFT Config: r={r}, alpha={alpha}, scaling={alpha/r}\")\n",
        "\n",
        "  return config"
      ],
      "metadata": {
        "id": "OEMDTql-h4rE"
      },
      "execution_count": 50,
      "outputs": []
    },
    {
      "cell_type": "markdown",
      "source": [
        "## Compare efficiency\n"
      ],
      "metadata": {
        "id": "a3dlMvqkmte9"
      }
    },
    {
      "cell_type": "code",
      "source": [
        "class FullModel(nn.Module):\n",
        "  def __init__(self, vocab_size:int, d_model:int):\n",
        "    super().__init__()\n",
        "    self.embedding = nn.Embedding(vocab_size, d_model)\n",
        "    self.transformer = nn.TransformerEncoderLayer(d_model, nhead=8, batch_first=True )\n",
        "    self.lm_head = nn.Linear(d_model, vocab_size)\n"
      ],
      "metadata": {
        "id": "bauiHX3zmpCu"
      },
      "execution_count": 51,
      "outputs": []
    },
    {
      "cell_type": "code",
      "source": [
        "class LoRAModel(nn.Module):\n",
        "  def __init__(self, vocab_size:int, d_model:int, r:int = 8):\n",
        "    super().__init__()\n",
        "\n",
        "    self.embedding = nn.Embedding(vocab_size, d_model)\n",
        "    self.embedding.weight.requires_grad = False\n",
        "\n",
        "    self.q_proj = LoRA8bit(d_model, d_model, r=r)  # LoRA for Q projection\n",
        "    self.k_proj = LoRA8bit(d_model, d_model, r=r)  # LoRA for K projection\n",
        "    self.v_proj = LoRA8bit(d_model, d_model, r=r)  # LoRA for V projection\n",
        "    self.o_proj = LoRA8bit(d_model, d_model, r=r)  # LoRA for output projection\n",
        "\n",
        "    self.lm_head = nn.Linear(d_model, vocab_size)\n",
        "    self.lm_head.weight.requires_grad = False\n"
      ],
      "metadata": {
        "id": "uTW0CgrpnM3D"
      },
      "execution_count": 52,
      "outputs": []
    },
    {
      "cell_type": "code",
      "source": [
        "d_model = 768\n",
        "vocab_size = 50257\n",
        "\n",
        "full_model = FullModel(vocab_size, d_model)\n",
        "lora_model = LoRAModel(vocab_size, d_model, r=8)\n",
        "\n",
        "def count_parameters(model):\n",
        "  total = sum(p.numel() for p in model.parameters())\n",
        "  trainable = sum(p.numel() for p in model.parameters() if p.requires_grad)\n",
        "  return total, trainable\n",
        "\n",
        "full_total, full_trainable = count_parameters(full_model)\n",
        "lora_total, lora_trainable = count_parameters(lora_model)\n",
        "\n",
        "print(\"\\nParameter Efficiency:\")\n",
        "print(f\"Full: {full_trainable:,} trainable\")\n",
        "print(f\"LoRA: {lora_trainable:,} trainable\")\n",
        "print(f\"Reduction: {(1 - lora_trainable/full_trainable)*100:.1f}%\")"
      ],
      "metadata": {
        "colab": {
          "base_uri": "https://localhost:8080/",
          "height": 0
        },
        "id": "EHtw5okJrHLU",
        "outputId": "6bf0d191-3c15-4f92-b4bf-945fa42a445d"
      },
      "execution_count": 56,
      "outputs": [
        {
          "output_type": "stream",
          "name": "stdout",
          "text": [
            "LoRA: 768->768 (rank=8)\n",
            "  Compression: 48.0x\n",
            "LoRA: 768->768 (rank=8)\n",
            "  Compression: 48.0x\n",
            "LoRA: 768->768 (rank=8)\n",
            "  Compression: 48.0x\n",
            "LoRA: 768->768 (rank=8)\n",
            "  Compression: 48.0x\n",
            "\n",
            "Parameter Efficiency:\n",
            "Full: 82,758,993 trainable\n",
            "LoRA: 99,409 trainable\n",
            "Reduction: 99.9%\n"
          ]
        }
      ]
    },
    {
      "cell_type": "code",
      "source": [
        "def train_with_8bit_adam(model: nn.Module, train_loader, num_steps: int = 10):\n",
        "  \"\"\"8-bit Adam: 75% less optimizer memory\"\"\"\n",
        "\n",
        "  lora_params = [p for n, p in model.named_parameters() if 'lora' in n and p.requires_grad]\n",
        "\n",
        "  if torch.cuda.is_available() and hasattr(bnb.optim, 'Adam8bit'):\n",
        "    optimizer = bnb.optim.Adam8bit(lora_params, lr=3e-4)  # 8-bit Adam optimizer\n",
        "    print(\"Using 8-bit Adam\")\n",
        "  else:\n",
        "    optimizer = torch.optim.AdamW(lora_params, lr=3e-4)\n",
        "    print(\"Using standard AdamW\")\n",
        "\n",
        "  model.train()\n",
        "\n",
        "  for step, batch in enumerate(train_loader):\n",
        "    if step >= num_steps:\n",
        "      break\n",
        "\n",
        "    # FIX: Unpack the batch from the list\n",
        "    batch = batch[0]  # Extract tensor from list\n",
        "    batch = batch.to(device)\n",
        "    embeddings = model.embedding(batch)\n",
        "\n",
        "    q = model.q_proj(embeddings)  # Apply LoRA to Q\n",
        "    k = model.k_proj(embeddings)  # Apply LoRA to K\n",
        "    v = model.v_proj(embeddings)  # Apply LoRA to V\n",
        "\n",
        "    scores = torch.matmul(q, k.transpose(-2, -1)) / math.sqrt(d_model)\n",
        "    attn = F.softmax(scores, dim=-1)\n",
        "    out = torch.matmul(attn, v)\n",
        "    out = model.o_proj(out)  # Apply LoRA to output\n",
        "\n",
        "    loss = out.mean()\n",
        "\n",
        "    optimizer.zero_grad()\n",
        "    loss.backward()\n",
        "    grad_norm = torch.nn.utils.clip_grad_norm_(lora_params, max_norm=1.0)\n",
        "    optimizer.step()\n",
        "\n",
        "    if step % 2 == 0:\n",
        "      print(f\"Step {step}: Loss={loss.item():.4f}\")"
      ],
      "metadata": {
        "id": "LuTXkFqbnvID"
      },
      "execution_count": 57,
      "outputs": []
    },
    {
      "cell_type": "markdown",
      "source": [
        "## Training"
      ],
      "metadata": {
        "id": "MCC9usRCoGw-"
      }
    },
    {
      "cell_type": "code",
      "source": [
        "lora_model = lora_model.to(device)\n",
        "\n",
        "dummy_loader = torch.utils.data.DataLoader(\n",
        "  torch.utils.data.TensorDataset(torch.randint(0, vocab_size, (100, 32))),\n",
        "  batch_size=4\n",
        ")\n",
        "\n",
        "train_with_8bit_adam(lora_model, dummy_loader, num_steps=10)"
      ],
      "metadata": {
        "colab": {
          "base_uri": "https://localhost:8080/",
          "height": 0
        },
        "id": "ShCMDiWFoGbs",
        "outputId": "ff7623ff-2c03-46f1-a0d1-66ab6b2c2f28"
      },
      "execution_count": 58,
      "outputs": [
        {
          "output_type": "stream",
          "name": "stdout",
          "text": [
            "Using 8-bit Adam\n",
            "Step 0: Loss=-0.0002\n",
            "Step 2: Loss=-0.0007\n",
            "Step 4: Loss=0.0004\n",
            "Step 6: Loss=-0.0001\n",
            "Step 8: Loss=0.0007\n"
          ]
        }
      ]
    },
    {
      "cell_type": "markdown",
      "source": [
        "## Memory analysis\n"
      ],
      "metadata": {
        "id": "K7tgKj3voX-U"
      }
    },
    {
      "cell_type": "code",
      "source": [
        "print(\"\\nMemory Footprint:\")\n",
        "\n",
        "def get_model_memory(model):\n",
        "  param_bytes = sum(p.numel() * p.element_size() for p in model.parameters())\n",
        "  grad_bytes = sum(p.numel() * p.element_size() for p in model.parameters() if p.requires_grad)\n",
        "  optimizer_bytes = grad_bytes * 2  # Adam momentum + variance\n",
        "  return param_bytes, grad_bytes, optimizer_bytes\n",
        "\n",
        "full_p, full_g, full_o = get_model_memory(full_model)\n",
        "lora_p, lora_g, lora_o = get_model_memory(lora_model)\n",
        "\n",
        "print(f\"Full: {(full_g + full_o)/1024**2:.2f} MB (grad+opt)\")\n",
        "print(f\"LoRA: {(lora_g + lora_o)/1024**2:.2f} MB (grad+opt)\")\n",
        "print(f\"Memory saved: {(1 - (lora_g + lora_o)/(full_g + full_o))*100:.1f}%\")"
      ],
      "metadata": {
        "colab": {
          "base_uri": "https://localhost:8080/",
          "height": 0
        },
        "id": "Q2svafi8obMp",
        "outputId": "1ea0b8d6-5051-47c8-f983-680d2cf7e6fb"
      },
      "execution_count": 59,
      "outputs": [
        {
          "output_type": "stream",
          "name": "stdout",
          "text": [
            "\n",
            "Memory Footprint:\n",
            "Full: 947.10 MB (grad+opt)\n",
            "LoRA: 1.14 MB (grad+opt)\n",
            "Memory saved: 99.9%\n"
          ]
        }
      ]
    },
    {
      "cell_type": "code",
      "source": [],
      "metadata": {
        "id": "F0AV7JTjody8"
      },
      "execution_count": 59,
      "outputs": []
    }
  ]
}