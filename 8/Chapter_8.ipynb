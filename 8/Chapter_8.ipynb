{
  "nbformat": 4,
  "nbformat_minor": 0,
  "metadata": {
    "colab": {
      "provenance": [],
      "gpuType": "T4"
    },
    "kernelspec": {
      "name": "python3",
      "display_name": "Python 3"
    },
    "language_info": {
      "name": "python"
    },
    "accelerator": "GPU"
  },
  "cells": [
    {
      "cell_type": "markdown",
      "source": [
        "# Initial setup"
      ],
      "metadata": {
        "id": "LLDg0PcANWOL"
      }
    },
    {
      "cell_type": "code",
      "execution_count": 1,
      "metadata": {
        "colab": {
          "base_uri": "https://localhost:8080/"
        },
        "id": "24d1A832CfXS",
        "outputId": "db8cf032-0342-4a05-ed46-47305d828ec6"
      },
      "outputs": [
        {
          "output_type": "stream",
          "name": "stdout",
          "text": [
            "PyTorch version:  2.6.0+cu124\n",
            "CUDA available:  True\n"
          ]
        }
      ],
      "source": [
        "import numpy as np\n",
        "import matplotlib.pyplot as plt\n",
        "from collections import defaultdict, Counter\n",
        "\n",
        "import torch\n",
        "import torch.nn as nn\n",
        "import torch.nn.functional as F\n",
        "import torch.optim as optim\n",
        "from torch.nn.utils.rnn import pad_sequence, pad_packed_sequence, pack_padded_sequence\n",
        "\n",
        "from sklearn.model_selection import train_test_split\n",
        "from sklearn.metrics import classification_report, accuracy_score, confusion_matrix\n",
        "\n",
        "import seaborn as sns\n",
        "import tqdm as tqdm\n",
        "import warnings\n",
        "import string\n",
        "import re\n",
        "\n",
        "warnings.filterwarnings('ignore')\n",
        "np.random.seed(42)\n",
        "torch.manual_seed(42)\n",
        "\n",
        "print(\"PyTorch version: \", torch.__version__)\n",
        "print(\"CUDA available: \", torch.cuda.is_available())"
      ]
    },
    {
      "cell_type": "markdown",
      "source": [
        "# Basic RNN"
      ],
      "metadata": {
        "id": "-hbBU53qQHFx"
      }
    },
    {
      "cell_type": "code",
      "source": [
        "class SimpleRNN:\n",
        "  \"\"\"\n",
        "  Basic RNN (Elman) Network:\n",
        "  \"The hidden layer from the previous time step\n",
        "    provides a form of memory, or context, that encodes earlier processing\"\n",
        "\n",
        "  - g is activation function (typically tanh or ReLU)\n",
        "  - f is output function (often softmax for classification)\n",
        "  - U: hidden-to-hidden weights (recurrent connections)\n",
        "  - W: input-to-hidden weights\n",
        "  - V: hidden-to-output weights\n",
        "\n",
        "\n",
        "  h_t = tanh(W_h @ h_{t-1}   +  x_t + b_h )\n",
        "  y_t = W_t @ h_t   +   b_y\n",
        "  \"\"\"\n",
        "\n",
        "  def __init__(self, input_size, hidden_size, output_size):\n",
        "\n",
        "    # W ∈ R^(dh×din): input to hidden weights\n",
        "    # U ∈ R^(dh×dh): hidden to hidden weights (recurrent)\n",
        "    # V ∈ R^(dout×dh): hidden to output weights\n",
        "\n",
        "    # Initializing weght matrices with small random values (not zero)\n",
        "\n",
        "    # W matrix\n",
        "    self.W_x = np.random.randn(hidden_size, input_size) * 0.01 # Weight matrix W: Input to hidden\n",
        "\n",
        "    # U matrix\n",
        "    self.W_h = np.random.randn(hidden_size, hidden_size) * 0.01 # Weight matrix U:  Hidden to hidden (recurrent)\n",
        "\n",
        "    # V matrix\n",
        "    self.W_y = np.random.randn(output_size, hidden_size) * 0.01 # Weight matrix V:  hidden to output\n",
        "\n",
        "\n",
        "    # Initizalizing biases\n",
        "    self.b_h = np.zeros((hidden_size, 1))\n",
        "    self.b_y = np.zeros((output_size, 1))\n",
        "\n",
        "    # Storing the dimensions\n",
        "    self.input_size = input_size    # dh\n",
        "    self.hidden_size = hidden_size  # din\n",
        "    self.output_size =  output_size # dout\n",
        "\n",
        "\n",
        "  def forward_step(self, x_t, h_prev):\n",
        "    \"\"\"\n",
        "    Single foward step\n",
        "\n",
        "      \"The key difference from a feedforward network lies\n",
        "        in the recurrent link... This link augments the input to the computation\n",
        "        at the hidden layer with the value of the hidden layer from the preceding\n",
        "        point in time.\n",
        "      \"\n",
        "    x_t: input at time t, shape (input_size,1)\n",
        "    h_prev: h_{t-1}, shape (hidden_size,1)\n",
        "\n",
        "    \"\"\"\n",
        "\n",
        "    # h_t = g(Uh_{t-1} + Wx_t)\n",
        "    h_t = np.tanh(self.W_h @ h_prev + self.W_x @ x_t + self.b_h)\n",
        "\n",
        "\n",
        "    # y_t = f(Vh_t) with f = identity function\n",
        "    y_t = self.W_y @ h_t + self.b_y\n",
        "\n",
        "    return h_t, y_t\n",
        "\n",
        "\n",
        "  def forward(self, X):\n",
        "    \"\"\"\n",
        "    Forward inference algorithm\n",
        "\n",
        "    X: input sequence, shape (sequence_length, input_size)\n",
        "    Returns: all hidden states and outputs\n",
        "    \"\"\"\n",
        "\n",
        "    seq_len = X.shape[0]\n",
        "    print(\"seq_len: \", seq_len )\n",
        "\n",
        "    # Initialize h_0 to zero vector\n",
        "    h_t = np.zeros((self.hidden_size, 1))\n",
        "\n",
        "    # Store the hidden states\n",
        "    hidden_states = []\n",
        "    outputs = []\n",
        "\n",
        "    # Process sequence incrementally\n",
        "    for t in range(seq_len):\n",
        "      x_t = X[t].reshape(-1,1) # each input at time t\n",
        "      h_t, y_t = self.forward_step(x_t, h_t)\n",
        "      hidden_states.append(h_t)\n",
        "      outputs = y_t\n",
        "\n",
        "    return(hidden_states, outputs)\n",
        "\n",
        "  def __repr__(self):\n",
        "    return(f\" input_size: {self.input_size}, hidden_size: {self.hidden_size}, output_size: {self.output_size}\")\n",
        "\n"
      ],
      "metadata": {
        "id": "z2KLQxZjNcxi"
      },
      "execution_count": 39,
      "outputs": []
    },
    {
      "cell_type": "markdown",
      "source": [
        "## Simple test"
      ],
      "metadata": {
        "id": "d2Pg31USYaRX"
      }
    },
    {
      "cell_type": "code",
      "source": [
        "print(\"Testing Simple RNN (Elman Network):\")\n",
        "\n",
        "rnn = SimpleRNN(input_size=10, hidden_size=20, output_size=5)\n",
        "print(rnn)\n",
        "\n",
        "# Dummy sequence data\n",
        "seq_length = 8\n",
        "input_dim = 10\n",
        "X_dummy = np.random.randn(seq_length, input_dim)\n",
        "\n",
        "hidden_states, outputs = rnn.forward(X_dummy)\n",
        "\n",
        "print(\"hidden_states:  \\n\", np.array(hidden_states).squeeze() ,\" \\n\")\n",
        "\n",
        "print(\"outputs:  \\n\", outputs  ,\" \\n\")\n"
      ],
      "metadata": {
        "colab": {
          "base_uri": "https://localhost:8080/"
        },
        "id": "KTxSOxAKTjw9",
        "outputId": "a836a0c2-09b6-470e-8175-9d32cd3ac0de"
      },
      "execution_count": 60,
      "outputs": [
        {
          "output_type": "stream",
          "name": "stdout",
          "text": [
            "Testing Simple RNN (Elman Network):\n",
            " input_size: 10, hidden_size: 20, output_size: 5\n",
            "seq_len:  8\n",
            "hidden_states:  \n",
            " [[ 0.01887055 -0.02023415 -0.04006347 -0.02688247 -0.01479707  0.04049394\n",
            "   0.00561798 -0.00846347 -0.04877913  0.04294501 -0.02409051 -0.06660846\n",
            "  -0.00042817  0.00488966  0.00328326  0.03043027 -0.00666126 -0.01874015\n",
            "  -0.00732653 -0.02010627]\n",
            " [-0.03074058 -0.06513227 -0.0154158  -0.02582246 -0.04920604  0.05596841\n",
            "  -0.00157467 -0.01030327 -0.03849345  0.0566147  -0.00607753 -0.01107859\n",
            "   0.01410868  0.02119093  0.02916913 -0.01276537 -0.02312962 -0.03267394\n",
            "  -0.02019244 -0.01715019]\n",
            " [-0.0373801  -0.07052222  0.00042827  0.02399737 -0.0052231   0.02132701\n",
            "  -0.00312532  0.0204134  -0.01046912  0.03435214  0.026583   -0.00959331\n",
            "   0.00386246 -0.00182416  0.01444519 -0.0166165   0.02008235 -0.00614024\n",
            "  -0.01040022  0.00494733]\n",
            " [ 0.00615995 -0.03916434 -0.04572169  0.00199492  0.02976359 -0.0123067\n",
            "  -0.0166776  -0.00311072  0.07395245 -0.00882208  0.02769771  0.08717046\n",
            "   0.04821184  0.03424639 -0.0503253   0.02462964  0.00709632 -0.02089755\n",
            "  -0.00443199 -0.01095527]\n",
            " [-0.07574129 -0.00095405 -0.01249032 -0.01100405 -0.00213888 -0.05556678\n",
            "   0.01722588  0.03842021 -0.00244522  0.04355673 -0.03551569 -0.04148852\n",
            "  -0.01989972 -0.03664675 -0.02295862  0.00519518 -0.02723381 -0.0140316\n",
            "   0.07327129  0.02686044]\n",
            " [-0.01107658  0.01891019  0.04268284  0.05340967 -0.01675858 -0.01382907\n",
            "  -0.00283197  0.01221933  0.01437431  0.01987218  0.00567695 -0.01587109\n",
            "   0.00661907  0.00698615 -0.0141366  -0.05461893  0.037876    0.0461141\n",
            "  -0.00805603 -0.01958462]\n",
            " [ 0.03279151  0.02518896 -0.01113259 -0.01067477  0.03374604  0.00248276\n",
            "   0.00663916  0.00342586 -0.04191917 -0.0273146  -0.01242331 -0.08199119\n",
            "  -0.02795872 -0.05187987  0.01779658  0.05467595 -0.00287875  0.00900484\n",
            "   0.01982337  0.0162708 ]\n",
            " [ 0.00328973 -0.04997468 -0.08167575 -0.01427858  0.00548738  0.02865515\n",
            "   0.02885557  0.00509776 -0.00691021  0.02860703 -0.02340791 -0.05526184\n",
            "  -0.01124624  0.00559829  0.00471383  0.0551447  -0.01730143 -0.02493383\n",
            "  -0.01512834 -0.02730441]]  \n",
            "\n",
            "outputs:  \n",
            " [[-0.00041567]\n",
            " [ 0.00054459]\n",
            " [-0.00041614]\n",
            " [-0.00123592]\n",
            " [-0.00046077]]  \n",
            "\n"
          ]
        }
      ]
    },
    {
      "cell_type": "markdown",
      "source": [
        "### Heatmap visualization\n"
      ],
      "metadata": {
        "id": "9SweE6atcaAW"
      }
    },
    {
      "cell_type": "code",
      "source": [
        "hidden_array = np.array(hidden_states).squeeze()\n",
        "\"\"\"\n",
        "Dead neurons: Horizontal lines that stay near 0 (blue/cold) indicate unused hidden units\n",
        "Active neurons: Bright red/blue bands show which units are doing the work\n",
        "Saturation: Very bright areas might indicate saturated neurons (stuck at ±1 with tanh)\n",
        "\"\"\"\n",
        "plt.figure(figsize=(10, 4))\n",
        "plt.imshow(hidden_array.T, aspect='auto', cmap='coolwarm')\n",
        "plt.colorbar()\n",
        "plt.xlabel('Time Step')\n",
        "plt.ylabel('Hidden Unit')\n",
        "plt.title('Hidden State Evolution')\n",
        "plt.show()\n",
        "\n"
      ],
      "metadata": {
        "colab": {
          "base_uri": "https://localhost:8080/",
          "height": 410
        },
        "id": "YuSRagrUbZld",
        "outputId": "156bb6cc-e3e3-4f44-e54f-47f7375e970c"
      },
      "execution_count": 64,
      "outputs": [
        {
          "output_type": "display_data",
          "data": {
            "text/plain": [
              "<Figure size 1000x400 with 2 Axes>"
            ],
            "image/png": "[encoded data removed]"
          },
          "metadata": {}
        }
      ]
    },
    {
      "cell_type": "code",
      "source": [],
      "metadata": {
        "id": "1nrEBgFlcSy2"
      },
      "execution_count": null,
      "outputs": []
    }
  ]
}