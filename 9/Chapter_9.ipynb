{
  "cells": [
    {
      "cell_type": "markdown",
      "source": [
        "# Initial Setup"
      ],
      "metadata": {
        "id": "CmHETDLiiu2q"
      }
    },
    {
      "cell_type": "code",
      "execution_count": 2,
      "metadata": {
        "colab": {
          "base_uri": "https://localhost:8080/"
        },
        "id": "b7aogp5Z4aFj",
        "outputId": "2703b699-6d83-450c-ac81-e833eca843a3"
      },
      "outputs": [
        {
          "output_type": "stream",
          "name": "stdout",
          "text": [
            "\u001b[2K   \u001b[90m━━━━━━━━━━━━━━━━━━━━━━━━━━━━━━━━━━━━━━━━\u001b[0m \u001b[32m211.5/211.5 MB\u001b[0m \u001b[31m3.6 MB/s\u001b[0m eta \u001b[36m0:00:00\u001b[0m\n",
            "\u001b[2K   \u001b[90m━━━━━━━━━━━━━━━━━━━━━━━━━━━━━━━━━━━━━━━━\u001b[0m \u001b[32m56.3/56.3 MB\u001b[0m \u001b[31m9.2 MB/s\u001b[0m eta \u001b[36m0:00:00\u001b[0m\n",
            "\u001b[2K   \u001b[90m━━━━━━━━━━━━━━━━━━━━━━━━━━━━━━━━━━━━━━━━\u001b[0m \u001b[32m127.9/127.9 MB\u001b[0m \u001b[31m7.8 MB/s\u001b[0m eta \u001b[36m0:00:00\u001b[0m\n",
            "\u001b[2K   \u001b[90m━━━━━━━━━━━━━━━━━━━━━━━━━━━━━━━━━━━━━━━━\u001b[0m \u001b[32m207.5/207.5 MB\u001b[0m \u001b[31m6.1 MB/s\u001b[0m eta \u001b[36m0:00:00\u001b[0m\n",
            "\u001b[2K   \u001b[90m━━━━━━━━━━━━━━━━━━━━━━━━━━━━━━━━━━━━━━━━\u001b[0m \u001b[32m188.7/188.7 MB\u001b[0m \u001b[31m5.5 MB/s\u001b[0m eta \u001b[36m0:00:00\u001b[0m\n",
            "\u001b[2K   \u001b[90m━━━━━━━━━━━━━━━━━━━━━━━━━━━━━━━━━━━━━━━━\u001b[0m \u001b[32m21.1/21.1 MB\u001b[0m \u001b[31m73.2 MB/s\u001b[0m eta \u001b[36m0:00:00\u001b[0m\n",
            "\u001b[?25h"
          ]
        }
      ],
      "source": [
        "!pip install torchinfo torchviz -q"
      ]
    },
    {
      "cell_type": "code",
      "execution_count": 3,
      "metadata": {
        "id": "a4q4VtjeJNac",
        "colab": {
          "base_uri": "https://localhost:8080/"
        },
        "outputId": "b41350a4-0120-4bff-dced-1c9b3d2cd3b9"
      },
      "outputs": [
        {
          "output_type": "stream",
          "name": "stdout",
          "text": [
            "Using device: cpu\n",
            "PyTorch version: 2.6.0+cu124\n"
          ]
        }
      ],
      "source": [
        "import numpy as np\n",
        "import matplotlib.pyplot as plt\n",
        "import seaborn as sns\n",
        "from typing import Optional, Tuple\n",
        "import math\n",
        "import time\n",
        "\n",
        "from dataclasses import dataclass # decorator for classes with less boilerplate: Auto-generates __init__, __repr__, etc.\n",
        "from collections import defaultdict\n",
        "\n",
        "import torch\n",
        "import torch.nn as nn\n",
        "import torch.nn.functional as F # Functional interface for operations (activations, pooling, etc.)\n",
        "import torch.optim as optim  # Optimization algorithms (SGD, Adam, etc.)\n",
        "from torch.nn.utils.rnn import pad_sequence\n",
        "from torch.utils.data import DataLoader, Dataset  # DataLoader: Handles batching, shuffling, parallel loading. Dataset: Abstract class for custom datasets\n",
        "\n",
        "from torchinfo import summary\n",
        "from torchviz import make_dot\n",
        "\n",
        "\n",
        "\n",
        "# autocast: Automatic Mixed Precision - uses float16 where possible to speed up training while maintaining float32 for operations that need precision\n",
        "# GradScaler: Scales gradients to prevent underflow when using float16.  Essential for stable mixed precision training\n",
        "from torch.cuda.amp import autocast, GradScaler\n",
        "\n",
        "from functools import partial # Creates partial functions by fixing some arguments. Useful for creating customized functions from general ones\n",
        "\n",
        "\n",
        "\n",
        "\n",
        "np.random.seed(42)\n",
        "torch.manual_seed(42)\n",
        "if torch.cuda.is_available():\n",
        "  torch.cuda.manual_seed(42)\n",
        "\n",
        "device = torch.device('cuda' if torch.cuda.is_available() else 'cpu')\n",
        "print(f\"Using device: {device}\")\n",
        "print(f\"PyTorch version: {torch.__version__}\")"
      ]
    },
    {
      "cell_type": "markdown",
      "source": [
        "### Helper for Visualization of Attention"
      ],
      "metadata": {
        "id": "YP6QyDhJlPJ9"
      }
    },
    {
      "cell_type": "code",
      "source": [
        "def visualize_attention(attention_weights, tokens=None, title=\"Attention Weights\"):\n",
        "  \"\"\"\n",
        "  Visualize attetion weight matrix\n",
        "\n",
        "  attention_weights: 2D tensor/array where element [i,j] shows how much\n",
        "                    query position i attends to key position j\n",
        "  tokens: Optional list of token strings for axis labels\n",
        "  title: Plot title\n",
        "\n",
        "  Attention weights show which parts of input the model focuses on\n",
        "  Darker colors = higher attention scores\n",
        "  \"\"\"\n",
        "\n",
        "  plt.figure(figsize=(10,8))\n",
        "\n",
        "  sns.heatmap(\n",
        "      attention_weights,\n",
        "      cmap=\"Blues\",\n",
        "      cbar=True,\n",
        "      square=True,\n",
        "      xticklabels=tokens if tokens else False,\n",
        "      yticklabels=tokens if tokens else False\n",
        "  )\n",
        "  plt.title(title)\n",
        "  plt.xlabel(\"Keys\")\n",
        "  plt.ylabel(\"Queries\")\n",
        "  plt.show()\n"
      ],
      "metadata": {
        "id": "VVDK6o09kzJM"
      },
      "execution_count": null,
      "outputs": []
    },
    {
      "cell_type": "markdown",
      "source": [
        "# Simplified Dot-Product Attention (Vanilla)"
      ],
      "metadata": {
        "id": "NHERKFKNmAEE"
      }
    },
    {
      "cell_type": "code",
      "source": [
        "def simplified_attention(X):\n",
        "  \"\"\"\n",
        "  Simplified attention mechanism\n",
        "  ai = Σ αij*xj where αij = softmax(xi·xj)\n",
        "  \"\"\"\n",
        "\n",
        "  N,d = X.shape  # N = number of tokens/positions, d = embedding dimension\n",
        "  print(f\"Input shape: {X.shape} (N={N} tokens, d={d} dims)\")\n",
        "\n",
        "  # Compute similarity scores with dot prod\n",
        "  scores = np.zeros((N,N)) # (All the tokens x All the tokens) matrix\n",
        "  for i in range(N):\n",
        "    for j in range(N):\n",
        "      if j <= i: # Causal mask, only attending to prev tokens. Token at position i can only \"see\" positions 0 to i\n",
        "        scores[i,j] = np.dot(X[i], X[j])\n",
        "      else:\n",
        "        scores[i,j] = -np.inf\n",
        "\n",
        "  print(f\"\\nScores shape:\\n {scores.shape}\")\n",
        "  print(f\"Scores:\\n {np.round(scores,4)}\\n\")\n",
        "\n",
        "  # Apply softmax for attention weights\n",
        "  attention_weights = np.zeros_like(scores) # Return an array of zeros with the same shape and type as a given array.\n",
        "\n",
        "  for i in range(N):\n",
        "    exp_scores = np.exp(scores[i] - np.max(scores[i]))    #NUMERICAL STABILITY TRICK: Subtract max before exponentiating\n",
        "    print(\"\\nexp_scores: \\n\", exp_scores)\n",
        "    attention_weights[i] = exp_scores / np.sum(exp_scores) # Normalize to get probs\n",
        "    print(f\"\\nattention_weights[{i}]:\\n \", attention_weights[i],\"\\n\")\n",
        "\n",
        "\n",
        "  print(f\"attention_weights:\\n \", np.round(attention_weights,3),\"\\n\")\n",
        "\n",
        "  print(\"attention_weights.shape:\\n\", attention_weights.shape)\n",
        "  print(\"\\n\\n\")\n",
        "\n",
        "\n",
        "  print(\"Computation of Outputs\\n\")\n",
        "  # Weighted sum for output\n",
        "  output = np.zeros_like(X) # shape (N,d)\n",
        "  for i in range(N):\n",
        "    for j in range(i+1): # Only sum over positions we can attend to (causal)\n",
        "      print(f\"Current  output[{i}]: Embedding {output[i]} +=  Attention weight({attention_weights[i,j]}) * Input of X[{j}] ({X[j]})\")\n",
        "\n",
        "      output[i] += attention_weights[i,j] * X[j] # Each output token is a weighted combination of input tokens\n",
        "\n",
        "      print(f\"Updated  output[{i}]: Embedding {output[i]} \\n\")\n",
        "\n",
        "  print(f\"Output:\\n {output}\")\n",
        "\n",
        "  print(f\"Output shape: {output.shape}\")\n",
        "  return output, attention_weights\n"
      ],
      "metadata": {
        "id": "_zMVcI3Uk79T"
      },
      "execution_count": null,
      "outputs": []
    },
    {
      "cell_type": "markdown",
      "source": [
        "#### Simple test"
      ],
      "metadata": {
        "id": "JTCqEl7GpNwk"
      }
    },
    {
      "cell_type": "code",
      "source": [
        "tokens = [\"The\", \"chicken\", \"didn't\", \"cross\", \"the\", \"road\", \"because\", \"it\"]\n",
        "X = np.random.randn(len(tokens), 4)  # 8 tokens, 4 dims. In real models, dimensions are typically 512, 768, or 1024\n",
        "output, weights = simplified_attention(X)\n",
        "\n",
        "# Viz\n",
        "visualize_attention(weights[:, :len(tokens)], tokens, \"Simplified Attention\")\n"
      ],
      "metadata": {
        "id": "MyJY__w8pdeD"
      },
      "execution_count": null,
      "outputs": []
    },
    {
      "cell_type": "markdown",
      "source": [
        "# Attention with Q, K, V Matrices using NumPy"
      ],
      "metadata": {
        "id": "JyPTUB6O4251"
      }
    },
    {
      "cell_type": "code",
      "source": [
        "class AttentionNumpy:\n",
        "  \"\"\"\n",
        "  Single attention head with Query, Key, Value matrices\n",
        "\n",
        "  d_model: Dimension of input/output embeddings (model's hidden size)\n",
        "  d_k: Dimension of queries and keys (typically d_model / num_heads)\n",
        "  d_v: Dimension of values (often same as d_k)\n",
        "  \"\"\"\n",
        "\n",
        "  def __init__(self, d_model, d_k, d_v):\n",
        "    self.d_model = d_model\n",
        "    self.d_k = d_k\n",
        "    self.d_v = d_v\n",
        "\n",
        "    # Initialize weight matrices\n",
        "    self.W_Q = np.random.randn(d_model, d_k) * 0.1 # Query Projection\n",
        "    self.W_K = np.random.randn(d_model, d_k) * 0.1 # Key Projection\n",
        "    self.W_V = np.random.randn(d_model, d_v) * 0.1 # Value Projection\n",
        "\n",
        "    self.W_O = np.random.randn(d_v, d_model) * 0.1  # Output projection: Projects concatenated/summed attention outputs back to model dimension\n",
        "\n",
        "    print(f\"Initialized weights: W_Q{self.W_Q.shape}, W_K{self.W_K.shape}, W_V{self.W_V.shape}, W_O{self.W_O.shape}\")\n",
        "\n",
        "\n",
        "  def forward(self, X):\n",
        "    \"\"\"\n",
        "    X: [N, d_model] input sequence\n",
        "    Returns: [N, d_model] attention output\n",
        "    \"\"\"\n",
        "\n",
        "    N = X.shape[0] # Num of tokens/positions of the sequence\n",
        "\n",
        "    Q = X @ self.W_Q # shpae [N, d_k]\n",
        "    K = X @ self.W_K # shpae [N, d_k]\n",
        "    V = X @ self.W_V # shpae [N, d_v]\n",
        "\n",
        "    print(f\"Q: {Q.shape}, K: {K.shape}, V: {V.shape}\")\n",
        "\n",
        "\n",
        "    # Scaled dot prod attention\n",
        "    scores = (Q @ K.T) / np.sqrt(self.d_k) # [N, N]\n",
        "\n",
        "    # Causal mask\n",
        "    mask = np.triu(np.ones((N,N)) * -np.inf, k=1)\n",
        "    scores = scores + mask\n",
        "\n",
        "    # Softmax\n",
        "    exp_scores = np.exp(scores - np.max(scores, axis=-1, keepdims=True)) # np.triu: Upper triangular matrix (k=1 means above main diagonal)\n",
        "    attention_weights = exp_scores / np.sum(exp_scores, axis=-1, keepdims=True) #  axis=-1: Apply along last dimension (rows) ;  keepdims=True: Maintains shape for broadcasting\n",
        "\n",
        "    print(f\"\\nexp_scores shape: {exp_scores.shape}\\n\")\n",
        "    print(f\"\\nexp_scores:\\n {exp_scores.round(3)}\\n\")\n",
        "\n",
        "    print(f\"\\nAttention weights shape: {attention_weights.shape}\\n\")\n",
        "    print(f\"\\nAttention weights:\\n {attention_weights.round(3)}\\n\")\n",
        "\n",
        "\n",
        "    # Weighted sum of values\n",
        "    head_output = attention_weights @ V # [N, d_v]\n",
        "\n",
        "    # Output projection\n",
        "    output = head_output @ self.W_O # [N, d_model]\n",
        "\n",
        "    return output, attention_weights\n"
      ],
      "metadata": {
        "id": "Gib49AN54_Ls"
      },
      "execution_count": null,
      "outputs": []
    },
    {
      "cell_type": "markdown",
      "source": [
        "#### Simple test"
      ],
      "metadata": {
        "id": "MOOIRnRR8zPG"
      }
    },
    {
      "cell_type": "code",
      "source": [
        "d_model, d_k, d_v = 8,4,4\n",
        "attention = AttentionNumpy(d_model, d_k, d_v)\n",
        "\n",
        "X = np.random.randn(len(tokens), d_model)\n",
        "output, weights = attention.forward(X)\n",
        "\n",
        "print(f\"\\nFinal output shape: {output.shape}\")\n",
        "visualize_attention(weights, tokens, \"Attention with Q,K,V\")"
      ],
      "metadata": {
        "id": "yXOFwApWwKMF"
      },
      "execution_count": null,
      "outputs": []
    },
    {
      "cell_type": "markdown",
      "source": [
        "## Explanation of how nn.Linear handles batched inputs"
      ],
      "metadata": {
        "id": "nkcX0DAVjlLT"
      }
    },
    {
      "cell_type": "markdown",
      "source": [
        "Here's a brief explanation of how `nn.Linear` handles batched inputs:\n",
        "\n",
        "```python\n",
        "self.W_Q = nn.Linear(d_model, d_head, bias=False)\n",
        "# Creates a weight matrix of shape [d_model, d_head]\n",
        "# This is just a matrix, like W_Q = [[w11, w12, ...], [w21, w22, ...], ...]\n",
        "\n",
        "Q = self.W_Q(x)  # x shape: [batch, seq_len, d_model]\n",
        "                 # Q shape: [batch, seq_len, d_head]\n",
        "```\n",
        "\n",
        "**What's happening under the hood:**\n",
        "\n",
        "`nn.Linear` is smart about dimensions. It applies matrix multiplication to the **last dimension** while preserving all previous dimensions:\n",
        "\n",
        "```python\n",
        "# What nn.Linear does internally (simplified):\n",
        "# For input x with shape [batch, seq_len, d_model]\n",
        "# It treats this as [*, d_model] where * = any number of preceding dimensions\n",
        "# Then does: x @ W_Q.T for the last dimension\n",
        "\n",
        "# Effectively, for each batch and each position:\n",
        "# Q[batch_i][seq_j] = x[batch_i][seq_j] @ W_Q.T\n",
        "# where @ is matrix multiply\n",
        "```\n",
        "\n",
        "**THE ONLY REQUIREMENT:**\n",
        "- Input's **last dimension** must equal the Linear layer's **in_features**\n",
        "- Everything else (batch size, sequence length, extra dimensions) can be anything\n",
        "\n",
        "**Examples:**\n",
        "```python\n",
        "layer = nn.Linear(64, 32)  # Expects last dim = 64, outputs last dim = 32\n",
        "\n",
        "# ✅ These all work:\n",
        "layer(torch.randn(10, 64))        # [10, 64] → [10, 32]\n",
        "layer(torch.randn(5, 20, 64))     # [5, 20, 64] → [5, 20, 32]\n",
        "layer(torch.randn(2, 8, 12, 64))  # [2, 8, 12, 64] → [2, 8, 12, 32]\n",
        "\n",
        "# ❌ These fail:\n",
        "layer(torch.randn(10, 32))        # Error! Last dim 32 ≠ 64\n",
        "layer(torch.randn(5, 20, 128))    # Error! Last dim 128 ≠ 64\n",
        "```\n",
        "\n",
        "\n",
        "\n",
        "**Visual example:**\n",
        "```\n",
        "If x = [2, 8, 64]  (2 batches, 8 positions, 64-dim embeddings)\n",
        "   W_Q = [64, 16]   (transforms 64-dim → 16-dim)\n",
        "   \n",
        "nn.Linear applies the SAME weight matrix to:\n",
        "- Batch 0, Position 0: [64] → [16]\n",
        "- Batch 0, Position 1: [64] → [16]\n",
        "- ...\n",
        "- Batch 1, Position 7: [64] → [16]\n",
        "\n",
        "Result Q = [2, 8, 16]  (same batch & seq_len, new dimension)\n",
        "```\n",
        "\n",
        "**The key insight:** `nn.Linear` automatically broadcasts its operation across all dimensions except the last one, so you don't need to write loops over batches or sequences. One weight matrix, applied everywhere!\n",
        "\n",
        "\n",
        "\n",
        "\n",
        "**In summary:** Only the **last dimension** needs to match the layer's `in_features`. All other dimensions pass through unchanged.\n"
      ],
      "metadata": {
        "id": "HNiJ2TjtjcSw"
      }
    },
    {
      "cell_type": "markdown",
      "source": [
        "# Single Attention Head using PyTorch"
      ],
      "metadata": {
        "id": "pguPS4ln-PKL"
      }
    },
    {
      "cell_type": "code",
      "source": [
        "class AttentionHead(nn.Module):\n",
        "  \"\"\"\n",
        "  PyTorch implementation of a single attention head\n",
        "\n",
        "  d_model is the dimension of input/output embeddings (model's hidden size)\n",
        "  d_head  is the compressed/projected dimension for computational efficiency and multi-head splitting, usually the embedding // num of attention heads\n",
        "\n",
        "  \"\"\"\n",
        "\n",
        "  def __init__(self, d_model, d_head):\n",
        "    super(AttentionHead,self).__init__()  #Initialize parent nn.Module class, this registers parameters and enables .to(device), .train(), etc.\n",
        "\n",
        "    self.d_head  = d_head # Dimension of this attention head, although total model may have multiple heads (multi-head attention)\n",
        "\n",
        "    # Linear projections for Q, K, V\n",
        "    self.W_Q = nn.Linear(d_model, d_head, bias = False)\n",
        "    self.W_K = nn.Linear(d_model, d_head, bias = False)\n",
        "    self.W_V = nn.Linear(d_model, d_head, bias = False)\n",
        "    self.W_O = nn.Linear(d_head, d_model, bias = False) # shape (hidden, output)\n",
        "\n",
        "    self.scale = 1.0 / math.sqrt(d_head) # Pre-compute scaling factor for efficiency to prevent softmax saturation\n",
        "\n",
        "  def forward(self, x, mask=None):\n",
        "    \"\"\"\n",
        "    x: [batch, seq_len, d_model] ## PyTorch convention: batch dimension first for efficiency. This allows processing multiple sequences in parallel on GPU\n",
        "    Returns: [batch, seq_len, d_model], attention_weights\n",
        "    \"\"\"\n",
        "\n",
        "    batch_size, seq_len, d_model = x.shape\n",
        "\n",
        "\n",
        "    # comput Q, K, V\n",
        "    Q = self.W_Q(x)  # [batch, seq_len, d_head]  PyTorch's nn.Linear automatically handles batch dimension. It applies the same transformation to each batch element\n",
        "    K = self.W_K(x)  # nn.Linear is smart about dimensions. It applies matrix multiplication to the last dimension while preserving all previous dimensions\n",
        "    V = self.W_V(x)\n",
        "\n",
        "    # Scaled dot prod attention\n",
        "    scores = torch.matmul(Q, K.transpose(-2, -1)) * self.scale # [batch, seq_len, seq_len].   K.transpose(-2, -1): Swaps last two dimensions (seq_len, d_head) → (d_head, seq_len). Negative indexing: -1 = last dim, -2 = second-to-last\n",
        "\n",
        "    # Mask if provided\n",
        "    if mask is not None:\n",
        "      scores = scores.masked_fill(mask == 0, -1e9)\n",
        "\n",
        "    attn_weights = F.softmax(scores, dim = -1)  # dim=-1: Apply softmax along last dimension (over keys for each query)\n",
        "\n",
        "    # Apply attention to values\n",
        "    context = torch.matmul(attn_weights, V)  # [batch, seq_len, d_head]\n",
        "\n",
        "    # Output\n",
        "    output = self.W_O(context) # [batch, seq_len, d_model]  Project head dim back to model dim. Enables residual connections in full Transformer\n",
        "\n",
        "    return(output, attn_weights)\n",
        "\n",
        "\n"
      ],
      "metadata": {
        "id": "GA8y2TGO-A0f"
      },
      "execution_count": null,
      "outputs": []
    },
    {
      "cell_type": "markdown",
      "source": [
        "### Test Multi-Head Attention"
      ],
      "metadata": {
        "id": "hrA7KFN5rDwQ"
      }
    },
    {
      "cell_type": "code",
      "source": [
        "# Test PyTorch attention head\n",
        "d_model, d_head = 64, 16\n",
        "attention_head = AttentionHead(d_model, d_head)\n",
        "\n",
        "# Create sample input\n",
        "batch_size, seq_len = 2, 8\n",
        "x = torch.randn(batch_size, seq_len, d_model)\n",
        "\n",
        "# Create causal mask\n",
        "mask = torch.tril(torch.ones(seq_len, seq_len)).unsqueeze(0)\n",
        "print(f\"Input shape: {x.shape}\")\n",
        "print(f\"Mask shape: {mask.shape}\")\n",
        "\n",
        "output, attn_weights = attention_head(x, mask)\n",
        "print(f\"Output shape: {output.shape}\")\n",
        "print(f\"Attention weights shape: {attn_weights.shape}\")\n",
        "\n",
        "# Visualize attention for first batch\n",
        "visualize_attention(attn_weights[0].detach().numpy(), title=\"PyTorch Attention Head\")\n",
        "\n",
        "# Model summary\n",
        "summary(attention_head, input_data=[x, mask], verbose=0)"
      ],
      "metadata": {
        "id": "5TN1hUlDpgVh"
      },
      "execution_count": null,
      "outputs": []
    },
    {
      "cell_type": "markdown",
      "source": [
        "#Multi-Head Attention with NumPy\n"
      ],
      "metadata": {
        "id": "KpI586KEtJ54"
      }
    },
    {
      "cell_type": "code",
      "source": [
        "class MultiHeadAttentionNumPy:\n",
        "  \"\"\"Multi-Head attention mechanism\"\"\"\n",
        "\n",
        "  def __init__(self, d_model, n_heads, d_k, d_v):\n",
        "    self.d_model = d_model\n",
        "    self.n_heads = n_heads\n",
        "    self.d_k = d_k\n",
        "    self.d_v = d_k\n",
        "\n",
        "    self.W_Q = [np.random.randn(d_model, d_k) * 0.1 for _ in range(n_heads)  ]\n",
        "    self.W_K = [np.random.randn(d_model, d_k) * 0.1 for _ in range(n_heads)  ]\n",
        "    self.W_V = [np.random.randn(d_model, d_v) * 0.1 for _ in range(n_heads)  ]\n",
        "    self.W_O = np.random.randn(n_heads * d_v, d_model) * 0.1\n",
        "\n",
        "    print(f\"Multi-head attention: {n_heads} heads, d_k={d_k}, d_v={d_v}\")\n",
        "\n",
        "  def forward(self, X):\n",
        "    \"\"\"\n",
        "    X: [N, d_model]\n",
        "    Returns: [N, d_model], list of attention weights per head\n",
        "    \"\"\"\n",
        "\n",
        "\n",
        "    N = X.shape[0]\n",
        "    head_outputs = []\n",
        "    attention_weights_all = []\n",
        "\n",
        "    # Processing each head\n",
        "    for h in range(self.n_heads):\n",
        "      # Compute Q, K, V per head\n",
        "      Q_h = X @ self.W_Q[h]\n",
        "      K_h = X @ self.W_K[h]\n",
        "      V_h = X @ self.W_V[h]\n",
        "\n",
        "      # scaled dot prod attntion\n",
        "      scores = (Q_h @ K_h.T) / (np.sqrt(self.d_k))\n",
        "\n",
        "      # causal mask\n",
        "      mask = np.triu(np.ones((N,N)) * -np.inf,k=1 )\n",
        "      scores = scores + mask\n",
        "\n",
        "      # softmax with optimization and normalization\n",
        "      exp_scores = np.exp(scores - np.max(scores, axis=-1, keepdims=True))  # Numerical stability trick: subtract max before exp\n",
        "      attn_weights = exp_scores / np.sum(exp_scores, axis=-1, keepdims=True) # Normalize to get probabilities [N, N]\n",
        "      attention_weights_all.append(attn_weights)\n",
        "\n",
        "      # Weighted sum\n",
        "      head_out = attn_weights @ V_h  # [N, N] × [N, d_v] = [N, d_v] - Weighted combination of values\n",
        "      head_outputs.append(head_out)\n",
        "\n",
        "    # Concat heads\n",
        "    concat_heads = np.concatenate(head_outputs, axis=1) # [N, d_v] × n_heads → [N, n_heads * d_v]\n",
        "    print(f\"Concatenated heads shape: {concat_heads.shape}\")\n",
        "\n",
        "    # Output projection\n",
        "    output = concat_heads @ self.W_O  # [N, n_heads*d_v] × [n_heads*d_v, d_model] = [N, d_model] - Final output\n",
        "\n",
        "    return(output, attention_weights_all)"
      ],
      "metadata": {
        "id": "sDKQnB1borfI"
      },
      "execution_count": null,
      "outputs": []
    },
    {
      "cell_type": "markdown",
      "source": [
        "### Test multi-head attention\n"
      ],
      "metadata": {
        "id": "ltwdayDkxn3Q"
      }
    },
    {
      "cell_type": "code",
      "source": [
        "d_model, n_heads = 64, 4  # 64-dim embeddings, 4 parallel attention heads\n",
        "d_k = d_v = d_model // n_heads  # 16 dims per head (64/4)\n",
        "mha = MultiHeadAttentionNumPy(d_model, n_heads, d_k, d_v)\n",
        "X = np.random.randn(8, d_model)  # Input: 8 tokens, each 64-dimensional\n",
        "output, attn_weights_list = mha.forward(X)\n",
        "print(f\"Output shape: {output.shape}\")  # Should be [8, 64]\n",
        "print(f\"Number of attention matrices: {len(attn_weights_list)}\")  # Should be 4 (one per head)\n",
        "\n",
        "# Visualize attention from different heads\n",
        "fig, axes = plt.subplots(1, n_heads, figsize=(15, 3))\n",
        "for i, (ax, attn) in enumerate(zip(axes, attn_weights_list)):\n",
        "    sns.heatmap(attn, ax=ax, cmap='Blues', cbar=False, square=True)  # Each head learns different attention patterns\n",
        "    ax.set_title(f\"Head {i+1}\")\n",
        "plt.suptitle(\"Attention Patterns Across Heads\")  # Different heads capture different relationships\n",
        "plt.tight_layout()\n",
        "plt.show()"
      ],
      "metadata": {
        "id": "BoFLKK2ktRZn"
      },
      "execution_count": null,
      "outputs": []
    },
    {
      "cell_type": "markdown",
      "source": [
        "#Multi-Head Attention with PyTorch"
      ],
      "metadata": {
        "id": "7SllUXYMxyaE"
      }
    },
    {
      "cell_type": "code",
      "source": [
        "class MultiHeadAttention(nn.Module):\n",
        "  def __init__(self, d_model, n_heads, dropout=0.1):\n",
        "    super().__init__()\n",
        "\n",
        "    assert d_model % n_heads == 0 # Ensure d_model is divisible by n_heads for even split\n",
        "\n",
        "    self.d_model = d_model\n",
        "    self.n_heads = n_heads\n",
        "    self.d_k = d_model // n_heads\n",
        "\n",
        "    # Single projection for all heads (more efficient)\n",
        "    self.W_Q = nn.Linear(d_model, d_model, bias=False)\n",
        "    self.W_K = nn.Linear(d_model, d_model, bias=False)\n",
        "    self.W_V = nn.Linear(d_model, d_model, bias=False)\n",
        "    self.W_O = nn.Linear(d_model, d_model, bias=False)\n",
        "\n",
        "    self.dropout = nn.Dropout(dropout) # Regularization\n",
        "    self.scale = 1.0 / math.sqrt(self.d_k)\n",
        "\n",
        "  def forward(self, x, mask=None):\n",
        "    \"\"\"\n",
        "    x: [batch, seq_len, d_model]  # Batched input for parallel processing\n",
        "    Returns: [batch, seq_len, d_model]\n",
        "    \"\"\"\n",
        "\n",
        "    batch_size, seq_len, d_model = x.shape\n",
        "\n",
        "    # Linear projections in batch from d_model => n_heads * d_k\n",
        "    Q = self.W_Q(x).view(batch_size, seq_len, self.n_heads, self.d_k)  # [B, L, d] → [B, L, h, d_k] - Reshape to separate heads. view() is O(1) - just changes stride info. Each head gets d_k dimensions\n",
        "    K = self.W_K(x).view(batch_size, seq_len, self.n_heads, self.d_k)\n",
        "    V = self.W_V(x).view(batch_size, seq_len, self.n_heads, self.d_k)\n",
        "\n",
        "    # Transpose for attention: [batch, n_heads, seq_len, d_k].  [B, L, h, d_k] -> [B, h, L, d_k]\n",
        "    Q = Q.transpose(1,2) # moves position 1 to position 2\n",
        "    K = K.transpose(1,2)\n",
        "    V = V.transpose(1,2)\n",
        "\n",
        "    print(f\"Q shape after transpose: {Q.shape}\")\n",
        "\n",
        "\n",
        "    # Scaled dot-product attention\n",
        "    scores = torch.matmul(Q, K.transpose(-2, -1)) * self.scale  # [B, h, L, d_k] × [B, h, d_k, L] = [B, h, L, L]\n",
        "    print(f\"Attention scores shape: {scores.shape}\")  # Each position attends to all positions\n",
        "\n",
        "\n",
        "    # Apply mask\n",
        "    if mask is not None:\n",
        "       mask = mask.unsqueeze(0).unsqueeze(1) # [L,L] -> [1,L,L] broadcasting for heads dimension\n",
        "       scores = scores.masked_fill(mask == 0, -1e9)\n",
        "\n",
        "    # Softmax\n",
        "    attn_weights = F.softmax(scores,dim=-1)\n",
        "    attn_weights = self.dropout(attn_weights) # Dropout\n",
        "\n",
        "    # Apply attention to values\n",
        "    context = torch.matmul(attn_weights, V)  # [B, h, L, L] × [B, h, L, d_k] = [B, h, L, d_k] - Weighted sum of values\n",
        "\n",
        "    # Cncat heads\n",
        "    context = context.transpose(1, 2).contiguous().view(  # transpose back: [B, L, h, d_k]\n",
        "        batch_size, seq_len, d_model  # view: [B, L, h*d_k] = [B, L, d_model] - Merge all heads\n",
        "    )  # contiguous() ensures memory layout is sequential after transpose (required for view)\n",
        "    print(f\"Context after concatenation: {context.shape}\")\n",
        "\n",
        "    # final linear projection\n",
        "    output = self.W_O(context)  # [B, L, d_model] → [B, L, d_model] - Mix information from all heads\n",
        "\n",
        "    return(output, attn_weights)\n"
      ],
      "metadata": {
        "id": "PLOylm-oxiSP"
      },
      "execution_count": null,
      "outputs": []
    },
    {
      "cell_type": "markdown",
      "source": [
        "### Test PyTorch Multi-head attention\n"
      ],
      "metadata": {
        "id": "iGM5WhXq4Drf"
      }
    },
    {
      "cell_type": "code",
      "source": [
        "mha_torch = MultiHeadAttention(d_model=128, n_heads=8)  # 8 heads × 16 dims = 128 total\n",
        "x = torch.randn(2, 10, 128)  # [batch=2, seq=10, d_model=128] - 2 sequences, 10 tokens each\n",
        "mask = torch.tril(torch.ones(10, 10))  # Lower triangular causal mask (can't attend to future)\n",
        "output, attn_weights = mha_torch(x, mask)\n",
        "print(f\"\\nFinal output shape: {output.shape}\")  # Should be [2, 10, 128]\n",
        "print(f\"Attention weights shape: {attn_weights.shape}\")  # [2, 8, 10, 10] - attention map per head per batch\n",
        "\n",
        "# Create computation graph\n",
        "y = output.mean()  # Scalar output needed for autograd graph\n",
        "graph = make_dot(y, params=dict(mha_torch.named_parameters()))  # Visualize backward pass connections\n",
        "graph.render(\"Multi_head_attention\", format=\"png\", cleanup=True)\n",
        "print(\"Computation graph saved as 'Multi_head_attention.png'\")"
      ],
      "metadata": {
        "id": "-Yl3hV0z2gFE"
      },
      "execution_count": null,
      "outputs": []
    },
    {
      "cell_type": "markdown",
      "source": [
        "#Feedforward Network"
      ],
      "metadata": {
        "id": "F151Bb9l5PdU"
      }
    },
    {
      "cell_type": "code",
      "source": [
        "class FeedForward(nn.Module):\n",
        "  \"\"\"\n",
        "  FFN(x) = ReLU(xW1 + b1)W2 + b2\n",
        "  Usually d_ff = 4 * d_model\n",
        "  \"\"\"\n",
        "\n",
        "  def __init__(self, d_model, d_ff=None, dropout=0.1, activation='relu'):\n",
        "    super().__init__()\n",
        "\n",
        "    d_ff = 4*d_model # Default: expand by 4x (e.g., 512 → 2048)\n",
        "\n",
        "    self.linear1 = nn.Linear(d_model, d_ff)\n",
        "    self.linear2 = nn.Linear(d_ff, d_model)\n",
        "\n",
        "    self.dropout = nn.Dropout(dropout)\n",
        "\n",
        "    self.activation = nn.ReLU() if activation =='relu' else nn.GELU() # GELU: smoother, differentiable everywhere\n",
        "    self.activation_name = activation\n",
        "\n",
        "    print(f\"FFN: {d_model} → {d_ff} → {d_model} with {activation}\")\n",
        "\n",
        "\n",
        "  def forward(self,x):\n",
        "    \"\"\"\n",
        "    x: [batch, seq_len, d_model]\n",
        "    Returns: [batch, seq_len, d_model]\n",
        "    \"\"\"\n",
        "\n",
        "    # First layer: linear + activation + regularization\n",
        "    x = self.linear1(x) # [B, L, d_model] → [B, L, d_ff] - Project to higher dimension\n",
        "    x = self.activation(x)\n",
        "    x = self.dropout(x)\n",
        "\n",
        "    # Second layer\n",
        "    x = self.linear2(x) # [B, L, d_ff] → [B, L, d_model] - Project back to original dimension\n",
        "\n",
        "    print(f\"After linear2: {x.shape}\")\n",
        "\n",
        "    return(x)\n",
        ""
      ],
      "metadata": {
        "id": "_SdO_WSP386c",
        "colab": {
          "base_uri": "https://localhost:8080/"
        },
        "outputId": "34141cc0-0aaa-4758-8cf4-d3f243937206"
      },
      "execution_count": 15,
      "outputs": [
        {
          "output_type": "stream",
          "name": "stdout",
          "text": [
            "FFN: 128 → 512 → 128 with relu\n",
            "FFN: 128 → 512 → 128 with gelu\n",
            "After linear2: torch.Size([2, 10, 128])\n",
            "After linear2: torch.Size([2, 10, 128])\n"
          ]
        }
      ]
    },
    {
      "cell_type": "markdown",
      "source": [
        "### Simple test comparing ReLU vs GELU"
      ],
      "metadata": {
        "id": "VOsWAio_aOCF"
      }
    },
    {
      "cell_type": "code",
      "source": [
        "d_model = 128\n",
        "\n",
        "ffn_relu = FeedForward(d_model, activation='relu')\n",
        "ffn_gelu = FeedForward(d_model, activation='gelu')\n",
        "\n",
        "x = torch.randn(2,10, d_model)   # [batch=2, seq=10, features=128]\n",
        "\n",
        "out_relu = ffn_relu(x)\n",
        "out_gelu = ffn_gelu(x)\n",
        "\n",
        "# Visualization\n",
        "x_test = torch.linspace(-3,3, 100)\n",
        "relu_out = F.relu(x_test)\n",
        "gelu_out = F.gelu(x_test)\n",
        "\n",
        "plt.figure(figsize=(10,4))\n",
        "\n",
        "plt.subplot(1,2,1)\n",
        "plt.plot(x_test, relu_out, label='ReLU', linewidth=2)\n",
        "plt.plot(x_test, gelu_out, label='GELU', linewidth=2)\n",
        "plt.xlabel('Input')\n",
        "plt.ylabel('Output')\n",
        "plt.title('Activation Functions')\n",
        "plt.legend()\n",
        "plt.grid(True, alpha=0.3)\n",
        "\n",
        "plt.subplot(1,2,2) # Derivatives\n",
        "relu_grad = (x_test > 0).float()  # ReLU gradient: 0 if x<0, 1 if x>0 (undefined at 0)\n",
        "x_test.requires_grad = True  # Enable gradient computation for GELU\n",
        "gelu_out = F.gelu(x_test)\n",
        "gelu_grad = torch.autograd.grad(gelu_out.sum(), x_test, create_graph=True)[0]  # Compute GELU gradient via autograd\n",
        "\n",
        "plt.plot(x_test.detach(), relu_grad, label='ReLU gradient', linewidth=2)  # Step function\n",
        "plt.plot(x_test.detach(), gelu_grad.detach(), label='GELU gradient', linewidth=2)  # Smooth S-curve\n",
        "plt.xlabel('Input')\n",
        "plt.ylabel('Gradient')\n",
        "plt.title('Gradients')  # GELU has non-zero gradients for negative inputs (helps with dead neurons)\n",
        "plt.legend()\n",
        "plt.grid(True, alpha=0.3)\n",
        "\n",
        "\n",
        "\n",
        "plt.tight_layout()\n",
        "plt.show()"
      ],
      "metadata": {
        "colab": {
          "base_uri": "https://localhost:8080/",
          "height": 335
        },
        "id": "RkCpuZNsW0js",
        "outputId": "bb3f1dc9-06b1-4e57-f92c-c7dfa3a26fe0"
      },
      "execution_count": 18,
      "outputs": [
        {
          "output_type": "stream",
          "name": "stdout",
          "text": [
            "FFN: 128 → 512 → 128 with relu\n",
            "FFN: 128 → 512 → 128 with gelu\n",
            "After linear2: torch.Size([2, 10, 128])\n",
            "After linear2: torch.Size([2, 10, 128])\n"
          ]
        },
        {
          "output_type": "display_data",
          "data": {
            "text/plain": [
              "<Figure size 1000x400 with 2 Axes>"
            ],
            "image/png": "[encoded data removed]"
          },
          "metadata": {}
        }
      ]
    },
    {
      "cell_type": "markdown",
      "source": [
        "#Layer Normalization with Numpy"
      ],
      "metadata": {
        "id": "yWwU_IGrcB-8"
      }
    },
    {
      "cell_type": "code",
      "source": [
        "class LayerNormNumPy:\n",
        "  def __init__(self, d_model, eps=1e-5):\n",
        "    self.d_model = d_model # Channels\n",
        "    self.eps = eps # Small constant for numerical stability\n",
        "\n",
        "    # Learnable params\n",
        "    self.gamma = np.ones(d_model)\n",
        "    self.beta  = np.zeros(d_model)\n",
        "\n",
        "  def forward(self, x):\n",
        "    \"\"\" Normalize over last dimetnsion\"\"\"\n",
        "\n",
        "    # Compute mean and std\n",
        "    mean = np.mean(x, axis=-1, keepdims=True) # axis=-1 apply along last dim (rows), keepdims mantain dimensionality for broadcasting\n",
        "    var = np.var(x, axis=-1, keepdims=True)\n",
        "    std = np.sqrt(var + self.eps) # epsilon brings num stability\n",
        "\n",
        "    print(f\"Mean shape: {mean.shape}, first 3 values: {mean.flat[:3].round(3)}\\n\")\n",
        "    print(f\"Std shape: {std.shape}, first 3 values: {std.flat[:3].round(3)}\\n\")\n",
        "\n",
        "\n",
        "    # Normalize\n",
        "    x_norm = (x-mean)/std\n",
        "\n",
        "    # Scale and shift\n",
        "    output = self.gamma * x_norm + self.beta\n",
        "\n",
        "    print(\"output = self.gamma * x_norm + self.beta \\n\")\n",
        "    print(f\"output {output} =\\n gamma {self.gamma} * \\n x_norm{x_norm.ravel()} \\n+ beta {self.beta} \")\n",
        "\n",
        "\n",
        "    return(output)"
      ],
      "metadata": {
        "id": "qc-u8t4cY5la"
      },
      "execution_count": 45,
      "outputs": []
    },
    {
      "cell_type": "code",
      "source": [
        "d_model = 8\n",
        "x = np.random.randn(2, 4, d_model) * 5 + 2  # Non-normalized input\n",
        "\n",
        "# Numpy implementation\n",
        "ln_numpy = LayerNormNumPy(d_model)\n",
        "out_numpy = ln_numpy.forward(x)\n",
        "\n",
        "# Same but with pyTorch\n",
        "ln_torch = nn.LayerNorm(d_model)\n",
        "x_torch = torch.tensor(x, dtype=torch.float32)\n",
        "out_torch = ln_torch(x_torch)\n",
        "\n",
        "print(f\"\\nInput stats - Mean: {x.mean():.3f}, Std: {x.std():.3f}\")\n",
        "print(f\"Numpy output stats - Mean: {out_numpy.mean():.3f}, Std: {out_numpy.std():.16f}\")\n",
        "print(f\"PyTorch output stats - Mean: {out_torch.mean():.3f}, Std: {out_torch.std():.16f}\")\n",
        "\n",
        "print(f\"{'PyTorch' if (abs(1-out_torch.std().item()) < abs(1-out_numpy.std())) else 'NumPy'} std closest to 1.0\")"
      ],
      "metadata": {
        "colab": {
          "base_uri": "https://localhost:8080/"
        },
        "id": "iu1THVTUgOnm",
        "outputId": "2fa68bb3-5e8f-47ac-bd25-dc1ce34c6df7"
      },
      "execution_count": 128,
      "outputs": [
        {
          "output_type": "stream",
          "name": "stdout",
          "text": [
            "Mean shape: (2, 4, 1), first 3 values: [1.018 2.496 5.96 ]\n",
            "Std shape: (2, 4, 1), first 3 values: [4.576 5.357 5.264]\n",
            "\n",
            "Input stats - Mean: 1.696, Std: 4.766\n",
            "Numpy output stats - Mean: -0.000, Std: 0.9999997031524236\n",
            "PyTorch output stats - Mean: 0.000, Std: 1.0079050064086914\n",
            "NumPy std closest to 1.0\n"
          ]
        }
      ]
    },
    {
      "cell_type": "code",
      "source": [],
      "metadata": {
        "id": "Cq7K1jgHlwO3"
      },
      "execution_count": null,
      "outputs": []
    }
  ],
  "metadata": {
    "colab": {
      "provenance": [],
      "gpuType": "T4"
    },
    "kernelspec": {
      "display_name": "Python 3",
      "name": "python3"
    },
    "language_info": {
      "name": "python"
    },
    "accelerator": "GPU"
  },
  "nbformat": 4,
  "nbformat_minor": 0
}