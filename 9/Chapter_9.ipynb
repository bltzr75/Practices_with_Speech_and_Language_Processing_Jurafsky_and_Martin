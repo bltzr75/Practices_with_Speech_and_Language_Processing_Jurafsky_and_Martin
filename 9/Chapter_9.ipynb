{
  "cells": [
    {
      "cell_type": "markdown",
      "source": [
        "# Initial Setup"
      ],
      "metadata": {
        "id": "CmHETDLiiu2q"
      }
    },
    {
      "cell_type": "code",
      "execution_count": 1,
      "metadata": {
        "colab": {
          "base_uri": "https://localhost:8080/"
        },
        "id": "b7aogp5Z4aFj",
        "outputId": "461ed22c-8323-4e5f-b3a3-758ee18cdcf7"
      },
      "outputs": [
        {
          "output_type": "stream",
          "name": "stdout",
          "text": [
            "\u001b[2K   \u001b[90m━━━━━━━━━━━━━━━━━━━━━━━━━━━━━━━━━━━━━━━━\u001b[0m \u001b[32m363.4/363.4 MB\u001b[0m \u001b[31m4.7 MB/s\u001b[0m eta \u001b[36m0:00:00\u001b[0m\n",
            "\u001b[2K   \u001b[90m━━━━━━━━━━━━━━━━━━━━━━━━━━━━━━━━━━━━━━━━\u001b[0m \u001b[32m13.8/13.8 MB\u001b[0m \u001b[31m72.6 MB/s\u001b[0m eta \u001b[36m0:00:00\u001b[0m\n",
            "\u001b[2K   \u001b[90m━━━━━━━━━━━━━━━━━━━━━━━━━━━━━━━━━━━━━━━━\u001b[0m \u001b[32m24.6/24.6 MB\u001b[0m \u001b[31m57.4 MB/s\u001b[0m eta \u001b[36m0:00:00\u001b[0m\n",
            "\u001b[2K   \u001b[90m━━━━━━━━━━━━━━━━━━━━━━━━━━━━━━━━━━━━━━━━\u001b[0m \u001b[32m883.7/883.7 kB\u001b[0m \u001b[31m36.2 MB/s\u001b[0m eta \u001b[36m0:00:00\u001b[0m\n",
            "\u001b[2K   \u001b[90m━━━━━━━━━━━━━━━━━━━━━━━━━━━━━━━━━━━━━━━━\u001b[0m \u001b[32m664.8/664.8 MB\u001b[0m \u001b[31m2.8 MB/s\u001b[0m eta \u001b[36m0:00:00\u001b[0m\n",
            "\u001b[2K   \u001b[90m━━━━━━━━━━━━━━━━━━━━━━━━━━━━━━━━━━━━━━━━\u001b[0m \u001b[32m211.5/211.5 MB\u001b[0m \u001b[31m7.4 MB/s\u001b[0m eta \u001b[36m0:00:00\u001b[0m\n",
            "\u001b[2K   \u001b[90m━━━━━━━━━━━━━━━━━━━━━━━━━━━━━━━━━━━━━━━━\u001b[0m \u001b[32m56.3/56.3 MB\u001b[0m \u001b[31m13.1 MB/s\u001b[0m eta \u001b[36m0:00:00\u001b[0m\n",
            "\u001b[2K   \u001b[90m━━━━━━━━━━━━━━━━━━━━━━━━━━━━━━━━━━━━━━━━\u001b[0m \u001b[32m127.9/127.9 MB\u001b[0m \u001b[31m7.5 MB/s\u001b[0m eta \u001b[36m0:00:00\u001b[0m\n",
            "\u001b[2K   \u001b[90m━━━━━━━━━━━━━━━━━━━━━━━━━━━━━━━━━━━━━━━━\u001b[0m \u001b[32m207.5/207.5 MB\u001b[0m \u001b[31m5.8 MB/s\u001b[0m eta \u001b[36m0:00:00\u001b[0m\n",
            "\u001b[2K   \u001b[90m━━━━━━━━━━━━━━━━━━━━━━━━━━━━━━━━━━━━━━━━\u001b[0m \u001b[32m188.7/188.7 MB\u001b[0m \u001b[31m6.0 MB/s\u001b[0m eta \u001b[36m0:00:00\u001b[0m\n",
            "\u001b[2K   \u001b[90m━━━━━━━━━━━━━━━━━━━━━━━━━━━━━━━━━━━━━━━━\u001b[0m \u001b[32m21.1/21.1 MB\u001b[0m \u001b[31m42.7 MB/s\u001b[0m eta \u001b[36m0:00:00\u001b[0m\n",
            "\u001b[?25h"
          ]
        }
      ],
      "source": [
        "!pip install torchinfo torchviz -q"
      ]
    },
    {
      "cell_type": "code",
      "execution_count": 6,
      "metadata": {
        "id": "a4q4VtjeJNac",
        "colab": {
          "base_uri": "https://localhost:8080/"
        },
        "outputId": "bca881ff-951d-402e-b8db-0917eb50bf8c"
      },
      "outputs": [
        {
          "output_type": "stream",
          "name": "stdout",
          "text": [
            "Using device: cuda\n",
            "PyTorch version: 2.6.0+cu124\n"
          ]
        }
      ],
      "source": [
        "import numpy as np\n",
        "import matplotlib.pyplot as plt\n",
        "import seaborn as sns\n",
        "from typing import Optional, Tuple\n",
        "import math\n",
        "import time\n",
        "\n",
        "from dataclasses import dataclass # decorator for classes with less boilerplate: Auto-generates __init__, __repr__, etc.\n",
        "from collections import defaultdict\n",
        "\n",
        "import torch\n",
        "import torch.nn as nn\n",
        "import torch.nn.functional as F # Functional interface for operations (activations, pooling, etc.)\n",
        "import torch.optim as optim  # Optimization algorithms (SGD, Adam, etc.)\n",
        "from torch.nn.utils.rnn import pad_sequence\n",
        "from torch.utils.data import DataLoader, Dataset  # DataLoader: Handles batching, shuffling, parallel loading. Dataset: Abstract class for custom datasets\n",
        "\n",
        "from torchinfo import summary\n",
        "from torchviz import make_dot\n",
        "\n",
        "\n",
        "\n",
        "# autocast: Automatic Mixed Precision - uses float16 where possible to speed up training while maintaining float32 for operations that need precision\n",
        "# GradScaler: Scales gradients to prevent underflow when using float16.  Essential for stable mixed precision training\n",
        "from torch.cuda.amp import autocast, GradScaler\n",
        "\n",
        "from functools import partial # Creates partial functions by fixing some arguments. Useful for creating customized functions from general ones\n",
        "\n",
        "\n",
        "\n",
        "\n",
        "np.random.seed(42)\n",
        "torch.manual_seed(42)\n",
        "if torch.cuda.is_available():\n",
        "  torch.cuda.manual_seed(42)\n",
        "\n",
        "device = torch.device('cuda' if torch.cuda.is_available() else 'cpu')\n",
        "print(f\"Using device: {device}\")\n",
        "print(f\"PyTorch version: {torch.__version__}\")"
      ]
    },
    {
      "cell_type": "markdown",
      "source": [
        "### Helper for Visualization of Attention"
      ],
      "metadata": {
        "id": "YP6QyDhJlPJ9"
      }
    },
    {
      "cell_type": "code",
      "source": [
        "def visualize_attention(attention_weights, tokens=None, title=\"Attention Weights\"):\n",
        "  \"\"\"\n",
        "  Visualize attetion weight matrix\n",
        "\n",
        "  attention_weights: 2D tensor/array where element [i,j] shows how much\n",
        "                    query position i attends to key position j\n",
        "  tokens: Optional list of token strings for axis labels\n",
        "  title: Plot title\n",
        "\n",
        "  Attention weights show which parts of input the model focuses on\n",
        "  Darker colors = higher attention scores\n",
        "  \"\"\"\n",
        "\n",
        "  plt.figure(figsize=(10,8))\n",
        "\n",
        "  sns.heatmap(\n",
        "      attention_weights,\n",
        "      cmap=\"Blues\",\n",
        "      cbar=True,\n",
        "      square=True,\n",
        "      xticklabels=tokens if tokens else False,\n",
        "      yticklabels=tokens if tokens else False\n",
        "  )\n",
        "  plt.title(title)\n",
        "  plt.xlabel(\"Keys\")\n",
        "  plt.ylabel(\"Queries\")\n",
        "  plt.show()\n"
      ],
      "metadata": {
        "id": "VVDK6o09kzJM"
      },
      "execution_count": 7,
      "outputs": []
    },
    {
      "cell_type": "markdown",
      "source": [
        "# Simplified Dot-Product Attention (Vanilla)"
      ],
      "metadata": {
        "id": "NHERKFKNmAEE"
      }
    },
    {
      "cell_type": "code",
      "source": [
        "def simplified_attention(X):\n",
        "  \"\"\"\n",
        "  Simplified attention mechanism\n",
        "  ai = Σ αij*xj where αij = softmax(xi·xj)\n",
        "  \"\"\"\n",
        "\n",
        "  N,d = X.shape  # N = number of tokens/positions, d = embedding dimension\n",
        "  print(f\"Input shape: {X.shape} (N={N} tokens, d={d} dims)\")\n",
        "\n",
        "  # Compute similarity scores with dot prod\n",
        "  scores = np.zeros((N,N)) # (All the tokens x All the tokens) matrix\n",
        "  for i in range(N):\n",
        "    for j in range(N):\n",
        "      if j <= i: # Causal mask, only attending to prev tokens. Token at position i can only \"see\" positions 0 to i\n",
        "        scores[i,j] = np.dot(X[i], X[j])\n",
        "      else:\n",
        "        scores[i,j] = -np.inf\n",
        "\n",
        "  print(f\"\\nScores shape: {scores.shape}\")\n",
        "  print(f\"Scores:\\n {np.round(scores,4)}\\n\")\n",
        "\n",
        "  # Apply softmax for attention weights\n",
        "  attention_weights = np.zeros_like(scores) # Return an array of zeros with the same shape and type as a given array.\n",
        "\n",
        "  for i in range(N):\n",
        "    exp_scores = np.exp(scores[i] - np.max(scores[i]))    #NUMERICAL STABILITY TRICK: Subtract max before exponentiating\n",
        "    print(\"\\nexp_scores: \", exp_scores)\n",
        "    attention_weights[i] = exp_scores / np.sum(exp_scores) # Normalize to get probs\n",
        "    print(f\"attention_weights[{i}]:\\n \", attention_weights[i],\"\\n\")\n",
        "\n",
        "\n",
        "  print(f\"attention_weights:\\n \", np.round(attention_weights,3),\"\\n\")\n",
        "\n",
        "  print(\"attention_weights.shape:\\n\", attention_weights.shape)\n",
        "  print(\"\\n\\n\")\n",
        "\n",
        "\n",
        "  print(\"Computation of Outputs\\n\")\n",
        "  # Weighted sum for output\n",
        "  output = np.zeros_like(X) # shape (N,d)\n",
        "  for i in range(N):\n",
        "    for j in range(i+1): # Only sum over positions we can attend to (causal)\n",
        "      output[i] += attention_weights[i,j] * X[j] # Each output token is a weighted combination of input tokens\n",
        "      print(f\"output[{i}]: Embedding {output[i]} +=  Attention weight({attention_weights[i,j]}) * Input ({X[j]}) \\n\")\n",
        "\n",
        "\n",
        "  print(f\"Output:\\n {output}\")\n",
        "\n",
        "  print(f\"Output shape: {output.shape}\")\n",
        "  return output, attention_weights\n"
      ],
      "metadata": {
        "id": "_zMVcI3Uk79T"
      },
      "execution_count": 49,
      "outputs": []
    },
    {
      "cell_type": "markdown",
      "source": [
        "#### Simple test"
      ],
      "metadata": {
        "id": "JTCqEl7GpNwk"
      }
    },
    {
      "cell_type": "code",
      "source": [
        "tokens = [\"The\", \"chicken\", \"didn't\", \"cross\", \"the\", \"road\", \"because\", \"it\"]\n",
        "X = np.random.randn(len(tokens), 4)  # 8 tokens, 4 dims. In real models, dimensions are typically 512, 768, or 1024\n",
        "output, weights = simplified_attention(X)\n",
        "\n",
        "# Viz\n",
        "visualize_attention(weights[:, :len(tokens)], tokens, \"Simplified Attention\")\n"
      ],
      "metadata": {
        "colab": {
          "base_uri": "https://localhost:8080/",
          "height": 1000
        },
        "id": "MyJY__w8pdeD",
        "outputId": "8a51456c-9974-486e-a5b7-2a29fcf11d44"
      },
      "execution_count": 50,
      "outputs": [
        {
          "output_type": "stream",
          "name": "stdout",
          "text": [
            "Input shape: (8, 4) (N=8 tokens, d=4 dims)\n",
            "\n",
            "Scores shape: (8, 8)\n",
            "Scores:\n",
            " [[ 2.8415    -inf    -inf    -inf    -inf    -inf    -inf    -inf]\n",
            " [-2.5763  6.7962    -inf    -inf    -inf    -inf    -inf    -inf]\n",
            " [ 0.5297 -2.6484  2.3102    -inf    -inf    -inf    -inf    -inf]\n",
            " [ 0.7838  1.9052 -1.7444  2.2002    -inf    -inf    -inf    -inf]\n",
            " [-0.8023  1.1253  0.7682 -0.8999  2.1772    -inf    -inf    -inf]\n",
            " [-0.4523  2.4412 -1.9382  1.7338 -1.0679  1.9957    -inf    -inf]\n",
            " [-0.8038 -1.925   1.0728 -1.4434 -0.8719 -0.5179  2.5597    -inf]\n",
            " [ 1.8764 -0.0313 -1.8814  2.084  -1.2842  1.2295 -1.8733  3.8535]]\n",
            "\n",
            "\n",
            "exp_scores:  [1. 0. 0. 0. 0. 0. 0. 0.]\n",
            "attention_weights[0]:\n",
            "  [1. 0. 0. 0. 0. 0. 0. 0.] \n",
            "\n",
            "\n",
            "exp_scores:  [8.50325724e-05 1.00000000e+00 0.00000000e+00 0.00000000e+00\n",
            " 0.00000000e+00 0.00000000e+00 0.00000000e+00 0.00000000e+00]\n",
            "attention_weights[1]:\n",
            "  [8.50253425e-05 9.99914975e-01 0.00000000e+00 0.00000000e+00\n",
            " 0.00000000e+00 0.00000000e+00 0.00000000e+00 0.00000000e+00] \n",
            "\n",
            "\n",
            "exp_scores:  [0.16855641 0.00702297 1.         0.         0.         0.\n",
            " 0.         0.        ]\n",
            "attention_weights[2]:\n",
            "  [0.14338156 0.00597405 0.85064439 0.         0.         0.\n",
            " 0.         0.        ] \n",
            "\n",
            "\n",
            "exp_scores:  [0.242577   0.74449364 0.01935954 1.         0.         0.\n",
            " 0.         0.        ]\n",
            "attention_weights[3]:\n",
            "  [0.12089979 0.37105385 0.00964875 0.49839761 0.         0.\n",
            " 0.         0.        ] \n",
            "\n",
            "\n",
            "exp_scores:  [0.05081759 0.34928113 0.24438465 0.04609307 1.         0.\n",
            " 0.         0.        ]\n",
            "attention_weights[4]:\n",
            "  [0.03005932 0.20660475 0.14455699 0.02726471 0.59151422 0.\n",
            " 0.         0.        ] \n",
            "\n",
            "\n",
            "exp_scores:  [0.05537769 1.         0.01253276 0.49292935 0.02992245 0.64045747\n",
            " 0.         0.        ]\n",
            "attention_weights[5]:\n",
            "  [0.02481947 0.44818536 0.005617   0.22092371 0.0134108  0.28704366\n",
            " 0.         0.        ] \n",
            "\n",
            "\n",
            "exp_scores:  [0.03461499 0.01128063 0.22607536 0.01825999 0.03233762 0.04607148\n",
            " 1.         0.        ]\n",
            "attention_weights[6]:\n",
            "  [0.02529152 0.00824221 0.16518248 0.0133417  0.02362756 0.03366223\n",
            " 0.73065229 0.        ] \n",
            "\n",
            "\n",
            "exp_scores:  [0.13846461 0.02055139 0.00323099 0.1704089  0.00587089 0.07250737\n",
            " 0.00325737 1.        ]\n",
            "attention_weights[7]:\n",
            "  [0.09790387 0.01453122 0.00228453 0.12049065 0.00415112 0.05126763\n",
            " 0.00230318 0.7070678 ] \n",
            "\n",
            "attention_weights:\n",
            "  [[1.    0.    0.    0.    0.    0.    0.    0.   ]\n",
            " [0.    1.    0.    0.    0.    0.    0.    0.   ]\n",
            " [0.143 0.006 0.851 0.    0.    0.    0.    0.   ]\n",
            " [0.121 0.371 0.01  0.498 0.    0.    0.    0.   ]\n",
            " [0.03  0.207 0.145 0.027 0.592 0.    0.    0.   ]\n",
            " [0.025 0.448 0.006 0.221 0.013 0.287 0.    0.   ]\n",
            " [0.025 0.008 0.165 0.013 0.024 0.034 0.731 0.   ]\n",
            " [0.098 0.015 0.002 0.12  0.004 0.051 0.002 0.707]] \n",
            "\n",
            "attention_weights.shape:\n",
            " (8, 8)\n",
            "\n",
            "\n",
            "\n",
            "Computation of Outputs\n",
            "\n",
            "output[0]: Embedding [-0.34268759 -0.37144087 -1.40751169 -0.77781669] +=  Attention weight(1.0) * Input ([-0.34268759 -0.37144087 -1.40751169 -0.77781669]) \n",
            "\n",
            "output[1]: Embedding [-2.91371301e-05 -3.15818869e-05 -1.19674164e-04 -6.61341303e-05] +=  Attention weight(8.502534250789339e-05) * Input ([-0.34268759 -0.37144087 -1.40751169 -0.77781669]) \n",
            "\n",
            "output[1]: Embedding [-1.11051056  1.75208987  0.93547916  1.27138085] +=  Attention weight(0.999914974657492) * Input ([-1.11057585  1.75227044  0.93567839  1.27155509]) \n",
            "\n",
            "output[2]: Embedding [-0.04913508 -0.05325777 -0.20181122 -0.11152457] +=  Attention weight(0.14338156102650457) * Input ([-0.34268759 -0.37144087 -1.40751169 -0.77781669]) \n",
            "\n",
            "output[2]: Embedding [-0.05576972 -0.04278962 -0.19622143 -0.10392823] +=  Attention weight(0.005974052745799929) * Input ([-1.11057585  1.75227044  0.93567839  1.27155509]) \n",
            "\n",
            "output[2]: Embedding [ 0.55811657 -1.00321117 -0.64240165  0.31235549] +=  Attention weight(0.8506443862276956) * Input ([ 0.72167206 -1.12905177 -0.52452027  0.48937456]) \n",
            "\n",
            "output[3]: Embedding [-0.04143086 -0.04490712 -0.17016788 -0.09403788] +=  Attention weight(0.12089979481035393) * Input ([-0.34268759 -0.37144087 -1.40751169 -0.77781669]) \n",
            "\n",
            "output[3]: Embedding [-0.4535143   0.60527957  0.17701919  0.37777753] +=  Attention weight(0.3710538495038055) * Input ([-1.11057585  1.75227044  0.93567839  1.27155509]) \n",
            "\n",
            "output[3]: Embedding [-0.44655107  0.59438563  0.17195823  0.38249939] +=  Attention weight(0.009648748556363678) * Input ([ 0.72167206 -1.12905177 -0.52452027  0.48937456]) \n",
            "\n",
            "output[3]: Embedding [-1.05565665  0.94974234  0.05218063  0.19568959] +=  Attention weight(0.49839760712947684) * Input ([-1.22212781  0.71299843 -0.2403254  -0.37482081]) \n",
            "\n",
            "output[4]: Embedding [-0.01030096 -0.01116526 -0.04230885 -0.02338064] +=  Attention weight(0.030059324565497238) * Input ([-0.34268759 -0.37144087 -1.40751169 -0.77781669]) \n",
            "\n",
            "output[4]: Embedding [-0.23975121  0.35086214  0.15100675  0.23932868] +=  Attention weight(0.20660475473455492) * Input ([-1.11057585  1.75227044  0.93567839  1.27155509]) \n",
            "\n",
            "output[4]: Embedding [-0.13542846  0.18764981  0.07518368  0.3100712 ] +=  Attention weight(0.14455699293935684) * Input ([ 0.72167206 -1.12905177 -0.52452027  0.48937456]) \n",
            "\n",
            "output[4]: Embedding [-0.16874942  0.20708951  0.06863128  0.29985182] +=  Attention weight(0.027264707282107444) * Input ([-1.22212781  0.71299843 -0.2403254  -0.37482081]) \n",
            "\n",
            "output[4]: Embedding [ 0.25179351  0.46987757 -0.14488534  0.98561188] +=  Attention weight(0.5915142204784836) * Input ([ 0.71095997  0.44426331 -0.36096617  1.1593298 ]) \n",
            "\n",
            "output[5]: Embedding [-0.00850532 -0.00921897 -0.03493369 -0.019305  ] +=  Attention weight(0.024819469273067604) * Input ([-0.34268759 -0.37144087 -1.40751169 -0.77781669]) \n",
            "\n",
            "output[5]: Embedding [-0.50624916  0.77612299  0.38442366  0.55058738] +=  Attention weight(0.4481853568269003) * Input ([-1.11057585  1.75227044  0.93567839  1.27155509]) \n",
            "\n",
            "output[5]: Embedding [-0.50219552  0.76978111  0.38147743  0.55333619] +=  Attention weight(0.0056169985644818395) * Input ([ 0.72167206 -1.12905177 -0.52452027  0.48937456]) \n",
            "\n",
            "output[5]: Embedding [-0.77219254  0.92729937  0.32838385  0.47052939] +=  Attention weight(0.22092371450426082) * Input ([-1.22212781  0.71299843 -0.2403254  -0.37482081]) \n",
            "\n",
            "output[5]: Embedding [-0.762658    0.9332573   0.32354301  0.48607693] +=  Attention weight(0.013410802988953021) * Input ([ 0.71095997  0.44426331 -0.36096617  1.1593298 ]) \n",
            "\n",
            "output[5]: Embedding [-1.07297037  1.11005771  0.49378896  0.39722359] +=  Attention weight(0.2870436578423364) * Input ([-1.08106333  0.61593561  0.59310126 -0.30954644]) \n",
            "\n",
            "output[6]: Embedding [-0.00866709 -0.0093943  -0.03559811 -0.01967217] +=  Attention weight(0.02529151903765661) * Input ([-0.34268759 -0.37144087 -1.40751169 -0.77781669]) \n",
            "\n",
            "output[6]: Embedding [-0.01782069  0.00504829 -0.02788605 -0.00919174] +=  Attention weight(0.008242214742912571) * Input ([-1.11057585  1.75227044  0.93567839  1.27155509]) \n",
            "\n",
            "output[6]: Embedding [ 0.10138689 -0.18145129 -0.11452761  0.07164437] +=  Attention weight(0.1651824818256012) * Input ([ 0.72167206 -1.12905177 -0.52452027  0.48937456]) \n",
            "\n",
            "output[6]: Embedding [ 0.08508162 -0.17193867 -0.11773396  0.06664362] +=  Attention weight(0.013341704121458284) * Input ([-1.22212781  0.71299843 -0.2403254  -0.37482081]) \n",
            "\n",
            "output[6]: Embedding [ 0.10187987 -0.16144182 -0.1262627   0.09403575] +=  Attention weight(0.023627555515286593) * Input ([ 0.71095997  0.44426331 -0.36096617  1.1593298 ]) \n",
            "\n",
            "output[6]: Embedding [ 0.06548886 -0.14070805 -0.10629759  0.08361573] +=  Attention weight(0.03366223405356633) * Input ([-1.08106333  0.61593561  0.59310126 -0.30954644]) \n",
            "\n",
            "output[6]: Embedding [ 0.3037787  -1.05483705  0.56884487 -0.05148344] +=  Attention weight(0.7306522907035184) * Input ([ 0.32613302 -1.25111358  0.92402702 -0.18490214]) \n",
            "\n",
            "output[7]: Embedding [-0.03355044 -0.0363655  -0.13780084 -0.07615126] +=  Attention weight(0.09790386943588938) * Input ([-0.34268759 -0.37144087 -1.40751169 -0.77781669]) \n",
            "\n",
            "output[7]: Embedding [-0.04968847 -0.01090286 -0.12420429 -0.05767401] +=  Attention weight(0.014531223863506826) * Input ([-1.11057585  1.75227044  0.93567839  1.27155509]) \n",
            "\n",
            "output[7]: Embedding [-0.04803979 -0.01348222 -0.12540257 -0.05655602] +=  Attention weight(0.0022845308319215697) * Input ([ 0.72167206 -1.12905177 -0.52452027  0.48937456]) \n",
            "\n",
            "output[7]: Embedding [-0.19529476  0.07242743 -0.15435953 -0.10171842] +=  Attention weight(0.12049064822369063) * Input ([-1.22212781  0.71299843 -0.2403254  -0.37482081]) \n",
            "\n",
            "output[7]: Embedding [-0.19234348  0.07427162 -0.15585795 -0.09690591] +=  Attention weight(0.004151118626588004) * Input ([ 0.71095997  0.44426331 -0.36096617  1.1593298 ]) \n",
            "\n",
            "output[7]: Embedding [-0.24776703  0.10584917 -0.12545106 -0.11277562] +=  Attention weight(0.051267625184662546) * Input ([-1.08106333  0.61593561  0.59310126 -0.30954644]) \n",
            "\n",
            "output[7]: Embedding [-0.24701588  0.10296763 -0.12332285 -0.11320148] +=  Attention weight(0.00230318183103339) * Input ([ 0.32613302 -1.25111358  0.92402702 -0.18490214]) \n",
            "\n",
            "output[7]: Embedding [-0.6166165   0.84468828 -0.6213416  -1.10907911] +=  Attention weight(0.7070678020027077) * Input ([-0.52272302  1.04900923 -0.70434369 -1.4084613 ]) \n",
            "\n",
            "Output:\n",
            " [[-0.34268759 -0.37144087 -1.40751169 -0.77781669]\n",
            " [-1.11051056  1.75208987  0.93547916  1.27138085]\n",
            " [ 0.55811657 -1.00321117 -0.64240165  0.31235549]\n",
            " [-1.05565665  0.94974234  0.05218063  0.19568959]\n",
            " [ 0.25179351  0.46987757 -0.14488534  0.98561188]\n",
            " [-1.07297037  1.11005771  0.49378896  0.39722359]\n",
            " [ 0.3037787  -1.05483705  0.56884487 -0.05148344]\n",
            " [-0.6166165   0.84468828 -0.6213416  -1.10907911]]\n",
            "Output shape: (8, 4)\n"
          ]
        },
        {
          "output_type": "display_data",
          "data": {
            "text/plain": [
              "<Figure size 1000x800 with 2 Axes>"
            ],
            "image/png": "[encoded data removed]"
          },
          "metadata": {}
        }
      ]
    },
    {
      "cell_type": "code",
      "source": [],
      "metadata": {
        "id": "GlD7APsEp2qw"
      },
      "execution_count": 45,
      "outputs": []
    },
    {
      "cell_type": "code",
      "source": [],
      "metadata": {
        "id": "jVTL-0J0qt0a"
      },
      "execution_count": null,
      "outputs": []
    }
  ],
  "metadata": {
    "colab": {
      "provenance": [],
      "gpuType": "T4"
    },
    "kernelspec": {
      "display_name": "Python 3",
      "name": "python3"
    },
    "language_info": {
      "name": "python"
    },
    "accelerator": "GPU"
  },
  "nbformat": 4,
  "nbformat_minor": 0
}