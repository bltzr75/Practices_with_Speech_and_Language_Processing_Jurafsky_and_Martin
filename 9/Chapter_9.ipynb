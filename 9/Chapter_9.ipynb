{
  "cells": [
    {
      "cell_type": "markdown",
      "source": [
        "# Initial Setup"
      ],
      "metadata": {
        "id": "CmHETDLiiu2q"
      }
    },
    {
      "cell_type": "code",
      "execution_count": 1,
      "metadata": {
        "colab": {
          "base_uri": "https://localhost:8080/"
        },
        "id": "b7aogp5Z4aFj",
        "outputId": "291ced30-354e-4621-c762-c3662d2bd6cb"
      },
      "outputs": [
        {
          "output_type": "stream",
          "name": "stdout",
          "text": [
            "\u001b[2K   \u001b[90m━━━━━━━━━━━━━━━━━━━━━━━━━━━━━━━━━━━━━━━━\u001b[0m \u001b[32m363.4/363.4 MB\u001b[0m \u001b[31m3.5 MB/s\u001b[0m eta \u001b[36m0:00:00\u001b[0m\n",
            "\u001b[2K   \u001b[90m━━━━━━━━━━━━━━━━━━━━━━━━━━━━━━━━━━━━━━━━\u001b[0m \u001b[32m13.8/13.8 MB\u001b[0m \u001b[31m46.5 MB/s\u001b[0m eta \u001b[36m0:00:00\u001b[0m\n",
            "\u001b[2K   \u001b[90m━━━━━━━━━━━━━━━━━━━━━━━━━━━━━━━━━━━━━━━━\u001b[0m \u001b[32m24.6/24.6 MB\u001b[0m \u001b[31m32.1 MB/s\u001b[0m eta \u001b[36m0:00:00\u001b[0m\n",
            "\u001b[2K   \u001b[90m━━━━━━━━━━━━━━━━━━━━━━━━━━━━━━━━━━━━━━━━\u001b[0m \u001b[32m883.7/883.7 kB\u001b[0m \u001b[31m32.1 MB/s\u001b[0m eta \u001b[36m0:00:00\u001b[0m\n",
            "\u001b[2K   \u001b[90m━━━━━━━━━━━━━━━━━━━━━━━━━━━━━━━━━━━━━━━━\u001b[0m \u001b[32m664.8/664.8 MB\u001b[0m \u001b[31m2.2 MB/s\u001b[0m eta \u001b[36m0:00:00\u001b[0m\n",
            "\u001b[2K   \u001b[90m━━━━━━━━━━━━━━━━━━━━━━━━━━━━━━━━━━━━━━━━\u001b[0m \u001b[32m211.5/211.5 MB\u001b[0m \u001b[31m4.2 MB/s\u001b[0m eta \u001b[36m0:00:00\u001b[0m\n",
            "\u001b[2K   \u001b[90m━━━━━━━━━━━━━━━━━━━━━━━━━━━━━━━━━━━━━━━━\u001b[0m \u001b[32m56.3/56.3 MB\u001b[0m \u001b[31m10.3 MB/s\u001b[0m eta \u001b[36m0:00:00\u001b[0m\n",
            "\u001b[2K   \u001b[90m━━━━━━━━━━━━━━━━━━━━━━━━━━━━━━━━━━━━━━━━\u001b[0m \u001b[32m127.9/127.9 MB\u001b[0m \u001b[31m7.4 MB/s\u001b[0m eta \u001b[36m0:00:00\u001b[0m\n",
            "\u001b[2K   \u001b[90m━━━━━━━━━━━━━━━━━━━━━━━━━━━━━━━━━━━━━━━━\u001b[0m \u001b[32m207.5/207.5 MB\u001b[0m \u001b[31m6.1 MB/s\u001b[0m eta \u001b[36m0:00:00\u001b[0m\n",
            "\u001b[2K   \u001b[90m━━━━━━━━━━━━━━━━━━━━━━━━━━━━━━━━━━━━━━━━\u001b[0m \u001b[32m188.7/188.7 MB\u001b[0m \u001b[31m5.6 MB/s\u001b[0m eta \u001b[36m0:00:00\u001b[0m\n",
            "\u001b[2K   \u001b[90m━━━━━━━━━━━━━━━━━━━━━━━━━━━━━━━━━━━━━━━━\u001b[0m \u001b[32m21.1/21.1 MB\u001b[0m \u001b[31m84.7 MB/s\u001b[0m eta \u001b[36m0:00:00\u001b[0m\n",
            "\u001b[?25h"
          ]
        }
      ],
      "source": [
        "!pip install torchinfo torchviz -q"
      ]
    },
    {
      "cell_type": "code",
      "execution_count": 2,
      "metadata": {
        "id": "a4q4VtjeJNac",
        "colab": {
          "base_uri": "https://localhost:8080/"
        },
        "outputId": "d665fd79-c0fa-4b6c-9c94-0e402ee15894"
      },
      "outputs": [
        {
          "output_type": "stream",
          "name": "stdout",
          "text": [
            "Using device: cpu\n",
            "PyTorch version: 2.6.0+cu124\n"
          ]
        }
      ],
      "source": [
        "import numpy as np\n",
        "import matplotlib.pyplot as plt\n",
        "import seaborn as sns\n",
        "from typing import Optional, Tuple\n",
        "import math\n",
        "import time\n",
        "\n",
        "from dataclasses import dataclass # decorator for classes with less boilerplate: Auto-generates __init__, __repr__, etc.\n",
        "from collections import defaultdict\n",
        "\n",
        "import torch\n",
        "import torch.nn as nn\n",
        "import torch.nn.functional as F # Functional interface for operations (activations, pooling, etc.)\n",
        "import torch.optim as optim  # Optimization algorithms (SGD, Adam, etc.)\n",
        "from torch.nn.utils.rnn import pad_sequence\n",
        "from torch.utils.data import DataLoader, Dataset  # DataLoader: Handles batching, shuffling, parallel loading. Dataset: Abstract class for custom datasets\n",
        "\n",
        "from torchinfo import summary\n",
        "from torchviz import make_dot\n",
        "\n",
        "\n",
        "\n",
        "# autocast: Automatic Mixed Precision - uses float16 where possible to speed up training while maintaining float32 for operations that need precision\n",
        "# GradScaler: Scales gradients to prevent underflow when using float16.  Essential for stable mixed precision training\n",
        "from torch.cuda.amp import autocast, GradScaler\n",
        "\n",
        "from functools import partial # Creates partial functions by fixing some arguments. Useful for creating customized functions from general ones\n",
        "\n",
        "\n",
        "\n",
        "\n",
        "np.random.seed(42)\n",
        "torch.manual_seed(42)\n",
        "if torch.cuda.is_available():\n",
        "  torch.cuda.manual_seed(42)\n",
        "\n",
        "device = torch.device('cuda' if torch.cuda.is_available() else 'cpu')\n",
        "print(f\"Using device: {device}\")\n",
        "print(f\"PyTorch version: {torch.__version__}\")"
      ]
    },
    {
      "cell_type": "markdown",
      "source": [
        "### Helper for Visualization of Attention"
      ],
      "metadata": {
        "id": "YP6QyDhJlPJ9"
      }
    },
    {
      "cell_type": "code",
      "source": [
        "def visualize_attention(attention_weights, tokens=None, title=\"Attention Weights\"):\n",
        "  \"\"\"\n",
        "  Visualize attetion weight matrix\n",
        "\n",
        "  attention_weights: 2D tensor/array where element [i,j] shows how much\n",
        "                    query position i attends to key position j\n",
        "  tokens: Optional list of token strings for axis labels\n",
        "  title: Plot title\n",
        "\n",
        "  Attention weights show which parts of input the model focuses on\n",
        "  Darker colors = higher attention scores\n",
        "  \"\"\"\n",
        "\n",
        "  plt.figure(figsize=(10,8))\n",
        "\n",
        "  sns.heatmap(\n",
        "      attention_weights,\n",
        "      cmap=\"Blues\",\n",
        "      cbar=True,\n",
        "      square=True,\n",
        "      xticklabels=tokens if tokens else False,\n",
        "      yticklabels=tokens if tokens else False\n",
        "  )\n",
        "  plt.title(title)\n",
        "  plt.xlabel(\"Keys\")\n",
        "  plt.ylabel(\"Queries\")\n",
        "  plt.show()\n"
      ],
      "metadata": {
        "id": "VVDK6o09kzJM"
      },
      "execution_count": 3,
      "outputs": []
    },
    {
      "cell_type": "markdown",
      "source": [
        "# Simplified Dot-Product Attention (Vanilla)"
      ],
      "metadata": {
        "id": "NHERKFKNmAEE"
      }
    },
    {
      "cell_type": "code",
      "source": [
        "def simplified_attention(X):\n",
        "  \"\"\"\n",
        "  Simplified attention mechanism\n",
        "  ai = Σ αij*xj where αij = softmax(xi·xj)\n",
        "  \"\"\"\n",
        "\n",
        "  N,d = X.shape  # N = number of tokens/positions, d = embedding dimension\n",
        "  print(f\"Input shape: {X.shape} (N={N} tokens, d={d} dims)\")\n",
        "\n",
        "  # Compute similarity scores with dot prod\n",
        "  scores = np.zeros((N,N)) # (All the tokens x All the tokens) matrix\n",
        "  for i in range(N):\n",
        "    for j in range(N):\n",
        "      if j <= i: # Causal mask, only attending to prev tokens. Token at position i can only \"see\" positions 0 to i\n",
        "        scores[i,j] = np.dot(X[i], X[j])\n",
        "      else:\n",
        "        scores[i,j] = -np.inf\n",
        "\n",
        "  print(f\"\\nScores shape:\\n {scores.shape}\")\n",
        "  print(f\"Scores:\\n {np.round(scores,4)}\\n\")\n",
        "\n",
        "  # Apply softmax for attention weights\n",
        "  attention_weights = np.zeros_like(scores) # Return an array of zeros with the same shape and type as a given array.\n",
        "\n",
        "  for i in range(N):\n",
        "    exp_scores = np.exp(scores[i] - np.max(scores[i]))    #NUMERICAL STABILITY TRICK: Subtract max before exponentiating\n",
        "    print(\"\\nexp_scores: \\n\", exp_scores)\n",
        "    attention_weights[i] = exp_scores / np.sum(exp_scores) # Normalize to get probs\n",
        "    print(f\"\\nattention_weights[{i}]:\\n \", attention_weights[i],\"\\n\")\n",
        "\n",
        "\n",
        "  print(f\"attention_weights:\\n \", np.round(attention_weights,3),\"\\n\")\n",
        "\n",
        "  print(\"attention_weights.shape:\\n\", attention_weights.shape)\n",
        "  print(\"\\n\\n\")\n",
        "\n",
        "\n",
        "  print(\"Computation of Outputs\\n\")\n",
        "  # Weighted sum for output\n",
        "  output = np.zeros_like(X) # shape (N,d)\n",
        "  for i in range(N):\n",
        "    for j in range(i+1): # Only sum over positions we can attend to (causal)\n",
        "      print(f\"Current  output[{i}]: Embedding {output[i]} +=  Attention weight({attention_weights[i,j]}) * Input of X[{j}] ({X[j]})\")\n",
        "\n",
        "      output[i] += attention_weights[i,j] * X[j] # Each output token is a weighted combination of input tokens\n",
        "\n",
        "      print(f\"Updated  output[{i}]: Embedding {output[i]} \\n\")\n",
        "\n",
        "  print(f\"Output:\\n {output}\")\n",
        "\n",
        "  print(f\"Output shape: {output.shape}\")\n",
        "  return output, attention_weights\n"
      ],
      "metadata": {
        "id": "_zMVcI3Uk79T"
      },
      "execution_count": 4,
      "outputs": []
    },
    {
      "cell_type": "markdown",
      "source": [
        "#### Simple test"
      ],
      "metadata": {
        "id": "JTCqEl7GpNwk"
      }
    },
    {
      "cell_type": "code",
      "source": [
        "tokens = [\"The\", \"chicken\", \"didn't\", \"cross\", \"the\", \"road\", \"because\", \"it\"]\n",
        "X = np.random.randn(len(tokens), 4)  # 8 tokens, 4 dims. In real models, dimensions are typically 512, 768, or 1024\n",
        "output, weights = simplified_attention(X)\n",
        "\n",
        "# Viz\n",
        "visualize_attention(weights[:, :len(tokens)], tokens, \"Simplified Attention\")\n"
      ],
      "metadata": {
        "colab": {
          "base_uri": "https://localhost:8080/",
          "height": 1000
        },
        "id": "MyJY__w8pdeD",
        "outputId": "99a5c141-5647-48c0-c6db-13c9f970c15f"
      },
      "execution_count": 5,
      "outputs": [
        {
          "output_type": "stream",
          "name": "stdout",
          "text": [
            "Input shape: (8, 4) (N=8 tokens, d=4 dims)\n",
            "\n",
            "Scores shape:\n",
            " (8, 8)\n",
            "Scores:\n",
            " [[ 3.005     -inf    -inf    -inf    -inf    -inf    -inf    -inf]\n",
            " [ 2.1077  3.1925    -inf    -inf    -inf    -inf    -inf    -inf]\n",
            " [-1.3177 -1.1064  0.9464    -inf    -inf    -inf    -inf    -inf]\n",
            " [-1.5889 -2.7642 -0.0904  7.0107    -inf    -inf    -inf    -inf]\n",
            " [-3.2856 -2.3542  1.7245  1.5141  3.9437    -inf    -inf    -inf]\n",
            " [-1.367  -1.2771 -0.1783  1.4712  0.3955  4.2336    -inf    -inf]\n",
            " [-0.459  -1.4278  0.6742  1.4302  1.1008 -1.4359  1.7746    -inf]\n",
            " [ 2.1733  0.6802 -0.4601  0.4091 -1.5529 -3.4941  1.6831  4.2388]]\n",
            "\n",
            "\n",
            "exp_scores: \n",
            " [1. 0. 0. 0. 0. 0. 0. 0.]\n",
            "\n",
            "attention_weights[0]:\n",
            "  [1. 0. 0. 0. 0. 0. 0. 0.] \n",
            "\n",
            "\n",
            "exp_scores: \n",
            " [0.33797358 1.         0.         0.         0.         0.\n",
            " 0.         0.        ]\n",
            "\n",
            "attention_weights[1]:\n",
            "  [0.25260108 0.74739892 0.         0.         0.         0.\n",
            " 0.         0.        ] \n",
            "\n",
            "\n",
            "exp_scores: \n",
            " [0.10392148 0.12837566 1.         0.         0.         0.\n",
            " 0.         0.        ]\n",
            "\n",
            "attention_weights[2]:\n",
            "  [0.08433151 0.1041759  0.81149259 0.         0.         0.\n",
            " 0.         0.        ] \n",
            "\n",
            "\n",
            "exp_scores: \n",
            " [1.84186525e-04 5.68602632e-05 8.24174023e-04 1.00000000e+00\n",
            " 0.00000000e+00 0.00000000e+00 0.00000000e+00 0.00000000e+00]\n",
            "\n",
            "attention_weights[3]:\n",
            "  [1.83990534e-04 5.67997589e-05 8.23297030e-04 9.98935913e-01\n",
            " 0.00000000e+00 0.00000000e+00 0.00000000e+00 0.00000000e+00] \n",
            "\n",
            "\n",
            "exp_scores: \n",
            " [7.25012284e-04 1.84012645e-03 1.08701994e-01 8.80711574e-02\n",
            " 1.00000000e+00 0.00000000e+00 0.00000000e+00 0.00000000e+00]\n",
            "\n",
            "attention_weights[4]:\n",
            "  [6.04510245e-04 1.53428475e-03 9.06349735e-02 7.34331240e-02\n",
            " 8.33793107e-01 0.00000000e+00 0.00000000e+00 0.00000000e+00] \n",
            "\n",
            "\n",
            "exp_scores: \n",
            " [0.00369587 0.00404347 0.01213215 0.06314471 0.0215342  1.\n",
            " 0.         0.        ]\n",
            "\n",
            "attention_weights[5]:\n",
            "  [0.00334604 0.00366074 0.01098379 0.0571678  0.01949589 0.90534575\n",
            " 0.         0.        ] \n",
            "\n",
            "\n",
            "exp_scores: \n",
            " [0.10714022 0.04066312 0.33273176 0.70863221 0.50974916 0.04033609\n",
            " 1.         0.        ]\n",
            "\n",
            "attention_weights[6]:\n",
            "  [0.03911294 0.0148446  0.12146808 0.25869546 0.1860906  0.01472522\n",
            " 0.36506309 0.        ] \n",
            "\n",
            "\n",
            "exp_scores: \n",
            " [1.26755429e-01 2.84781053e-02 9.10497906e-03 2.17162192e-02\n",
            " 3.05257107e-03 4.38142056e-04 7.76333784e-02 1.00000000e+00]\n",
            "\n",
            "attention_weights[7]:\n",
            "  [1.00029630e-01 2.24736278e-02 7.18523612e-03 1.71374543e-02\n",
            " 2.40895050e-03 3.45761820e-04 6.12647378e-02 7.89154601e-01] \n",
            "\n",
            "attention_weights:\n",
            "  [[1.    0.    0.    0.    0.    0.    0.    0.   ]\n",
            " [0.253 0.747 0.    0.    0.    0.    0.    0.   ]\n",
            " [0.084 0.104 0.811 0.    0.    0.    0.    0.   ]\n",
            " [0.    0.    0.001 0.999 0.    0.    0.    0.   ]\n",
            " [0.001 0.002 0.091 0.073 0.834 0.    0.    0.   ]\n",
            " [0.003 0.004 0.011 0.057 0.019 0.905 0.    0.   ]\n",
            " [0.039 0.015 0.121 0.259 0.186 0.015 0.365 0.   ]\n",
            " [0.1   0.022 0.007 0.017 0.002 0.    0.061 0.789]] \n",
            "\n",
            "attention_weights.shape:\n",
            " (8, 8)\n",
            "\n",
            "\n",
            "\n",
            "Computation of Outputs\n",
            "\n",
            "Current  output[0]: Embedding [0. 0. 0. 0.] +=  Attention weight(1.0) * Input of X[0] ([ 0.49671415 -0.1382643   0.64768854  1.52302986])\n",
            "Updated  output[0]: Embedding [ 0.49671415 -0.1382643   0.64768854  1.52302986] \n",
            "\n",
            "Current  output[1]: Embedding [0. 0. 0. 0.] +=  Attention weight(0.2526010840823634) * Input of X[0] ([ 0.49671415 -0.1382643   0.64768854  1.52302986])\n",
            "Updated  output[1]: Embedding [ 0.12547053 -0.03492571  0.16360683  0.38471899] \n",
            "\n",
            "Current  output[1]: Embedding [ 0.12547053 -0.03492571  0.16360683  0.38471899] +=  Attention weight(0.7473989159176366) * Input of X[1] ([-0.23415337 -0.23413696  1.57921282  0.76743473])\n",
            "Updated  output[1]: Embedding [-0.04953544 -0.20991942  1.34390877  0.95829888] \n",
            "\n",
            "Current  output[2]: Embedding [0. 0. 0. 0.] +=  Attention weight(0.08433151091300191) * Input of X[0] ([ 0.49671415 -0.1382643   0.64768854  1.52302986])\n",
            "Updated  output[2]: Embedding [ 0.04188866 -0.01166004  0.05462055  0.12843941] \n",
            "\n",
            "Current  output[2]: Embedding [ 0.04188866 -0.01166004  0.05462055  0.12843941] +=  Attention weight(0.10417589853995274) * Input of X[1] ([-0.23415337 -0.23413696  1.57921282  0.76743473])\n",
            "Updated  output[2]: Embedding [ 0.01749552 -0.03605147  0.21913647  0.20838761] \n",
            "\n",
            "Current  output[2]: Embedding [ 0.01749552 -0.03605147  0.21913647  0.20838761] +=  Attention weight(0.8114925905470454) * Input of X[2] ([-0.46947439  0.54256004 -0.46341769 -0.46572975])\n",
            "Updated  output[2]: Embedding [-0.36347947  0.40423199 -0.15692356 -0.16954863] \n",
            "\n",
            "Current  output[3]: Embedding [0. 0. 0. 0.] +=  Attention weight(0.00018399053401730814) * Input of X[0] ([ 0.49671415 -0.1382643   0.64768854  1.52302986])\n",
            "Updated  output[3]: Embedding [ 9.13907023e-05 -2.54393226e-05  1.19168560e-04  2.80223077e-04] \n",
            "\n",
            "Current  output[3]: Embedding [ 9.13907023e-05 -2.54393226e-05  1.19168560e-04  2.80223077e-04] +=  Attention weight(5.6799758928359985e-05) * Input of X[1] ([-0.23415337 -0.23413696  1.57921282  0.76743473])\n",
            "Updated  output[3]: Embedding [ 7.80908470e-05 -3.87382453e-05  2.08867467e-04  3.23813184e-04] \n",
            "\n",
            "Current  output[3]: Embedding [ 7.80908470e-05 -3.87382453e-05  2.08867467e-04  3.23813184e-04] +=  Attention weight(0.0008232970301482584) * Input of X[2] ([-0.46947439  0.54256004 -0.46341769 -0.46572975])\n",
            "Updated  output[3]: Embedding [-3.08426021e-04  4.07949827e-04 -1.72662943e-04 -5.96207388e-05] \n",
            "\n",
            "Current  output[3]: Embedding [-3.08426021e-04  4.07949827e-04 -1.72662943e-04 -5.96207388e-05] +=  Attention weight(0.9989359126769061) * Input of X[3] ([ 0.24196227 -1.91328024 -1.72491783 -0.56228753])\n",
            "Updated  output[3]: Embedding [ 0.24139638 -1.9108364  -1.72325503 -0.56174883] \n",
            "\n",
            "Current  output[4]: Embedding [0. 0. 0. 0.] +=  Attention weight(0.0006045102449150198) * Input of X[0] ([ 0.49671415 -0.1382643   0.64768854  1.52302986])\n",
            "Updated  output[4]: Embedding [ 3.00268794e-04 -8.35821866e-05  3.91534357e-04  9.20687152e-04] \n",
            "\n",
            "Current  output[4]: Embedding [ 3.00268794e-04 -8.35821866e-05  3.91534357e-04  9.20687152e-04] +=  Attention weight(0.0015342847528317894) * Input of X[1] ([-0.23415337 -0.23413696  1.57921282  0.76743473])\n",
            "Updated  output[4]: Embedding [-5.89891584e-05 -4.42814950e-04  2.81449650e-03  2.09815056e-03] \n",
            "\n",
            "Current  output[4]: Embedding [-5.89891584e-05 -4.42814950e-04  2.81449650e-03  2.09815056e-03] +=  Attention weight(0.09063497351597583) * Input of X[2] ([-0.46947439  0.54256004 -0.46341769 -0.46572975])\n",
            "Updated  output[4]: Embedding [-0.04260979  0.0487321  -0.03918735 -0.04011325] \n",
            "\n",
            "Current  output[4]: Embedding [-0.04260979  0.0487321  -0.03918735 -0.04011325] +=  Attention weight(0.07343312404415349) * Input of X[3] ([ 0.24196227 -1.91328024 -1.72491783 -0.56228753])\n",
            "Updated  output[4]: Embedding [-0.02484174 -0.09176605 -0.16585346 -0.08140378] \n",
            "\n",
            "Current  output[4]: Embedding [-0.02484174 -0.09176605 -0.16585346 -0.08140378] +=  Attention weight(0.8337931074421239) * Input of X[4] ([-1.01283112  0.31424733 -0.90802408 -1.4123037 ])\n",
            "Updated  output[4]: Embedding [-0.86933335  0.17025121 -0.92295767 -1.25897287] \n",
            "\n",
            "Current  output[5]: Embedding [0. 0. 0. 0.] +=  Attention weight(0.003346037184673525) * Input of X[0] ([ 0.49671415 -0.1382643   0.64768854  1.52302986])\n",
            "Updated  output[5]: Embedding [ 0.00166202 -0.00046264  0.00216719  0.00509611] \n",
            "\n",
            "Current  output[5]: Embedding [ 0.00166202 -0.00046264  0.00216719  0.00509611] +=  Attention weight(0.0036607364612429192) * Input of X[1] ([-0.23415337 -0.23413696  1.57921282  0.76743473])\n",
            "Updated  output[5]: Embedding [ 0.00080485 -0.00131975  0.00794827  0.00790549] \n",
            "\n",
            "Current  output[5]: Embedding [ 0.00080485 -0.00131975  0.00794827  0.00790549] +=  Attention weight(0.010983787361222701) * Input of X[2] ([-0.46947439  0.54256004 -0.46341769 -0.46572975])\n",
            "Updated  output[5]: Embedding [-0.00435176  0.00463961  0.00285819  0.00279001] \n",
            "\n",
            "Current  output[5]: Embedding [-0.00435176  0.00463961  0.00285819  0.00279001] +=  Attention weight(0.05716779878285016) * Input of X[3] ([ 0.24196227 -1.91328024 -1.72491783 -0.56228753])\n",
            "Updated  output[5]: Embedding [ 0.00948069 -0.10473841 -0.09575157 -0.02935473] \n",
            "\n",
            "Current  output[5]: Embedding [ 0.00948069 -0.10473841 -0.09575157 -0.02935473] +=  Attention weight(0.01949589292359662) * Input of X[4] ([-1.01283112  0.31424733 -0.90802408 -1.4123037 ])\n",
            "Updated  output[5]: Embedding [-0.01026535 -0.09861187 -0.11345431 -0.05688885] \n",
            "\n",
            "Current  output[5]: Embedding [-0.01026535 -0.09861187 -0.11345431 -0.05688885] +=  Attention weight(0.9053457472864139) * Input of X[5] ([ 1.46564877 -0.2257763   0.0675282  -1.42474819])\n",
            "Updated  output[5]: Embedding [ 1.31665353 -0.30301749 -0.05231793 -1.34677856] \n",
            "\n",
            "Current  output[6]: Embedding [0. 0. 0. 0.] +=  Attention weight(0.03911293814828205) * Input of X[0] ([ 0.49671415 -0.1382643   0.64768854  1.52302986])\n",
            "Updated  output[6]: Embedding [ 0.01942795 -0.00540792  0.025333    0.05957017] \n",
            "\n",
            "Current  output[6]: Embedding [ 0.01942795 -0.00540792  0.025333    0.05957017] +=  Attention weight(0.01484460458253564) * Input of X[1] ([-0.23415337 -0.23413696  1.57921282  0.76743473])\n",
            "Updated  output[6]: Embedding [ 0.01595204 -0.00888359  0.04877579  0.07096244] \n",
            "\n",
            "Current  output[6]: Embedding [ 0.01595204 -0.00888359  0.04877579  0.07096244] +=  Attention weight(0.12146808471888679) * Input of X[2] ([-0.46947439  0.54256004 -0.46341769 -0.46572975])\n",
            "Updated  output[6]: Embedding [-0.04107412  0.05702014 -0.00751467  0.01439114] \n",
            "\n",
            "Current  output[6]: Embedding [-0.04107412  0.05702014 -0.00751467  0.01439114] +=  Attention weight(0.25869546373168956) * Input of X[3] ([ 0.24196227 -1.91328024 -1.72491783 -0.56228753])\n",
            "Updated  output[6]: Embedding [ 0.02152042 -0.43793678 -0.45374309 -0.1310701 ] \n",
            "\n",
            "Current  output[6]: Embedding [ 0.02152042 -0.43793678 -0.45374309 -0.1310701 ] +=  Attention weight(0.18609060298681282) * Input of X[4] ([-1.01283112  0.31424733 -0.90802408 -1.4123037 ])\n",
            "Updated  output[6]: Embedding [-0.16695793 -0.37945831 -0.62271783 -0.39388654] \n",
            "\n",
            "Current  output[6]: Embedding [-0.16695793 -0.37945831 -0.62271783 -0.39388654] +=  Attention weight(0.01472521655419337) * Input of X[5] ([ 1.46564877 -0.2257763   0.0675282  -1.42474819])\n",
            "Updated  output[6]: Embedding [-0.14537594 -0.38278291 -0.62172347 -0.41486627] \n",
            "\n",
            "Current  output[6]: Embedding [-0.14537594 -0.38278291 -0.62172347 -0.41486627] +=  Attention weight(0.3650630892775999) * Input of X[6] ([-0.54438272  0.11092259 -1.15099358  0.37569802])\n",
            "Updated  output[6]: Embedding [-0.34410997 -0.34228917 -1.04190874 -0.27771279] \n",
            "\n",
            "Current  output[7]: Embedding [0. 0. 0. 0.] +=  Attention weight(0.10002963017955162) * Input of X[0] ([ 0.49671415 -0.1382643   0.64768854  1.52302986])\n",
            "Updated  output[7]: Embedding [ 0.04968613 -0.01383053  0.06478804  0.15234811] \n",
            "\n",
            "Current  output[7]: Embedding [ 0.04968613 -0.01383053  0.06478804  0.15234811] +=  Attention weight(0.02247362782318393) * Input of X[1] ([-0.23415337 -0.23413696  1.57921282  0.76743473])\n",
            "Updated  output[7]: Embedding [ 0.04442386 -0.01909243  0.10027869  0.16959516] \n",
            "\n",
            "Current  output[7]: Embedding [ 0.04442386 -0.01909243  0.10027869  0.16959516] +=  Attention weight(0.0071852361229023855) * Input of X[2] ([-0.46947439  0.54256004 -0.46341769 -0.46572975])\n",
            "Updated  output[7]: Embedding [ 0.04105057 -0.01519401  0.09694892  0.16624878] \n",
            "\n",
            "Current  output[7]: Embedding [ 0.04105057 -0.01519401  0.09694892  0.16624878] +=  Attention weight(0.017137454277751547) * Input of X[3] ([ 0.24196227 -1.91328024 -1.72491783 -0.56228753])\n",
            "Updated  output[7]: Embedding [ 0.04519719 -0.04798276  0.06738822  0.1566126 ] \n",
            "\n",
            "Current  output[7]: Embedding [ 0.04519719 -0.04798276  0.06738822  0.1566126 ] +=  Attention weight(0.002408950503795414) * Input of X[4] ([-1.01283112  0.31424733 -0.90802408 -1.4123037 ])\n",
            "Updated  output[7]: Embedding [ 0.04275733 -0.04722576  0.06520083  0.15321043] \n",
            "\n",
            "Current  output[7]: Embedding [ 0.04275733 -0.04722576  0.06520083  0.15321043] +=  Attention weight(0.00034576181962859355) * Input of X[5] ([ 1.46564877 -0.2257763   0.0675282  -1.42474819])\n",
            "Updated  output[7]: Embedding [ 0.0432641  -0.04730382  0.06522418  0.15271781] \n",
            "\n",
            "Current  output[7]: Embedding [ 0.0432641  -0.04730382  0.06522418  0.15271781] +=  Attention weight(0.06126473782732318) * Input of X[6] ([-0.54438272  0.11092259 -1.15099358  0.37569802])\n",
            "Updated  output[7]: Embedding [ 0.00991263 -0.04050818 -0.00529114  0.17573485] \n",
            "\n",
            "Current  output[7]: Embedding [ 0.00991263 -0.04050818 -0.00529114  0.17573485] +=  Attention weight(0.7891546014458634) * Input of X[7] ([-0.60063869 -0.29169375 -0.60170661  1.85227818])\n",
            "Updated  output[7]: Embedding [-0.46408416 -0.27069964 -0.48013068  1.6374687 ] \n",
            "\n",
            "Output:\n",
            " [[ 0.49671415 -0.1382643   0.64768854  1.52302986]\n",
            " [-0.04953544 -0.20991942  1.34390877  0.95829888]\n",
            " [-0.36347947  0.40423199 -0.15692356 -0.16954863]\n",
            " [ 0.24139638 -1.9108364  -1.72325503 -0.56174883]\n",
            " [-0.86933335  0.17025121 -0.92295767 -1.25897287]\n",
            " [ 1.31665353 -0.30301749 -0.05231793 -1.34677856]\n",
            " [-0.34410997 -0.34228917 -1.04190874 -0.27771279]\n",
            " [-0.46408416 -0.27069964 -0.48013068  1.6374687 ]]\n",
            "Output shape: (8, 4)\n"
          ]
        },
        {
          "output_type": "display_data",
          "data": {
            "text/plain": [
              "<Figure size 1000x800 with 2 Axes>"
            ],
            "image/png": "[encoded data removed]"
          },
          "metadata": {}
        }
      ]
    },
    {
      "cell_type": "markdown",
      "source": [
        "# Attention with Q, K, V Matrices using NumPy"
      ],
      "metadata": {
        "id": "JyPTUB6O4251"
      }
    },
    {
      "cell_type": "code",
      "source": [
        "class AttentionNumpy:\n",
        "  \"\"\"\n",
        "  Single attention head with Query, Key, Value matrices\n",
        "\n",
        "  d_model: Dimension of input/output embeddings (model's hidden size)\n",
        "  d_k: Dimension of queries and keys (typically d_model / num_heads)\n",
        "  d_v: Dimension of values (often same as d_k)\n",
        "  \"\"\"\n",
        "\n",
        "  def __init__(self, d_model, d_k, d_v):\n",
        "    self.d_model = d_model\n",
        "    self.d_k = d_k\n",
        "    self.d_v = d_v\n",
        "\n",
        "    # Initialize weight matrices\n",
        "    self.W_Q = np.random.randn(d_model, d_k) * 0.1 # Query Projection\n",
        "    self.W_K = np.random.randn(d_model, d_k) * 0.1 # Key Projection\n",
        "    self.W_V = np.random.randn(d_model, d_v) * 0.1 # Value Projection\n",
        "\n",
        "    self.W_O = np.random.randn(d_v, d_model) * 0.1  # Output projection: Projects concatenated/summed attention outputs back to model dimension\n",
        "\n",
        "    print(f\"Initialized weights: W_Q{self.W_Q.shape}, W_K{self.W_K.shape}, W_V{self.W_V.shape}, W_O{self.W_O.shape}\")\n",
        "\n",
        "\n",
        "  def forward(self, X):\n",
        "    \"\"\"\n",
        "    X: [N, d_model] input sequence\n",
        "    Returns: [N, d_model] attention output\n",
        "    \"\"\"\n",
        "\n",
        "    N = X.shape[0] # Num of tokens/positions of the sequence\n",
        "\n",
        "    Q = X @ self.W_Q # shpae [N, d_k]\n",
        "    K = X @ self.W_K # shpae [N, d_k]\n",
        "    V = X @ self.W_V # shpae [N, d_v]\n",
        "\n",
        "    print(f\"Q: {Q.shape}, K: {K.shape}, V: {V.shape}\")\n",
        "\n",
        "\n",
        "    # Scaled dot prod attention\n",
        "    scores = (Q @ K.T) / np.sqrt(self.d_k) # [N, N]\n",
        "\n",
        "    # Causal mask\n",
        "    mask = np.triu(np.ones((N,N)) * -np.inf, k=1)\n",
        "    scores = scores + mask\n",
        "\n",
        "    # Softmax\n",
        "    exp_scores = np.exp(scores - np.max(scores, axis=-1, keepdims=True)) # np.triu: Upper triangular matrix (k=1 means above main diagonal)\n",
        "    attention_weights = exp_scores / np.sum(exp_scores, axis=-1, keepdims=True) #  axis=-1: Apply along last dimension (rows) ;  keepdims=True: Maintains shape for broadcasting\n",
        "\n",
        "    print(f\"\\nexp_scores shape: {exp_scores.shape}\\n\")\n",
        "    print(f\"\\nexp_scores:\\n {exp_scores.round(3)}\\n\")\n",
        "\n",
        "    print(f\"\\nAttention weights shape: {attention_weights.shape}\\n\")\n",
        "    print(f\"\\nAttention weights:\\n {attention_weights.round(3)}\\n\")\n",
        "\n",
        "\n",
        "    # Weighted sum of values\n",
        "    head_output = attention_weights @ V # [N, d_v]\n",
        "\n",
        "    # Output projection\n",
        "    output = head_output @ self.W_O # [N, d_model]\n",
        "\n",
        "    return output, attention_weights\n"
      ],
      "metadata": {
        "id": "Gib49AN54_Ls"
      },
      "execution_count": 6,
      "outputs": []
    },
    {
      "cell_type": "markdown",
      "source": [
        "#### Simple test"
      ],
      "metadata": {
        "id": "MOOIRnRR8zPG"
      }
    },
    {
      "cell_type": "code",
      "source": [
        "d_model, d_k, d_v = 8,4,4\n",
        "attention = AttentionNumpy(d_model, d_k, d_v)\n",
        "\n",
        "X = np.random.randn(len(tokens), d_model)\n",
        "output, weights = attention.forward(X)\n",
        "\n",
        "print(f\"\\nFinal output shape: {output.shape}\")\n",
        "visualize_attention(weights, tokens, \"Attention with Q,K,V\")"
      ],
      "metadata": {
        "colab": {
          "base_uri": "https://localhost:8080/",
          "height": 1000
        },
        "id": "yXOFwApWwKMF",
        "outputId": "d0459201-78e1-4351-8f71-66227f912467"
      },
      "execution_count": 7,
      "outputs": [
        {
          "output_type": "stream",
          "name": "stdout",
          "text": [
            "Initialized weights: W_Q(8, 4), W_K(8, 4), W_V(8, 4), W_O(4, 8)\n",
            "Q: (8, 4), K: (8, 4), V: (8, 4)\n",
            "\n",
            "exp_scores shape: (8, 8)\n",
            "\n",
            "\n",
            "exp_scores:\n",
            " [[1.    0.    0.    0.    0.    0.    0.    0.   ]\n",
            " [0.999 1.    0.    0.    0.    0.    0.    0.   ]\n",
            " [1.    0.943 0.935 0.    0.    0.    0.    0.   ]\n",
            " [0.919 0.884 0.964 1.    0.    0.    0.    0.   ]\n",
            " [0.995 0.995 0.925 0.94  1.    0.    0.    0.   ]\n",
            " [0.969 0.917 0.91  0.98  0.947 1.    0.    0.   ]\n",
            " [0.943 0.921 0.964 1.    0.88  0.961 0.938 0.   ]\n",
            " [0.913 0.952 0.97  0.94  0.919 0.907 1.    0.939]]\n",
            "\n",
            "\n",
            "Attention weights shape: (8, 8)\n",
            "\n",
            "\n",
            "Attention weights:\n",
            " [[1.    0.    0.    0.    0.    0.    0.    0.   ]\n",
            " [0.5   0.5   0.    0.    0.    0.    0.    0.   ]\n",
            " [0.348 0.328 0.325 0.    0.    0.    0.    0.   ]\n",
            " [0.244 0.235 0.256 0.265 0.    0.    0.    0.   ]\n",
            " [0.205 0.205 0.191 0.194 0.206 0.    0.    0.   ]\n",
            " [0.169 0.16  0.159 0.171 0.165 0.175 0.    0.   ]\n",
            " [0.143 0.139 0.146 0.151 0.133 0.146 0.142 0.   ]\n",
            " [0.121 0.126 0.129 0.125 0.122 0.12  0.133 0.125]]\n",
            "\n",
            "\n",
            "Final output shape: (8, 8)\n"
          ]
        },
        {
          "output_type": "display_data",
          "data": {
            "text/plain": [
              "<Figure size 1000x800 with 2 Axes>"
            ],
            "image/png": "[encoded data removed]"
          },
          "metadata": {}
        }
      ]
    },
    {
      "cell_type": "markdown",
      "source": [
        "## Explanation of how nn.Linear handles batched inputs"
      ],
      "metadata": {
        "id": "nkcX0DAVjlLT"
      }
    },
    {
      "cell_type": "markdown",
      "source": [
        "Here's a brief explanation of how `nn.Linear` handles batched inputs:\n",
        "\n",
        "```python\n",
        "self.W_Q = nn.Linear(d_model, d_head, bias=False)\n",
        "# Creates a weight matrix of shape [d_model, d_head]\n",
        "# This is just a matrix, like W_Q = [[w11, w12, ...], [w21, w22, ...], ...]\n",
        "\n",
        "Q = self.W_Q(x)  # x shape: [batch, seq_len, d_model]\n",
        "                 # Q shape: [batch, seq_len, d_head]\n",
        "```\n",
        "\n",
        "**What's happening under the hood:**\n",
        "\n",
        "`nn.Linear` is smart about dimensions. It applies matrix multiplication to the **last dimension** while preserving all previous dimensions:\n",
        "\n",
        "```python\n",
        "# What nn.Linear does internally (simplified):\n",
        "# For input x with shape [batch, seq_len, d_model]\n",
        "# It treats this as [*, d_model] where * = any number of preceding dimensions\n",
        "# Then does: x @ W_Q.T for the last dimension\n",
        "\n",
        "# Effectively, for each batch and each position:\n",
        "# Q[batch_i][seq_j] = x[batch_i][seq_j] @ W_Q.T\n",
        "# where @ is matrix multiply\n",
        "```\n",
        "\n",
        "**THE ONLY REQUIREMENT:**\n",
        "- Input's **last dimension** must equal the Linear layer's **in_features**\n",
        "- Everything else (batch size, sequence length, extra dimensions) can be anything\n",
        "\n",
        "**Examples:**\n",
        "```python\n",
        "layer = nn.Linear(64, 32)  # Expects last dim = 64, outputs last dim = 32\n",
        "\n",
        "# ✅ These all work:\n",
        "layer(torch.randn(10, 64))        # [10, 64] → [10, 32]\n",
        "layer(torch.randn(5, 20, 64))     # [5, 20, 64] → [5, 20, 32]\n",
        "layer(torch.randn(2, 8, 12, 64))  # [2, 8, 12, 64] → [2, 8, 12, 32]\n",
        "\n",
        "# ❌ These fail:\n",
        "layer(torch.randn(10, 32))        # Error! Last dim 32 ≠ 64\n",
        "layer(torch.randn(5, 20, 128))    # Error! Last dim 128 ≠ 64\n",
        "```\n",
        "\n",
        "\n",
        "\n",
        "**Visual example:**\n",
        "```\n",
        "If x = [2, 8, 64]  (2 batches, 8 positions, 64-dim embeddings)\n",
        "   W_Q = [64, 16]   (transforms 64-dim → 16-dim)\n",
        "   \n",
        "nn.Linear applies the SAME weight matrix to:\n",
        "- Batch 0, Position 0: [64] → [16]\n",
        "- Batch 0, Position 1: [64] → [16]\n",
        "- ...\n",
        "- Batch 1, Position 7: [64] → [16]\n",
        "\n",
        "Result Q = [2, 8, 16]  (same batch & seq_len, new dimension)\n",
        "```\n",
        "\n",
        "**The key insight:** `nn.Linear` automatically broadcasts its operation across all dimensions except the last one, so you don't need to write loops over batches or sequences. One weight matrix, applied everywhere!\n",
        "\n",
        "\n",
        "\n",
        "\n",
        "**In summary:** Only the **last dimension** needs to match the layer's `in_features`. All other dimensions pass through unchanged.\n"
      ],
      "metadata": {
        "id": "HNiJ2TjtjcSw"
      }
    },
    {
      "cell_type": "markdown",
      "source": [
        "# Single Attention Head using PyTorch"
      ],
      "metadata": {
        "id": "pguPS4ln-PKL"
      }
    },
    {
      "cell_type": "code",
      "source": [
        "class AttentionHead(nn.Module):\n",
        "  \"\"\"\n",
        "  PyTorch implementation of a single attention head\n",
        "\n",
        "  d_model is the dimension of input/output embeddings (model's hidden size)\n",
        "  d_head  is the compressed/projected dimension for computational efficiency and multi-head splitting, usually the embedding // num of attention heads\n",
        "\n",
        "  \"\"\"\n",
        "\n",
        "  def __init__(self, d_model, d_head):\n",
        "    super(AttentionHead,self).__init__()  #Initialize parent nn.Module class, this registers parameters and enables .to(device), .train(), etc.\n",
        "\n",
        "    self.d_head  = d_head # Dimension of this attention head, although total model may have multiple heads (multi-head attention)\n",
        "\n",
        "    # Linear projections for Q, K, V\n",
        "    self.W_Q = nn.Linear(d_model, d_head, bias = False)\n",
        "    self.W_K = nn.Linear(d_model, d_head, bias = False)\n",
        "    self.W_V = nn.Linear(d_model, d_head, bias = False)\n",
        "    self.W_O = nn.Linear(d_head, d_model, bias = False) # shape (hidden, output)\n",
        "\n",
        "    self.scale = 1.0 / math.sqrt(d_head) # Pre-compute scaling factor for efficiency to prevent softmax saturation\n",
        "\n",
        "  def forward(self, x, mask=None):\n",
        "    \"\"\"\n",
        "    x: [batch, seq_len, d_model] ## PyTorch convention: batch dimension first for efficiency. This allows processing multiple sequences in parallel on GPU\n",
        "    Returns: [batch, seq_len, d_model], attention_weights\n",
        "    \"\"\"\n",
        "\n",
        "    batch_size, seq_len, d_model = x.shape\n",
        "\n",
        "\n",
        "    # comput Q, K, V\n",
        "    Q = self.W_Q(x)  # [batch, seq_len, d_head]  PyTorch's nn.Linear automatically handles batch dimension. It applies the same transformation to each batch element\n",
        "    K = self.W_K(x)  # nn.Linear is smart about dimensions. It applies matrix multiplication to the last dimension while preserving all previous dimensions\n",
        "    V = self.W_V(x)\n",
        "\n",
        "    # Scaled dot prod attention\n",
        "    scores = torch.matmul(Q, K.transpose(-2, -1)) * self.scale # [batch, seq_len, seq_len].   K.transpose(-2, -1): Swaps last two dimensions (seq_len, d_head) → (d_head, seq_len). Negative indexing: -1 = last dim, -2 = second-to-last\n",
        "\n",
        "    # Mask if provided\n",
        "    if mask is not None:\n",
        "      scores = scores.masked_fill(mask == 0, -1e9)\n",
        "\n",
        "    attn_weights = F.softmax(scores, dim = -1)  # dim=-1: Apply softmax along last dimension (over keys for each query)\n",
        "\n",
        "    # Apply attention to values\n",
        "    context = torch.matmul(attn_weights, V)  # [batch, seq_len, d_head]\n",
        "\n",
        "    # Output\n",
        "    output = self.W_O(context) # [batch, seq_len, d_model]  Project head dim back to model dim. Enables residual connections in full Transformer\n",
        "\n",
        "    return(output, attn_weights)\n",
        "\n",
        "\n"
      ],
      "metadata": {
        "id": "GA8y2TGO-A0f"
      },
      "execution_count": 8,
      "outputs": []
    },
    {
      "cell_type": "markdown",
      "source": [
        "### Test Multi-Head Attention"
      ],
      "metadata": {
        "id": "hrA7KFN5rDwQ"
      }
    },
    {
      "cell_type": "code",
      "source": [
        "# Test PyTorch attention head\n",
        "d_model, d_head = 64, 16\n",
        "attention_head = AttentionHead(d_model, d_head)\n",
        "\n",
        "# Create sample input\n",
        "batch_size, seq_len = 2, 8\n",
        "x = torch.randn(batch_size, seq_len, d_model)\n",
        "\n",
        "# Create causal mask\n",
        "mask = torch.tril(torch.ones(seq_len, seq_len)).unsqueeze(0)\n",
        "print(f\"Input shape: {x.shape}\")\n",
        "print(f\"Mask shape: {mask.shape}\")\n",
        "\n",
        "output, attn_weights = attention_head(x, mask)\n",
        "print(f\"Output shape: {output.shape}\")\n",
        "print(f\"Attention weights shape: {attn_weights.shape}\")\n",
        "\n",
        "# Visualize attention for first batch\n",
        "visualize_attention(attn_weights[0].detach().numpy(), title=\"PyTorch Attention Head\")\n",
        "\n",
        "# Model summary\n",
        "summary(attention_head, input_data=[x, mask], verbose=0)"
      ],
      "metadata": {
        "colab": {
          "base_uri": "https://localhost:8080/",
          "height": 1000
        },
        "id": "5TN1hUlDpgVh",
        "outputId": "2bd1d11c-0131-46b9-dcfd-9e6cc2efcd9b"
      },
      "execution_count": 9,
      "outputs": [
        {
          "output_type": "stream",
          "name": "stdout",
          "text": [
            "Input shape: torch.Size([2, 8, 64])\n",
            "Mask shape: torch.Size([1, 8, 8])\n",
            "Output shape: torch.Size([2, 8, 64])\n",
            "Attention weights shape: torch.Size([2, 8, 8])\n"
          ]
        },
        {
          "output_type": "display_data",
          "data": {
            "text/plain": [
              "<Figure size 1000x800 with 2 Axes>"
            ],
            "image/png": "[encoded data removed]"
          },
          "metadata": {}
        },
        {
          "output_type": "execute_result",
          "data": {
            "text/plain": [
              "==========================================================================================\n",
              "Layer (type:depth-idx)                   Output Shape              Param #\n",
              "==========================================================================================\n",
              "AttentionHead                            [2, 8, 64]                --\n",
              "├─Linear: 1-1                            [2, 8, 16]                1,024\n",
              "├─Linear: 1-2                            [2, 8, 16]                1,024\n",
              "├─Linear: 1-3                            [2, 8, 16]                1,024\n",
              "├─Linear: 1-4                            [2, 8, 64]                1,024\n",
              "==========================================================================================\n",
              "Total params: 4,096\n",
              "Trainable params: 4,096\n",
              "Non-trainable params: 0\n",
              "Total mult-adds (Units.MEGABYTES): 0.01\n",
              "==========================================================================================\n",
              "Input size (MB): 0.00\n",
              "Forward/backward pass size (MB): 0.01\n",
              "Params size (MB): 0.02\n",
              "Estimated Total Size (MB): 0.04\n",
              "=========================================================================================="
            ]
          },
          "metadata": {},
          "execution_count": 9
        }
      ]
    },
    {
      "cell_type": "markdown",
      "source": [
        "#Multi-Head Attention with NumPy\n"
      ],
      "metadata": {
        "id": "KpI586KEtJ54"
      }
    },
    {
      "cell_type": "code",
      "source": [
        "class MultiHeadAttentionNumPy:\n",
        "  \"\"\"Multi-Head attention mechanism\"\"\"\n",
        "\n",
        "  def __init__(self, d_model, n_heads, d_k, d_v):\n",
        "    self.d_model = d_model\n",
        "    self.n_heads = n_heads\n",
        "    self.d_k = d_k\n",
        "    self.d_v = d_k\n",
        "\n",
        "    self.W_Q = [np.random.randn(d_model, d_k) * 0.1 for _ in range(n_heads)  ]\n",
        "    self.W_K = [np.random.randn(d_model, d_k) * 0.1 for _ in range(n_heads)  ]\n",
        "    self.W_V = [np.random.randn(d_model, d_v) * 0.1 for _ in range(n_heads)  ]\n",
        "    self.W_O = np.random.randn(n_heads * d_v, d_model) * 0.1\n",
        "\n",
        "    print(f\"Multi-head attention: {n_heads} heads, d_k={d_k}, d_v={d_v}\")\n",
        "\n",
        "  def forward(self, X):\n",
        "    \"\"\"\n",
        "    X: [N, d_model]\n",
        "    Returns: [N, d_model], list of attention weights per head\n",
        "    \"\"\"\n",
        "\n",
        "\n",
        "    N = X.shape[0]\n",
        "    head_outputs = []\n",
        "    attention_weights_all = []\n",
        "\n",
        "    # Processing each head\n",
        "    for h in range(self.n_heads):\n",
        "      # Compute Q, K, V per head\n",
        "      Q_h = X @ self.W_Q[h]\n",
        "      K_h = X @ self.W_K[h]\n",
        "      V_h = X @ self.W_V[h]\n",
        "\n",
        "      # scaled dot prod attntion\n",
        "      scores = (Q_h @ K_h.T) / (np.sqrt(self.d_k))\n",
        "\n",
        "      # causal mask\n",
        "      mask = np.triu(np.ones((N,N)) * -np.inf,k=1 )\n",
        "      scores = scores + mask\n",
        "\n",
        "      # softmax with optimization and normalization\n",
        "      exp_scores = np.exp(scores - np.max(scores, axis=-1, keepdims=True))  # Numerical stability trick: subtract max before exp\n",
        "      attn_weights = exp_scores / np.sum(exp_scores, axis=-1, keepdims=True) # Normalize to get probabilities [N, N]\n",
        "      attention_weights_all.append(attn_weights)\n",
        "\n",
        "      # Weighted sum\n",
        "      head_out = attn_weights @ V_h  # [N, N] × [N, d_v] = [N, d_v] - Weighted combination of values\n",
        "      head_outputs.append(head_out)\n",
        "\n",
        "    # Concat heads\n",
        "    concat_heads = np.concatenate(head_outputs, axis=1) # [N, d_v] × n_heads → [N, n_heads * d_v]\n",
        "    print(f\"Concatenated heads shape: {concat_heads.shape}\")\n",
        "\n",
        "    # Output projection\n",
        "    output = concat_heads @ self.W_O  # [N, n_heads*d_v] × [n_heads*d_v, d_model] = [N, d_model] - Final output\n",
        "\n",
        "    return(output, attention_weights_all)"
      ],
      "metadata": {
        "id": "sDKQnB1borfI"
      },
      "execution_count": 10,
      "outputs": []
    },
    {
      "cell_type": "markdown",
      "source": [
        "### Test multi-head attention\n"
      ],
      "metadata": {
        "id": "ltwdayDkxn3Q"
      }
    },
    {
      "cell_type": "code",
      "source": [
        "d_model, n_heads = 64, 4  # 64-dim embeddings, 4 parallel attention heads\n",
        "d_k = d_v = d_model // n_heads  # 16 dims per head (64/4)\n",
        "mha = MultiHeadAttentionNumPy(d_model, n_heads, d_k, d_v)\n",
        "X = np.random.randn(8, d_model)  # Input: 8 tokens, each 64-dimensional\n",
        "output, attn_weights_list = mha.forward(X)\n",
        "print(f\"Output shape: {output.shape}\")  # Should be [8, 64]\n",
        "print(f\"Number of attention matrices: {len(attn_weights_list)}\")  # Should be 4 (one per head)\n",
        "\n",
        "# Visualize attention from different heads\n",
        "fig, axes = plt.subplots(1, n_heads, figsize=(15, 3))\n",
        "for i, (ax, attn) in enumerate(zip(axes, attn_weights_list)):\n",
        "    sns.heatmap(attn, ax=ax, cmap='Blues', cbar=False, square=True)  # Each head learns different attention patterns\n",
        "    ax.set_title(f\"Head {i+1}\")\n",
        "plt.suptitle(\"Attention Patterns Across Heads\")  # Different heads capture different relationships\n",
        "plt.tight_layout()\n",
        "plt.show()"
      ],
      "metadata": {
        "colab": {
          "base_uri": "https://localhost:8080/",
          "height": 230
        },
        "id": "BoFLKK2ktRZn",
        "outputId": "56b127e9-fd3d-445d-c7d8-4df912d0e5fc"
      },
      "execution_count": 11,
      "outputs": [
        {
          "output_type": "stream",
          "name": "stdout",
          "text": [
            "Multi-head attention: 4 heads, d_k=16, d_v=16\n",
            "Concatenated heads shape: (8, 64)\n",
            "Output shape: (8, 64)\n",
            "Number of attention matrices: 4\n"
          ]
        },
        {
          "output_type": "display_data",
          "data": {
            "text/plain": [
              "<Figure size 1500x300 with 4 Axes>"
            ],
            "image/png": "[encoded data removed]"
          },
          "metadata": {}
        }
      ]
    },
    {
      "cell_type": "markdown",
      "source": [
        "#Multi-Head Attention with PyTorch"
      ],
      "metadata": {
        "id": "7SllUXYMxyaE"
      }
    },
    {
      "cell_type": "code",
      "source": [
        "class MultiHeadAttention(nn.Module):\n",
        "  def __init__(self, d_model, n_heads, dropout=0.1):\n",
        "    super().__init__()\n",
        "\n",
        "    assert d_model % n_heads == 0 # Ensure d_model is divisible by n_heads for even split\n",
        "\n",
        "    self.d_model = d_model\n",
        "    self.n_heads = n_heads\n",
        "    self.d_k = d_model // n_heads\n",
        "\n",
        "    # Single projection for all heads (more efficient)\n",
        "    self.W_Q = nn.Linear(d_model, d_model, bias=False)\n",
        "    self.W_K = nn.Linear(d_model, d_model, bias=False)\n",
        "    self.W_V = nn.Linear(d_model, d_model, bias=False)\n",
        "    self.W_O = nn.Linear(d_model, d_model, bias=False)\n",
        "\n",
        "    self.dropout = nn.Dropout(dropout) # Regularization\n",
        "    self.scale = 1.0 / math.sqrt(self.d_k)\n",
        "\n",
        "  def forward(self, x, mask=None):\n",
        "    \"\"\"\n",
        "    x: [batch, seq_len, d_model]  # Batched input for parallel processing\n",
        "    Returns: [batch, seq_len, d_model]\n",
        "    \"\"\"\n",
        "\n",
        "    batch_size, seq_len, d_model = x.shape\n",
        "\n",
        "    # Linear projections in batch from d_model => n_heads * d_k\n",
        "    Q = self.W_Q(x).view(batch_size, seq_len, self.n_heads, self.d_k)  # [B, L, d] → [B, L, h, d_k] - Reshape to separate heads. view() is O(1) - just changes stride info. Each head gets d_k dimensions\n",
        "    K = self.W_K(x).view(batch_size, seq_len, self.n_heads, self.d_k)\n",
        "    V = self.W_V(x).view(batch_size, seq_len, self.n_heads, self.d_k)\n",
        "\n",
        "    # Transpose for attention: [batch, n_heads, seq_len, d_k].  [B, L, h, d_k] -> [B, h, L, d_k]\n",
        "    Q = Q.transpose(1,2) # moves position 1 to position 2\n",
        "    K = K.transpose(1,2)\n",
        "    V = V.transpose(1,2)\n",
        "\n",
        "    print(f\"Q shape after transpose: {Q.shape}\")\n",
        "\n",
        "\n",
        "    # Scaled dot-product attention\n",
        "    scores = torch.matmul(Q, K.transpose(-2, -1)) * self.scale  # [B, h, L, d_k] × [B, h, d_k, L] = [B, h, L, L]\n",
        "    print(f\"Attention scores shape: {scores.shape}\")  # Each position attends to all positions\n",
        "\n",
        "\n",
        "    # Apply mask\n",
        "    if mask is not None:\n",
        "       mask = mask.unsqueeze(0).unsqueeze(1) # [L,L] -> [1,L,L] broadcasting for heads dimension\n",
        "       scores = scores.masked_fill(mask == 0, -1e9)\n",
        "\n",
        "    # Softmax\n",
        "    attn_weights = F.softmax(scores,dim=-1)\n",
        "    attn_weights = self.dropout(attn_weights) # Dropout\n",
        "\n",
        "    # Apply attention to values\n",
        "    context = torch.matmul(attn_weights, V)  # [B, h, L, L] × [B, h, L, d_k] = [B, h, L, d_k] - Weighted sum of values\n",
        "\n",
        "    # Cncat heads\n",
        "    context = context.transpose(1, 2).contiguous().view(  # transpose back: [B, L, h, d_k]\n",
        "        batch_size, seq_len, d_model  # view: [B, L, h*d_k] = [B, L, d_model] - Merge all heads\n",
        "    )  # contiguous() ensures memory layout is sequential after transpose (required for view)\n",
        "    print(f\"Context after concatenation: {context.shape}\")\n",
        "\n",
        "    # final linear projection\n",
        "    output = self.W_O(context)  # [B, L, d_model] → [B, L, d_model] - Mix information from all heads\n",
        "\n",
        "    return(output, attn_weights)\n"
      ],
      "metadata": {
        "id": "PLOylm-oxiSP"
      },
      "execution_count": 22,
      "outputs": []
    },
    {
      "cell_type": "markdown",
      "source": [
        "### Test PyTorch Multi-head attention\n"
      ],
      "metadata": {
        "id": "iGM5WhXq4Drf"
      }
    },
    {
      "cell_type": "code",
      "source": [
        "mha_torch = MultiHeadAttention(d_model=128, n_heads=8)  # 8 heads × 16 dims = 128 total\n",
        "x = torch.randn(2, 10, 128)  # [batch=2, seq=10, d_model=128] - 2 sequences, 10 tokens each\n",
        "mask = torch.tril(torch.ones(10, 10))  # Lower triangular causal mask (can't attend to future)\n",
        "output, attn_weights = mha_torch(x, mask)\n",
        "print(f\"\\nFinal output shape: {output.shape}\")  # Should be [2, 10, 128]\n",
        "print(f\"Attention weights shape: {attn_weights.shape}\")  # [2, 8, 10, 10] - attention map per head per batch\n",
        "\n",
        "# Create computation graph\n",
        "y = output.mean()  # Scalar output needed for autograd graph\n",
        "graph = make_dot(y, params=dict(mha_torch.named_parameters()))  # Visualize backward pass connections\n",
        "graph.render(\"Multi_head_attention\", format=\"png\", cleanup=True)\n",
        "print(\"Computation graph saved as 'Multi_head_attention.png'\")"
      ],
      "metadata": {
        "colab": {
          "base_uri": "https://localhost:8080/"
        },
        "id": "-Yl3hV0z2gFE",
        "outputId": "7954e651-2ebc-4df3-d623-2d9dd0f28821"
      },
      "execution_count": 23,
      "outputs": [
        {
          "output_type": "stream",
          "name": "stdout",
          "text": [
            "Q shape after transpose: torch.Size([2, 8, 10, 16])\n",
            "Attention scores shape: torch.Size([2, 8, 10, 10])\n",
            "Context after concatenation: torch.Size([2, 10, 128])\n",
            "\n",
            "Final output shape: torch.Size([2, 10, 128])\n",
            "Attention weights shape: torch.Size([2, 8, 10, 10])\n",
            "Computation graph saved as 'Multi_head_attention.png'\n"
          ]
        }
      ]
    },
    {
      "cell_type": "code",
      "source": [],
      "metadata": {
        "id": "_SdO_WSP386c"
      },
      "execution_count": null,
      "outputs": []
    }
  ],
  "metadata": {
    "colab": {
      "provenance": [],
      "gpuType": "T4"
    },
    "kernelspec": {
      "display_name": "Python 3",
      "name": "python3"
    },
    "language_info": {
      "name": "python"
    },
    "accelerator": "GPU"
  },
  "nbformat": 4,
  "nbformat_minor": 0
}