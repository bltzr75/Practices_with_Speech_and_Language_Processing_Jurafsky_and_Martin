{
  "nbformat": 4,
  "nbformat_minor": 0,
  "metadata": {
    "colab": {
      "provenance": []
    },
    "kernelspec": {
      "name": "python3",
      "display_name": "Python 3"
    },
    "language_info": {
      "name": "python"
    }
  },
  "cells": [
    {
      "cell_type": "code",
      "source": [
        "import numpy as np\n",
        "import pandas as pd\n",
        "from collections import defaultdict, Counter\n",
        "from sklearn.feature_extraction.text import TfidfVectorizer\n",
        "import matplotlib.pyplot as plt"
      ],
      "metadata": {
        "id": "0F0wpwgKlkUI"
      },
      "execution_count": null,
      "outputs": []
    },
    {
      "cell_type": "markdown",
      "source": [
        "##Word-Document and Word-Word Matrices"
      ],
      "metadata": {
        "id": "FQ7kAcxdlhB4"
      }
    },
    {
      "cell_type": "code",
      "execution_count": null,
      "metadata": {
        "id": "azfXOpePHlb9"
      },
      "outputs": [],
      "source": [
        "# Example documents (Shakespeare plays)\n",
        "documents = {\n",
        "    \"As You Like It\": \"battle good fool wit love forest magic\",\n",
        "    \"Twelfth Night\": \"good fool wit love comedy mistaken identity\",\n",
        "    \"Julius Caesar\": \"battle battle battle good fool war rome politics\",\n",
        "    \"Henry V\": \"battle battle battle battle good wit war king england\"\n",
        "}"
      ]
    },
    {
      "cell_type": "code",
      "source": [],
      "metadata": {
        "colab": {
          "base_uri": "https://localhost:8080/"
        },
        "id": "YetN5x8UNvh9",
        "outputId": "c6f13f74-2e4a-47a1-cd52-7464ae2fb2d3"
      },
      "execution_count": null,
      "outputs": [
        {
          "output_type": "execute_result",
          "data": {
            "text/plain": [
              "['battle',\n",
              " 'comedy',\n",
              " 'england',\n",
              " 'fool',\n",
              " 'forest',\n",
              " 'good',\n",
              " 'identity',\n",
              " 'king',\n",
              " 'love',\n",
              " 'magic',\n",
              " 'mistaken',\n",
              " 'politics',\n",
              " 'rome',\n",
              " 'war',\n",
              " 'wit']"
            ]
          },
          "metadata": {},
          "execution_count": 42
        }
      ]
    },
    {
      "cell_type": "code",
      "source": [
        "def create_term_document_matrix(documents):\n",
        "  \"\"\" Creates term-document matrix\n",
        "  Rows represent words (terms)\n",
        "  Columns represent docs\n",
        "  Cells have the frequencies (counts)\"\"\"\n",
        "\n",
        "  all_the_words = set()\n",
        "\n",
        "  for doc in documents.values():\n",
        "    all_the_words.update(doc.split())\n",
        "\n",
        "  vocab = sorted(all_the_words)\n",
        "  print(vocab)\n",
        "\n",
        "  matrix = []\n",
        "\n",
        "  for word in vocab:\n",
        "    row = []\n",
        "\n",
        "    for doc_name, doc_text in documents.items():\n",
        "      count = doc_text.split().count(word)\n",
        "      row.append(count)\n",
        "\n",
        "    matrix.append(row)\n",
        "\n",
        "  print(matrix)\n",
        "\n",
        "\n",
        "  df = pd.DataFrame(matrix,\n",
        "                    index=vocab,\n",
        "                    columns=list(documents.keys()))\n",
        "\n"
      ],
      "metadata": {
        "colab": {
          "base_uri": "https://localhost:8080/"
        },
        "id": "8sSQ_ki8MT8N",
        "outputId": "4ddc8006-8fa4-44d3-b1f5-68e77bc285a1"
      },
      "execution_count": null,
      "outputs": [
        {
          "output_type": "execute_result",
          "data": {
            "text/plain": [
              "[[1, 0, 3, 4],\n",
              " [0, 1, 0, 0],\n",
              " [0, 0, 0, 1],\n",
              " [1, 1, 1, 0],\n",
              " [1, 0, 0, 0],\n",
              " [1, 1, 1, 1],\n",
              " [0, 1, 0, 0],\n",
              " [0, 0, 0, 1],\n",
              " [1, 1, 0, 0],\n",
              " [1, 0, 0, 0],\n",
              " [0, 1, 0, 0],\n",
              " [0, 0, 1, 0],\n",
              " [0, 0, 1, 0],\n",
              " [0, 0, 1, 1],\n",
              " [1, 1, 0, 1]]"
            ]
          },
          "metadata": {},
          "execution_count": 43
        }
      ]
    },
    {
      "cell_type": "code",
      "source": [],
      "metadata": {
        "id": "nUNgBiI3NjWc"
      },
      "execution_count": null,
      "outputs": []
    },
    {
      "cell_type": "code",
      "source": [],
      "metadata": {
        "id": "cORocyH_nzYK"
      },
      "execution_count": null,
      "outputs": []
    },
    {
      "cell_type": "code",
      "source": [],
      "metadata": {
        "id": "x1jn4336ny6m"
      },
      "execution_count": null,
      "outputs": []
    }
  ]
}